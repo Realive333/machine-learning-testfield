{
 "cells": [
  {
   "cell_type": "code",
   "execution_count": 1,
   "id": "7e72867c-38ce-4ef6-9a00-cb6a09bf2f80",
   "metadata": {},
   "outputs": [],
   "source": [
    "class Work:\n",
    "    def __init__(self, i, t, c, l):\n",
    "        self.title = t\n",
    "        self.content = c\n",
    "        self.labels = l\n",
    "        self.id = i\n",
    "    def __str__(self):\n",
    "        return f\"id: \\\"{self.id}\\\"\\ntitle: \\\"{self.title}\\\"\\ncontent: \\\"{self.content}\\\"\\nlabels: {self.labels}\\n\""
   ]
  },
  {
   "cell_type": "code",
   "execution_count": 2,
   "id": "844c0884-dab7-4a46-8a1e-8b8dd5e143db",
   "metadata": {},
   "outputs": [],
   "source": [
    "def load_jsonl(path):\n",
    "    data=[]\n",
    "    with open(path, 'r', encoding='utf-8') as reader:\n",
    "        for line in reader:\n",
    "            data.append(json.loads(line))\n",
    "    return data"
   ]
  },
  {
   "cell_type": "code",
   "execution_count": 3,
   "id": "91e54426-9ea4-4272-8625-269f440e7551",
   "metadata": {},
   "outputs": [],
   "source": [
    "def load_csv(path):\n",
    "    data=[]\n",
    "    with open(path, 'r', encoding='utf-8') as file:\n",
    "        rows = csv.reader(file)\n",
    "        for row in rows:\n",
    "            label = {\"id\": row[0], \"name\": row[1]}\n",
    "            data.append(label)\n",
    "    return data"
   ]
  },
  {
   "cell_type": "code",
   "execution_count": 4,
   "id": "8848e880-62bc-487b-86b3-bd3b8eb1a960",
   "metadata": {},
   "outputs": [],
   "source": [
    "def add_str(datas):\n",
    "    string = \"\"\n",
    "    for data in datas:\n",
    "        t_str = data['body']\n",
    "        t_str = t_str.replace(u'\\u3000', u'')\n",
    "        string += t_str\n",
    "    return string"
   ]
  },
  {
   "cell_type": "code",
   "execution_count": 5,
   "id": "5c3acc7d-9da2-4f6c-93c9-d16fc447686c",
   "metadata": {},
   "outputs": [],
   "source": [
    "def create_work(data):\n",
    "    if data['labels'] != None:\n",
    "        t_labels = create_label_vector(labels, data['labels'])\n",
    "    else:\n",
    "        t_labels = create_label_vector(labels, [\"\"])\n",
    "    \n",
    "    w = Work(data['id'], data['metadata']['title'], add_str(data['content'])[:512], t_labels)\n",
    "    return w"
   ]
  },
  {
   "cell_type": "code",
   "execution_count": 6,
   "id": "3b76f406-6805-40df-924f-ed1dac638fc7",
   "metadata": {},
   "outputs": [],
   "source": [
    "def create_label_vector(total_labels, target_labels):\n",
    "    return_label = []\n",
    "    for i, label in enumerate(total_labels):\n",
    "        for t_label in target_labels:\n",
    "            if label['name'] == t_label:\n",
    "                return_label.append(label['id'])\n",
    "    return return_label"
   ]
  },
  {
   "cell_type": "code",
   "execution_count": 7,
   "id": "59aeeb19-1fec-409f-a35f-b09fd8042246",
   "metadata": {},
   "outputs": [
    {
     "name": "stdout",
     "output_type": "stream",
     "text": [
      "[{'id': '11', 'name': 'TS'}, {'id': '12', 'name': 'スキル'}, {'id': '13', 'name': '夫婦'}, {'id': '14', 'name': 'ステータス'}, {'id': '15', 'name': '学生'}, {'id': '16', 'name': '後輩'}, {'id': '17', 'name': '少年'}, {'id': '18', 'name': '社会人'}, {'id': '18', 'name': 'サラリーマン'}, {'id': '19', 'name': '大学生'}]\n"
     ]
    }
   ],
   "source": [
    "import csv\n",
    "labels = load_csv(\"label_list_cleaned.csv\")\n",
    "print(labels[15:25])"
   ]
  },
  {
   "cell_type": "code",
   "execution_count": 8,
   "id": "7a4b0ee3-9260-4c41-9a10-d65b11fcbe68",
   "metadata": {},
   "outputs": [
    {
     "name": "stdout",
     "output_type": "stream",
     "text": [
      "312\n"
     ]
    }
   ],
   "source": [
    "unsortIds = [label['id'] for label in labels]\n",
    "ids = []\n",
    "for id in unsortIds:\n",
    "    if id not in ids:\n",
    "        ids.append(id)\n",
    "print(len(ids))"
   ]
  },
  {
   "cell_type": "code",
   "execution_count": 9,
   "id": "4f056373-325b-47e2-988f-4910fd3a25ab",
   "metadata": {},
   "outputs": [
    {
     "name": "stdout",
     "output_type": "stream",
     "text": [
      "{'男主人公': '1', '男性主人公': '1', '女主人公': '2', '女性主人公': '2', 'チート': '3', '主人公最強': '4', '最強': '4', '剣と魔法': '5', '剣': '6', '魔術': '7', '悪役令嬢': '8', '令嬢': '9', 'お嬢様': '9', '探偵': '10', '性転換': '11', 'TS': '11', 'スキル': '12', '夫婦': '13', 'ステータス': '14', '学生': '15', '後輩': '16', '少年': '17', '社会人': '18', 'サラリーマン': '18', '大学生': '19', '高校生': '20', '中学生': '21', '小学生': '22', 'おっさん': '23', 'ヒーロー': '24', '聖女': '25', '記憶喪失': '26', '狂気': '27', 'オタク': '28', '女装': '29', 'シスコン': '30', '恋人': '31', '英雄': '32', 'ぼっち': '33', '陰キャ': '34', '陰陽師': '35', '変身': '36', '作家': '37', '教師': '38', '先生': '38', '魔法': '39', '学園': '40', 'ダンジョン': '41', '超能力': '42', '異能': '42', '異能力': '42', '能力': '42', '異能力バトル': '42', '異能バトル': '42', 'ミリタリー': '43', '音楽': '44', '学校': '45', '高校': '45', '大学': '45', '料理': '46', '部活': '47', '海': '48', '宇宙': '49', 'スポーツ': '50', 'スマホ': '51', '桜': '52', '銃': '53', '喫茶店': '54', '野球': '55', '月': '56', 'ピアノ': '57', '宇宙人': '58', '神社': '59', '花': '60', '錬金術': '61', '病院': '62', '電車': '63', '直観': '64', '図書館': '65', '戦闘機': '66', '花言葉': '67', '昭和': '68', 'ファンタジー': '69', 'ハイファンタジー': '69', 'ローファンタジー': '69', '異世界': '70', '異世界転生': '70', '異世界転移': '70', '異世界ファンタジー': '70', '転移': '70', '転生': '70', '異世界召喚': '70', '青春': '71', '幻想': '72', '日常': '73', '日常系': '73', 'ほのぼの': '74', 'のんびり': '74', 'ハッピーエンド': '75', 'バッドエンド': '76', 'SF': '77', '呪い': '78', 'シリアス': '79', '現代': '80', 'バトル': '81', '戦闘': '81', '神話': '82', 'ざまぁ': '83', '冒険': '84', '雨': '85', '和風ファンタジー': '86', 'お仕事': '87', '仕事': '87', '追放': '88', '哲学': '89', 'ダークファンタジー': '90', 'ダーク': '90', '成り上がり': '91', '婚約破棄': '92', 'ボーイミーツガール': '93', '近未来': '94', '切ない': '95', '戦争': '96', '戦記': '96', '現代ファンタジー': '97', 'アクション': '98', '群像劇': '99', '怪談': '100', 'グルメ': '101', '復讐': '102', 'ゲーム': '103', '歴史': '104', 'スローライフ': '105', '無双': '106', '夢': '107', 'どんでん返し': '108', '夏': '109', '夏休み': '110', '旅': '111', 'ヒューマンドラマ': '112', '感動': '113', '思い出': '114', 'タイムリープ': '115', 'タイムスリップ': '115', 'パニック': '129', 'スクールラブ': '117', '成長': '118', 'VRMMO': '119', 'ギャグ': '120', 'コメディー': '121', 'コメディ': '121', 'ラブコメ': '122', '勘違い': '123', '乙女ゲーム': '124', 'オカルト': '125', 'ミステリー': '126', 'ミステリ': '126', 'サスペンス': '127', 'ホラー': '128', '殺人': '130', 'デスゲーム': '131', 'ほっこり': '132', '謎解き': '133', '不思議': '134', '都市伝説': '135', 'クリスマス': '136', '和風': '137', 'じれじれ': '138', 'ディストピア': '139', 'ポストアポカリプス': '140', 'ご都合主義': '141', '推理': '142', 'ハードボイルド': '143', '三角関係': '144', '未来': '145', '死': '146', '伝奇': '147', '人生': '148', 'いじめ': '149', '内政': '150', '王道': '151', '飯テロ': '152', '田舎': '153', '笑い': '154', 'サバイバル': '155', '戦国時代': '156', 'サイバーパンク': '157', '怖い話': '158', '格闘技': '159', 'バンド': '160', 'パロディ': '161', '中世': '162', 'クトゥルフ神話': '163', '雪': '164', 'バレンタイン': '165', '記憶': '166', 'スペースオペラ': '167', 'シュール': '168', '現代日本': '169', '科学': '170', '泣ける': '171', '手紙': '172', '下ネタ': '173', '終末': '174', '夜': '175', '幕末': '176', '昔話': '177', '裏切り': '178', '冬': '179', 'ゴール': '180', 'もう遅い': '181', '孤独': '182', 'ドラマ': '183', 'SNS': '184', '不条理': '185', '病気': '186', '江戸時代': '187', '宗教': '188', '走る': '189', 'スチームパンク': '190', '秘密': '191', '出会い': '192', '星': '193', '映画': '194', '架空戦記': '195', '戦国': '196', '春': '197', 'ドタバタ': '198', '万人向け': '199', '男性向け': '200', '女性向け': '201', 'R15': '202', '魔王': '203', '勇者': '204', '友情': '205', 'ロボット': '206', 'もふもふ': '207', 'モフモフ': '207', '猫': '208', '犬': '209', '動物': '210', '家族': '211', '親子': '212', '怪異': '213', '怪奇': '213', 'あやかし': '214', '妖怪': '214', '人外': '214', '魔物': '215', 'モンスター': '215', '双子': '216', '幽霊': '217', '冒険者': '218', 'エルフ': '219', '吸血鬼': '220', 'ドラゴン': '221', '竜': '221', '騎士': '222', '悪魔': '223', '神': '224', '神様': '224', '女神': '225', 'イケメン': '226', '貴族': '227', '人工知能': '228', 'AI': '228', '王子': '229', '精霊': '230', '妖精': '231', '先輩': '232', '奴隷': '233', '天使': '234', '男の娘': '235', '兄妹': '236', '鬼': '237', '獣人': '238', 'ゾンビ': '239', '警察': '240', 'ブラコン': '241', '主従': '242', '死神': '243', 'サイコパス': '244', '親友': '245', '兄弟': '246', '可愛い': '247', '怪獣': '248', '刀': '249', '仲間': '250', '魔術師': '251', 'バディ': '252', '思春期': '253', '擬人化': '254', '尊い': '255', 'おうち時間': '256', '家族愛': '257', 'ジュブナイル': '258', '美少女': '259', '少女': '259', '女の子': '259', '幼馴染': '260', '幼馴染み': '260', '幼なじみ': '260', '女子高生': '261', 'JK': '261', '妹': '262', 'アイドル': '263', 'メイド': '264', 'アンドロイド': '265', '魔女': '266', '魔法使い': '267', '魔法少女': '268', '姉妹': '269', '義妹': '270', 'ギャル': '271', '巫女': '272', '王女': '273', 'ヒロイン': '274', 'Vtuber': '275', 'ストーカー': '276', 'ヤンデレ': '277', 'ツンデレ': '278', 'メンヘラ': '279', 'クーデレ': '280', 'ハーレム': '281', '後宮': '281', '溺愛': '282', '社会人百合': '305', 'ガールズラブ': '284', '百合': '284', 'GL': '284', 'ボーイズラブ': '285', 'BL': '285', 'ブロマンス': '285', '年の差': '286', '歳の差': '286', '結婚': '287', 'すれ違い': '288', '告白': '289', '身分差': '290', '恋愛': '291', '純愛': '291', '恋': '291', '愛': '291', '恋の話': '291', '初恋': '292', '失恋': '293', '不倫': '294', '悲恋': '295', '浮気': '296', '自殺': '297', '片思い': '298', '片想い': '298', '両片思い': '299', '両片想い': '299', '男女': '300', '同棲': '301', '同居': '301', '別れ': '302', '一途': '303', 'おねショタ': '304', '甘々': '306', 'あまあま': '306', '同性愛': '307', '嫉妬': '308', 'オフィスラブ': '309', '修羅場': '310', '異類婚姻譚': '311', '寝取られ': '312', 'NTR': '312'}\n"
     ]
    }
   ],
   "source": [
    "id2label = {label['id']:label['name'] for label in labels}\n",
    "label2id = {label['name']:label['id'] for label in labels}\n",
    "print(label2id)"
   ]
  },
  {
   "cell_type": "code",
   "execution_count": 10,
   "id": "b9fdbf25-c0a9-434d-97e4-8fea5f4f55ae",
   "metadata": {},
   "outputs": [
    {
     "name": "stdout",
     "output_type": "stream",
     "text": [
      "117735405488A-512.jsonl original lines: 9585\n",
      "117735405488A-512.jsonl cleaned lines: 9236\n"
     ]
    },
    {
     "name": "stderr",
     "output_type": "stream",
     "text": [
      "100%|████████████████████████████████████████████████████████████████████████████| 9236/9236 [00:02<00:00, 3152.47it/s]\n"
     ]
    },
    {
     "name": "stdout",
     "output_type": "stream",
     "text": [
      "117735405488B-512.jsonl original lines: 6480\n",
      "117735405488B-512.jsonl cleaned lines: 6253\n"
     ]
    },
    {
     "name": "stderr",
     "output_type": "stream",
     "text": [
      "100%|████████████████████████████████████████████████████████████████████████████| 6253/6253 [00:02<00:00, 2129.04it/s]\n"
     ]
    },
    {
     "name": "stdout",
     "output_type": "stream",
     "text": [
      "117735405488C-512.jsonl original lines: 8156\n",
      "117735405488C-512.jsonl cleaned lines: 7898\n"
     ]
    },
    {
     "name": "stderr",
     "output_type": "stream",
     "text": [
      "100%|████████████████████████████████████████████████████████████████████████████| 7898/7898 [00:03<00:00, 2392.05it/s]\n"
     ]
    },
    {
     "name": "stdout",
     "output_type": "stream",
     "text": [
      "117735405489A-512.jsonl original lines: 7418\n",
      "117735405489A-512.jsonl cleaned lines: 7168\n"
     ]
    },
    {
     "name": "stderr",
     "output_type": "stream",
     "text": [
      "100%|████████████████████████████████████████████████████████████████████████████| 7168/7168 [00:03<00:00, 1838.33it/s]\n"
     ]
    },
    {
     "name": "stdout",
     "output_type": "stream",
     "text": [
      "117735405489B-512.jsonl original lines: 6471\n",
      "117735405489B-512.jsonl cleaned lines: 6322\n"
     ]
    },
    {
     "name": "stderr",
     "output_type": "stream",
     "text": [
      "100%|████████████████████████████████████████████████████████████████████████████| 6322/6322 [00:03<00:00, 1800.31it/s]\n"
     ]
    },
    {
     "name": "stdout",
     "output_type": "stream",
     "text": [
      "11773540549-512.jsonl original lines: 7539\n",
      "11773540549-512.jsonl cleaned lines: 7254\n"
     ]
    },
    {
     "name": "stderr",
     "output_type": "stream",
     "text": [
      "100%|████████████████████████████████████████████████████████████████████████████| 7254/7254 [00:03<00:00, 1890.70it/s]\n"
     ]
    },
    {
     "name": "stdout",
     "output_type": "stream",
     "text": [
      "1177354055-512.jsonl original lines: 2958\n",
      "1177354055-512.jsonl cleaned lines: 2861\n"
     ]
    },
    {
     "name": "stderr",
     "output_type": "stream",
     "text": [
      "100%|████████████████████████████████████████████████████████████████████████████| 2861/2861 [00:01<00:00, 2334.15it/s]\n"
     ]
    },
    {
     "name": "stdout",
     "output_type": "stream",
     "text": [
      "1681641041-512.jsonl original lines: 466\n",
      "1681641041-512.jsonl cleaned lines: 447\n"
     ]
    },
    {
     "name": "stderr",
     "output_type": "stream",
     "text": [
      "100%|██████████████████████████████████████████████████████████████████████████████| 447/447 [00:00<00:00, 1689.68it/s]\n"
     ]
    },
    {
     "name": "stdout",
     "output_type": "stream",
     "text": [
      "1681645221-512.jsonl original lines: 6774\n",
      "1681645221-512.jsonl cleaned lines: 6607\n"
     ]
    },
    {
     "name": "stderr",
     "output_type": "stream",
     "text": [
      "100%|████████████████████████████████████████████████████████████████████████████| 6607/6607 [00:02<00:00, 2722.94it/s]\n"
     ]
    },
    {
     "name": "stdout",
     "output_type": "stream",
     "text": [
      "1681645222-512.jsonl original lines: 3886\n",
      "1681645222-512.jsonl cleaned lines: 3749\n"
     ]
    },
    {
     "name": "stderr",
     "output_type": "stream",
     "text": [
      "100%|████████████████████████████████████████████████████████████████████████████| 3749/3749 [00:01<00:00, 2498.90it/s]\n"
     ]
    },
    {
     "name": "stdout",
     "output_type": "stream",
     "text": [
      "1681670018-512.jsonl original lines: 9\n",
      "1681670018-512.jsonl cleaned lines: 9\n"
     ]
    },
    {
     "name": "stderr",
     "output_type": "stream",
     "text": [
      "100%|██████████████████████████████████████████████████████████████████████████████████| 9/9 [00:00<00:00, 1635.77it/s]\n"
     ]
    },
    {
     "name": "stdout",
     "output_type": "stream",
     "text": [
      "1681670042-512.jsonl original lines: 9254\n",
      "1681670042-512.jsonl cleaned lines: 8837\n"
     ]
    },
    {
     "name": "stderr",
     "output_type": "stream",
     "text": [
      "100%|████████████████████████████████████████████████████████████████████████████| 8837/8837 [00:02<00:00, 3300.51it/s]\n"
     ]
    },
    {
     "name": "stdout",
     "output_type": "stream",
     "text": [
      "1681692761-512.jsonl original lines: 12\n",
      "1681692761-512.jsonl cleaned lines: 12\n"
     ]
    },
    {
     "name": "stderr",
     "output_type": "stream",
     "text": [
      "100%|████████████████████████████████████████████████████████████████████████████████| 12/12 [00:00<00:00, 2665.87it/s]\n"
     ]
    },
    {
     "name": "stdout",
     "output_type": "stream",
     "text": [
      "1681692785-512.jsonl original lines: 1788\n",
      "1681692785-512.jsonl cleaned lines: 1744\n"
     ]
    },
    {
     "name": "stderr",
     "output_type": "stream",
     "text": [
      "100%|████████████████████████████████████████████████████████████████████████████| 1744/1744 [00:00<00:00, 5091.09it/s]\n"
     ]
    },
    {
     "name": "stdout",
     "output_type": "stream",
     "text": [
      "1681692786-512.jsonl original lines: 171\n",
      "1681692786-512.jsonl cleaned lines: 168\n"
     ]
    },
    {
     "name": "stderr",
     "output_type": "stream",
     "text": [
      "100%|██████████████████████████████████████████████████████████████████████████████| 168/168 [00:00<00:00, 7465.39it/s]\n"
     ]
    },
    {
     "name": "stdout",
     "output_type": "stream",
     "text": [
      "4852201425-512.jsonl original lines: 1087\n",
      "4852201425-512.jsonl cleaned lines: 1062\n"
     ]
    },
    {
     "name": "stderr",
     "output_type": "stream",
     "text": [
      "100%|████████████████████████████████████████████████████████████████████████████| 1062/1062 [00:00<00:00, 1508.27it/s]"
     ]
    },
    {
     "name": "stdout",
     "output_type": "stream",
     "text": [
      "Time: 88.33619332313538\n"
     ]
    },
    {
     "name": "stderr",
     "output_type": "stream",
     "text": [
      "\n"
     ]
    }
   ],
   "source": [
    "import json\n",
    "import tqdm\n",
    "import time\n",
    "from os import walk\n",
    "\n",
    "works = []\n",
    "st_time = time.time()\n",
    "filenames = next(walk(\"testdata\"),  (None, None, []))[2]\n",
    "for filename in filenames:\n",
    "    datas = load_jsonl(f\"testdata/{filename}\")\n",
    "    \n",
    "    print(f\"{filename} original lines: {len(datas)}\")\n",
    "    for data in datas:\n",
    "        if data['labels'] == None:\n",
    "            datas.remove(data)\n",
    "    print(f\"{filename} cleaned lines: {len(datas)}\")\n",
    "    \n",
    "    for data in tqdm.tqdm(datas):\n",
    "        w = create_work(data)\n",
    "        work = {\"id\": w.id, \"title\": w.title, \"content\": w.content, \"labels\": w.labels}\n",
    "        works.append(work)\n",
    "        \n",
    "print(f\"Time: {time.time()-st_time}\")"
   ]
  },
  {
   "cell_type": "code",
   "execution_count": null,
   "id": "684513b4-1a32-4aff-8a44-b599e59875d7",
   "metadata": {},
   "outputs": [
    {
     "name": "stdout",
     "output_type": "stream",
     "text": [
      "69627\n"
     ]
    },
    {
     "name": "stderr",
     "output_type": "stream",
     "text": [
      " 85%|███████████████████████████████████████████████████████████████           | 59328/69627 [00:54<00:09, 1087.34it/s]"
     ]
    },
    {
     "name": "stdout",
     "output_type": "stream",
     "text": [
      "59328\n"
     ]
    },
    {
     "name": "stderr",
     "output_type": "stream",
     "text": [
      "\n"
     ]
    }
   ],
   "source": [
    "\"\"\"\n",
    "print(len(works))\n",
    "for work in tqdm.tqdm(works):\n",
    "    if work['labels'] == []:\n",
    "        works.remove(work)\n",
    "print(len(works))\n",
    "#print(works[6])\n",
    "\"\"\""
   ]
  },
  {
   "cell_type": "code",
   "execution_count": 75,
   "id": "fd010b9d-6e42-4901-a090-aff2abbe16fd",
   "metadata": {},
   "outputs": [
    {
     "name": "stdout",
     "output_type": "stream",
     "text": [
      "512\n"
     ]
    },
    {
     "name": "stderr",
     "output_type": "stream",
     "text": [
      "C:\\Users\\User\\AppData\\Local\\Temp/ipykernel_18728/2317894444.py:15: DeprecationWarning: `np.float` is a deprecated alias for the builtin `float`. To silence this warning, use `float` by itself. Doing this will not modify any behavior and is safe. If you specifically wanted the numpy scalar type, use `np.float64` here.\n",
      "Deprecated in NumPy 1.20; for more details and guidance: https://numpy.org/devdocs/release/1.20.0-notes.html#deprecations\n",
      "  works_labels = np.array(works_labels, dtype=np.float)\n"
     ]
    },
    {
     "data": {
      "text/html": [
       "<div>\n",
       "<style scoped>\n",
       "    .dataframe tbody tr th:only-of-type {\n",
       "        vertical-align: middle;\n",
       "    }\n",
       "\n",
       "    .dataframe tbody tr th {\n",
       "        vertical-align: top;\n",
       "    }\n",
       "\n",
       "    .dataframe thead th {\n",
       "        text-align: right;\n",
       "    }\n",
       "</style>\n",
       "<table border=\"1\" class=\"dataframe\">\n",
       "  <thead>\n",
       "    <tr style=\"text-align: right;\">\n",
       "      <th></th>\n",
       "      <th>id</th>\n",
       "      <th>title</th>\n",
       "      <th>content</th>\n",
       "      <th>labels</th>\n",
       "    </tr>\n",
       "  </thead>\n",
       "  <tbody>\n",
       "    <tr>\n",
       "      <th>0</th>\n",
       "      <td>1177354054880199356</td>\n",
       "      <td>彼女は頭の上にミカンを乗せていた。ミカンセイ空間にようこそ</td>\n",
       "      <td>web小説ですし、出来るだけくだけた書き方でいきます。この作品はノンセンス(荒唐無稽な物事を...</td>\n",
       "      <td>[0.0, 0.0, 0.0, 0.0, 0.0, 0.0, 0.0, 0.0, 0.0, ...</td>\n",
       "    </tr>\n",
       "    <tr>\n",
       "      <th>1</th>\n",
       "      <td>1177354054880199370</td>\n",
       "      <td>ノー・イヤー・ヒーロー</td>\n",
       "      <td>常識が変わる瞬間を見たことがあるか？例えばクラハムベルがはじめて遠距離通信を行った瞬間とか、...</td>\n",
       "      <td>[0.0, 0.0, 0.0, 0.0, 0.0, 0.0, 0.0, 0.0, 0.0, ...</td>\n",
       "    </tr>\n",
       "    <tr>\n",
       "      <th>2</th>\n",
       "      <td>1177354054880199563</td>\n",
       "      <td>星の代わりに</td>\n",
       "      <td>今は午後一時半。お腹に少しは物を入れている。タバコもいっぷくすませたし、あとにすることは限ら...</td>\n",
       "      <td>[0.0, 0.0, 0.0, 0.0, 0.0, 0.0, 0.0, 0.0, 0.0, ...</td>\n",
       "    </tr>\n",
       "    <tr>\n",
       "      <th>3</th>\n",
       "      <td>1177354054880199764</td>\n",
       "      <td>長耳のベアラー</td>\n",
       "      <td>必要とされる場所には自然と人は集まってくる。人が集まれば活気が出来上がり、夜でも賑やかな街に...</td>\n",
       "      <td>[0.0, 0.0, 0.0, 0.0, 0.0, 0.0, 0.0, 0.0, 0.0, ...</td>\n",
       "    </tr>\n",
       "    <tr>\n",
       "      <th>4</th>\n",
       "      <td>1177354054880199944</td>\n",
       "      <td>海の底へ</td>\n",
       "      <td>「玲さんは、なんでこんなところまで来たの？」拓真に聞かれる。「…だから、拓真に会いにだよ。」...</td>\n",
       "      <td>[0.0, 0.0, 0.0, 0.0, 0.0, 0.0, 0.0, 0.0, 0.0, ...</td>\n",
       "    </tr>\n",
       "  </tbody>\n",
       "</table>\n",
       "</div>"
      ],
      "text/plain": [
       "                    id                          title  \\\n",
       "0  1177354054880199356  彼女は頭の上にミカンを乗せていた。ミカンセイ空間にようこそ   \n",
       "1  1177354054880199370                    ノー・イヤー・ヒーロー   \n",
       "2  1177354054880199563                         星の代わりに   \n",
       "3  1177354054880199764                        長耳のベアラー   \n",
       "4  1177354054880199944                           海の底へ   \n",
       "\n",
       "                                             content  \\\n",
       "0  web小説ですし、出来るだけくだけた書き方でいきます。この作品はノンセンス(荒唐無稽な物事を...   \n",
       "1  常識が変わる瞬間を見たことがあるか？例えばクラハムベルがはじめて遠距離通信を行った瞬間とか、...   \n",
       "2  今は午後一時半。お腹に少しは物を入れている。タバコもいっぷくすませたし、あとにすることは限ら...   \n",
       "3  必要とされる場所には自然と人は集まってくる。人が集まれば活気が出来上がり、夜でも賑やかな街に...   \n",
       "4  「玲さんは、なんでこんなところまで来たの？」拓真に聞かれる。「…だから、拓真に会いにだよ。」...   \n",
       "\n",
       "                                              labels  \n",
       "0  [0.0, 0.0, 0.0, 0.0, 0.0, 0.0, 0.0, 0.0, 0.0, ...  \n",
       "1  [0.0, 0.0, 0.0, 0.0, 0.0, 0.0, 0.0, 0.0, 0.0, ...  \n",
       "2  [0.0, 0.0, 0.0, 0.0, 0.0, 0.0, 0.0, 0.0, 0.0, ...  \n",
       "3  [0.0, 0.0, 0.0, 0.0, 0.0, 0.0, 0.0, 0.0, 0.0, ...  \n",
       "4  [0.0, 0.0, 0.0, 0.0, 0.0, 0.0, 0.0, 0.0, 0.0, ...  "
      ]
     },
     "execution_count": 75,
     "metadata": {},
     "output_type": "execute_result"
    }
   ],
   "source": [
    "import pandas as pd\n",
    "from sklearn.preprocessing import MultiLabelBinarizer\n",
    "\"\"\"\n",
    "CUT DOWN WORKS\n",
    "\"\"\"\n",
    "works = works[:512]\n",
    "print(len(works))\n",
    "works_id = [work['id'] for work in works]\n",
    "works_title = [work['title'] for work in works]\n",
    "works_content = [work['content'] for work in works]\n",
    "\n",
    "#mlb = MultiLabelBinarizer(classes=(ids))\n",
    "works_labels = [work['labels'] for work in works]\n",
    "works_labels = mlb.fit_transform(works_labels)\n",
    "works_labels = np.array(works_labels, dtype=np.float)\n",
    "#print(works_labels)\n",
    "works_df = pd.DataFrame({'id': works_id, 'title': works_title, 'content': works_content, 'labels': works_labels.tolist()})\n",
    "#works_df = pd.DataFrame({'id': works_id, 'title': works_title, 'content': works_content, 'labels': works_labels})\n",
    "works_df.head()"
   ]
  },
  {
   "cell_type": "code",
   "execution_count": 76,
   "id": "f3ddb658-85c2-4071-9c22-decd09fde46b",
   "metadata": {},
   "outputs": [],
   "source": [
    "import datasets\n",
    "from datasets import Dataset\n",
    "dataset = Dataset.from_pandas(works_df)\n",
    "train_testvalid = dataset.train_test_split(test_size=0.2)\n",
    "test_valid = train_testvalid['test'].train_test_split(test_size=0.5)\n",
    "dataset = datasets.DatasetDict({\n",
    "    'train': train_testvalid['train'],\n",
    "    'test': test_valid['test'],\n",
    "    'valid': test_valid['train']\n",
    "})"
   ]
  },
  {
   "cell_type": "code",
   "execution_count": 77,
   "id": "7f3fd685-d4df-4e09-90d8-2c87921ab80d",
   "metadata": {},
   "outputs": [
    {
     "name": "stdout",
     "output_type": "stream",
     "text": [
      "<class 'float'>\n"
     ]
    }
   ],
   "source": [
    "print(type(dataset['train'][0]['labels'][0]))"
   ]
  },
  {
   "cell_type": "code",
   "execution_count": 78,
   "id": "4f65b6d0-46f3-4450-a345-a88f574263c7",
   "metadata": {},
   "outputs": [
    {
     "name": "stderr",
     "output_type": "stream",
     "text": [
      "loading configuration file https://huggingface.co/cl-tohoku/bert-base-japanese-whole-word-masking/resolve/main/config.json from cache at C:\\Users\\User/.cache\\huggingface\\transformers\\573af37b6c39d672f2df687c06ad7d556476cbe43e5bf7771097187c45a3e7bf.abeb707b5d79387dd462e8bfb724637d856e98434b6931c769b8716c6f287258\n",
      "Model config BertConfig {\n",
      "  \"_name_or_path\": \"cl-tohoku/bert-base-japanese-whole-word-masking\",\n",
      "  \"architectures\": [\n",
      "    \"BertForMaskedLM\"\n",
      "  ],\n",
      "  \"attention_probs_dropout_prob\": 0.1,\n",
      "  \"classifier_dropout\": null,\n",
      "  \"hidden_act\": \"gelu\",\n",
      "  \"hidden_dropout_prob\": 0.1,\n",
      "  \"hidden_size\": 768,\n",
      "  \"initializer_range\": 0.02,\n",
      "  \"intermediate_size\": 3072,\n",
      "  \"layer_norm_eps\": 1e-12,\n",
      "  \"max_position_embeddings\": 512,\n",
      "  \"model_type\": \"bert\",\n",
      "  \"num_attention_heads\": 12,\n",
      "  \"num_hidden_layers\": 12,\n",
      "  \"pad_token_id\": 0,\n",
      "  \"position_embedding_type\": \"absolute\",\n",
      "  \"tokenizer_class\": \"BertJapaneseTokenizer\",\n",
      "  \"transformers_version\": \"4.19.2\",\n",
      "  \"type_vocab_size\": 2,\n",
      "  \"use_cache\": true,\n",
      "  \"vocab_size\": 32000\n",
      "}\n",
      "\n",
      "loading file https://huggingface.co/cl-tohoku/bert-base-japanese-whole-word-masking/resolve/main/vocab.txt from cache at C:\\Users\\User/.cache\\huggingface\\transformers\\15164357d71cd32532e56c1d7c2757141326ae17c53e2277bc417cc7c21da6ea.a7378a0cbee5cff668832a776d72b97a25479604fe9564d5595897f75049e7f4\n",
      "loading file https://huggingface.co/cl-tohoku/bert-base-japanese-whole-word-masking/resolve/main/added_tokens.json from cache at None\n",
      "loading file https://huggingface.co/cl-tohoku/bert-base-japanese-whole-word-masking/resolve/main/special_tokens_map.json from cache at None\n",
      "loading file https://huggingface.co/cl-tohoku/bert-base-japanese-whole-word-masking/resolve/main/tokenizer_config.json from cache at C:\\Users\\User/.cache\\huggingface\\transformers\\0e46f722799f19c3f0c53172545108a4b31847d3b9a2d5b100759f6673bd667b.08ae4e4044742b9cc7172698caf1da2524f5597ff8cf848114dd0b730cc44bdc\n",
      "loading configuration file https://huggingface.co/cl-tohoku/bert-base-japanese-whole-word-masking/resolve/main/config.json from cache at C:\\Users\\User/.cache\\huggingface\\transformers\\573af37b6c39d672f2df687c06ad7d556476cbe43e5bf7771097187c45a3e7bf.abeb707b5d79387dd462e8bfb724637d856e98434b6931c769b8716c6f287258\n",
      "Model config BertConfig {\n",
      "  \"_name_or_path\": \"cl-tohoku/bert-base-japanese-whole-word-masking\",\n",
      "  \"architectures\": [\n",
      "    \"BertForMaskedLM\"\n",
      "  ],\n",
      "  \"attention_probs_dropout_prob\": 0.1,\n",
      "  \"classifier_dropout\": null,\n",
      "  \"hidden_act\": \"gelu\",\n",
      "  \"hidden_dropout_prob\": 0.1,\n",
      "  \"hidden_size\": 768,\n",
      "  \"initializer_range\": 0.02,\n",
      "  \"intermediate_size\": 3072,\n",
      "  \"layer_norm_eps\": 1e-12,\n",
      "  \"max_position_embeddings\": 512,\n",
      "  \"model_type\": \"bert\",\n",
      "  \"num_attention_heads\": 12,\n",
      "  \"num_hidden_layers\": 12,\n",
      "  \"pad_token_id\": 0,\n",
      "  \"position_embedding_type\": \"absolute\",\n",
      "  \"tokenizer_class\": \"BertJapaneseTokenizer\",\n",
      "  \"transformers_version\": \"4.19.2\",\n",
      "  \"type_vocab_size\": 2,\n",
      "  \"use_cache\": true,\n",
      "  \"vocab_size\": 32000\n",
      "}\n",
      "\n"
     ]
    }
   ],
   "source": [
    "import numpy as np\n",
    "import torch\n",
    "from transformers import AutoModel, AutoTokenizer\n",
    "\n",
    "tokenizer = AutoTokenizer.from_pretrained('cl-tohoku/bert-base-japanese-whole-word-masking', mecab_kwargs={\"mecab_dic\": \"unidic\", \"mecab_option\": None})\n",
    "\n",
    "def preprocess_data(work):\n",
    "    text = work['content']\n",
    "    encoding = tokenizer(text, max_length=512, truncation=True, padding=\"max_length\")\n",
    "    encoding['labels'] = work['labels']\n",
    "    #print(encoding)\n",
    "    return encoding"
   ]
  },
  {
   "cell_type": "code",
   "execution_count": null,
   "id": "c8f921b2-cc18-462c-a91a-2c94c483847f",
   "metadata": {},
   "outputs": [
    {
     "data": {
      "application/vnd.jupyter.widget-view+json": {
       "model_id": "0f0590fd63344407904d7950da79819c",
       "version_major": 2,
       "version_minor": 0
      },
      "text/plain": [
       "  0%|          | 0/1 [00:00<?, ?ba/s]"
      ]
     },
     "metadata": {},
     "output_type": "display_data"
    }
   ],
   "source": [
    "encoding_dataset = dataset.map(preprocess_data, batched=True, remove_columns=dataset['train'].column_names)"
   ]
  },
  {
   "cell_type": "code",
   "execution_count": null,
   "id": "6022e157-db26-4a07-a8fe-772082c97b35",
   "metadata": {},
   "outputs": [],
   "source": [
    "exp = encoding_dataset['train'][0]\n",
    "print(exp)\n",
    "print(type(exp['labels'][0]))\n",
    "tokenizer.decode(exp['input_ids'])"
   ]
  },
  {
   "cell_type": "code",
   "execution_count": 48,
   "id": "f3b491b5-a577-4fb2-95b9-7744231889ba",
   "metadata": {},
   "outputs": [],
   "source": [
    "encoding_dataset.set_format(\"torch\")"
   ]
  },
  {
   "cell_type": "code",
   "execution_count": 49,
   "id": "cb71e4e4-f9ab-436d-8248-b2073ff5aa47",
   "metadata": {},
   "outputs": [
    {
     "name": "stdout",
     "output_type": "stream",
     "text": [
      "{'labels': tensor([0., 0., 0., 1., 0., 0., 0., 0., 0., 0., 0., 0., 0., 0., 0., 0., 0., 0.,\n",
      "        0., 1., 0., 0., 0., 0., 0., 0., 0., 0., 0., 0., 0., 0., 0., 0., 0., 0.,\n",
      "        0., 0., 1., 0., 0., 0., 0., 0., 0., 0., 0., 0., 0., 0., 0., 0., 0., 0.,\n",
      "        0., 0., 0., 0., 0., 0., 0., 0., 0., 0., 0., 0., 0., 0., 1., 1., 0., 0.,\n",
      "        0., 0., 0., 0., 0., 0., 0., 0., 0., 0., 0., 0., 0., 0., 0., 0., 0., 0.,\n",
      "        0., 0., 0., 0., 0., 0., 0., 0., 0., 0., 0., 0., 0., 0., 0., 0., 0., 0.,\n",
      "        0., 0., 1., 0., 0., 0., 0., 0., 0., 0., 0., 0., 0., 1., 0., 0., 0., 0.,\n",
      "        0., 0., 0., 0., 0., 0., 0., 0., 0., 0., 0., 0., 0., 0., 0., 0., 0., 0.,\n",
      "        0., 0., 0., 0., 0., 0., 0., 0., 0., 0., 0., 0., 0., 0., 0., 0., 0., 0.,\n",
      "        0., 0., 0., 0., 0., 0., 0., 0., 0., 0., 0., 0., 0., 0., 0., 0., 0., 0.,\n",
      "        0., 0., 0., 0., 0., 0., 0., 0., 0., 0., 0., 0., 0., 0., 0., 0., 0., 0.,\n",
      "        0., 0., 0., 0., 0., 0., 0., 0., 0., 0., 0., 0., 0., 0., 0., 0., 0., 0.,\n",
      "        0., 0., 0., 0., 0., 0., 0., 0., 0., 0., 0., 0., 0., 0., 0., 0., 0., 0.,\n",
      "        0., 0., 0., 0., 0., 0., 0., 0., 0., 0., 0., 0., 0., 0., 0., 0., 0., 0.,\n",
      "        0., 0., 0., 0., 0., 0., 0., 0., 0., 0., 0., 0., 0., 0., 0., 0., 0., 0.,\n",
      "        0., 0., 0., 0., 0., 0., 0., 0., 0., 0., 1., 0., 0., 0., 0., 0., 0., 0.,\n",
      "        0., 0., 0., 0., 0., 0., 0., 0., 0., 0., 0., 0., 0., 0., 0., 0., 0., 0.,\n",
      "        0., 0., 0., 0., 0., 0.]), 'input_ids': tensor([    2,  6950,   324,     7,     6,    52,   108,     5,   390,    14,\n",
      "         1991,     8,   390,     9, 21010,   276,    11,  8803,     6,  9871,\n",
      "        29087,    18,  2149,     5,   109,     7,    52,   181,     5,   324,\n",
      "           11, 14138,     8, 13059,     7, 15344, 28790,     6,   319,     7,\n",
      "            9,  3477,     8, 17923, 17356,    13,    15,    10,    59,  4307,\n",
      "            7,     6,  7672, 28713,     9,  9109,   704,     7,  1285,     5,\n",
      "         2436,    11,  2773,    10,     8,    36, 30239, 30239, 12077,  8268,\n",
      "          679,    38, 11283,  1381,    11,   501,    20,     6,  7672, 28713,\n",
      "            9,  1042,  7263,    15,    16,    21,    10, 14726,    11,   311,\n",
      "            7, 13043,    16,  2679,    11,  7043,     8,  1076, 29273,     5,\n",
      "          174,     7,  2021,     6,  7672, 28713,     5,   283,    11,   212,\n",
      "           16,    33,     5,     9, 14833,   813,     5,  2633,  2845,     8,\n",
      "         1257,   129,     7,   840,    15,     6,  2095,    28,  5735,     6,\n",
      "           53, 29345,    28, 16468,     8,  7672, 28713,    13,     9,   371,\n",
      "         2020,     5,  6211,    75,     8,    36, 30239, 30239, 12077,  8268,\n",
      "            9,     6,   218,    12,  2575,    29,    18,  2935,    38,  4508,\n",
      "           12, 27864,  7913,     7,  1961,    11,  5044,  1058,    75,  2935,\n",
      "          880,  1370,     5, 18513,    51,     7,  1042,  7263,    15,    16,\n",
      "           21,    10,     5,    14,     6,   219,     7,  1577,    10,     5,\n",
      "         3635, 28489,    29,     8,  7672, 28713,    13,    15,    16,     9,\n",
      "            6,   880,  1370,    64,   692,     7,  1704,    12,    28, 16184,\n",
      "           10,     8,  2372,    84,    10,  2726,    11,     6, 20786,     7,\n",
      "          737,    80,   124,     7, 16893,   687,     8,   880,  1370, 15060,\n",
      "          120,     9,     6, 12455, 13278,  1450, 13278,     5,    33,     6,\n",
      "         3039,    63,  4000, 29817,    65,     5,  6992,    75,     8,   945,\n",
      "        29164,    12,    53,    13, 14007,  1860,   312,   737,    80,   146,\n",
      "           11,  3869,    13,     6,  4243,     5,   735,    11,   909,  5342,\n",
      "           16,    33,   687,     5,   223, 28917,  5785,     5,   283,    14,\n",
      "          820,    18, 14217,    12,    31,     8,  4799,  3218,    12,   880,\n",
      "         1370,     7, 21701, 28710, 28479,     5,    53,   784,    14,  4341,\n",
      "         6527,    16,    33,   284,     6,  7672, 28713,     9,   549, 28469,\n",
      "           20,    10, 14726,     5,  2128,     7,  1042,  7263,    11,    15,\n",
      "           16,    21,    10,     8,   218,    11, 24267, 28506,    84,    10,\n",
      "            5,    29,    13,     6,  7672, 28713,     9,  4479,    10,     8,\n",
      "          218,    13,    28,     6,   735,     5,  3173,     7,  3759,    81,\n",
      "            7,   183,  7295,    13,    15,    80,  7672, 28713,    11,     1,\n",
      "           12,   735,    11, 22608,    10,     5,  3635, 28489,    29,     8,\n",
      "          306,     5,  3961,    29,    36,    22, 28451, 28468,     6,  1037,\n",
      "           75,    73,     3,     0,     0,     0,     0,     0,     0,     0,\n",
      "            0,     0,     0,     0,     0,     0,     0,     0,     0,     0,\n",
      "            0,     0,     0,     0,     0,     0,     0,     0,     0,     0,\n",
      "            0,     0,     0,     0,     0,     0,     0,     0,     0,     0,\n",
      "            0,     0,     0,     0,     0,     0,     0,     0,     0,     0,\n",
      "            0,     0,     0,     0,     0,     0,     0,     0,     0,     0,\n",
      "            0,     0,     0,     0,     0,     0,     0,     0,     0,     0,\n",
      "            0,     0,     0,     0,     0,     0,     0,     0,     0,     0,\n",
      "            0,     0,     0,     0,     0,     0,     0,     0,     0,     0,\n",
      "            0,     0,     0,     0,     0,     0,     0,     0,     0,     0,\n",
      "            0,     0,     0,     0,     0,     0,     0,     0,     0,     0,\n",
      "            0,     0,     0,     0,     0,     0,     0,     0,     0,     0,\n",
      "            0,     0,     0,     0,     0,     0,     0,     0,     0,     0,\n",
      "            0,     0]), 'token_type_ids': tensor([0, 0, 0, 0, 0, 0, 0, 0, 0, 0, 0, 0, 0, 0, 0, 0, 0, 0, 0, 0, 0, 0, 0, 0,\n",
      "        0, 0, 0, 0, 0, 0, 0, 0, 0, 0, 0, 0, 0, 0, 0, 0, 0, 0, 0, 0, 0, 0, 0, 0,\n",
      "        0, 0, 0, 0, 0, 0, 0, 0, 0, 0, 0, 0, 0, 0, 0, 0, 0, 0, 0, 0, 0, 0, 0, 0,\n",
      "        0, 0, 0, 0, 0, 0, 0, 0, 0, 0, 0, 0, 0, 0, 0, 0, 0, 0, 0, 0, 0, 0, 0, 0,\n",
      "        0, 0, 0, 0, 0, 0, 0, 0, 0, 0, 0, 0, 0, 0, 0, 0, 0, 0, 0, 0, 0, 0, 0, 0,\n",
      "        0, 0, 0, 0, 0, 0, 0, 0, 0, 0, 0, 0, 0, 0, 0, 0, 0, 0, 0, 0, 0, 0, 0, 0,\n",
      "        0, 0, 0, 0, 0, 0, 0, 0, 0, 0, 0, 0, 0, 0, 0, 0, 0, 0, 0, 0, 0, 0, 0, 0,\n",
      "        0, 0, 0, 0, 0, 0, 0, 0, 0, 0, 0, 0, 0, 0, 0, 0, 0, 0, 0, 0, 0, 0, 0, 0,\n",
      "        0, 0, 0, 0, 0, 0, 0, 0, 0, 0, 0, 0, 0, 0, 0, 0, 0, 0, 0, 0, 0, 0, 0, 0,\n",
      "        0, 0, 0, 0, 0, 0, 0, 0, 0, 0, 0, 0, 0, 0, 0, 0, 0, 0, 0, 0, 0, 0, 0, 0,\n",
      "        0, 0, 0, 0, 0, 0, 0, 0, 0, 0, 0, 0, 0, 0, 0, 0, 0, 0, 0, 0, 0, 0, 0, 0,\n",
      "        0, 0, 0, 0, 0, 0, 0, 0, 0, 0, 0, 0, 0, 0, 0, 0, 0, 0, 0, 0, 0, 0, 0, 0,\n",
      "        0, 0, 0, 0, 0, 0, 0, 0, 0, 0, 0, 0, 0, 0, 0, 0, 0, 0, 0, 0, 0, 0, 0, 0,\n",
      "        0, 0, 0, 0, 0, 0, 0, 0, 0, 0, 0, 0, 0, 0, 0, 0, 0, 0, 0, 0, 0, 0, 0, 0,\n",
      "        0, 0, 0, 0, 0, 0, 0, 0, 0, 0, 0, 0, 0, 0, 0, 0, 0, 0, 0, 0, 0, 0, 0, 0,\n",
      "        0, 0, 0, 0, 0, 0, 0, 0, 0, 0, 0, 0, 0, 0, 0, 0, 0, 0, 0, 0, 0, 0, 0, 0,\n",
      "        0, 0, 0, 0, 0, 0, 0, 0, 0, 0, 0, 0, 0, 0, 0, 0, 0, 0, 0, 0, 0, 0, 0, 0,\n",
      "        0, 0, 0, 0, 0, 0, 0, 0, 0, 0, 0, 0, 0, 0, 0, 0, 0, 0, 0, 0, 0, 0, 0, 0,\n",
      "        0, 0, 0, 0, 0, 0, 0, 0, 0, 0, 0, 0, 0, 0, 0, 0, 0, 0, 0, 0, 0, 0, 0, 0,\n",
      "        0, 0, 0, 0, 0, 0, 0, 0, 0, 0, 0, 0, 0, 0, 0, 0, 0, 0, 0, 0, 0, 0, 0, 0,\n",
      "        0, 0, 0, 0, 0, 0, 0, 0, 0, 0, 0, 0, 0, 0, 0, 0, 0, 0, 0, 0, 0, 0, 0, 0,\n",
      "        0, 0, 0, 0, 0, 0, 0, 0]), 'attention_mask': tensor([1, 1, 1, 1, 1, 1, 1, 1, 1, 1, 1, 1, 1, 1, 1, 1, 1, 1, 1, 1, 1, 1, 1, 1,\n",
      "        1, 1, 1, 1, 1, 1, 1, 1, 1, 1, 1, 1, 1, 1, 1, 1, 1, 1, 1, 1, 1, 1, 1, 1,\n",
      "        1, 1, 1, 1, 1, 1, 1, 1, 1, 1, 1, 1, 1, 1, 1, 1, 1, 1, 1, 1, 1, 1, 1, 1,\n",
      "        1, 1, 1, 1, 1, 1, 1, 1, 1, 1, 1, 1, 1, 1, 1, 1, 1, 1, 1, 1, 1, 1, 1, 1,\n",
      "        1, 1, 1, 1, 1, 1, 1, 1, 1, 1, 1, 1, 1, 1, 1, 1, 1, 1, 1, 1, 1, 1, 1, 1,\n",
      "        1, 1, 1, 1, 1, 1, 1, 1, 1, 1, 1, 1, 1, 1, 1, 1, 1, 1, 1, 1, 1, 1, 1, 1,\n",
      "        1, 1, 1, 1, 1, 1, 1, 1, 1, 1, 1, 1, 1, 1, 1, 1, 1, 1, 1, 1, 1, 1, 1, 1,\n",
      "        1, 1, 1, 1, 1, 1, 1, 1, 1, 1, 1, 1, 1, 1, 1, 1, 1, 1, 1, 1, 1, 1, 1, 1,\n",
      "        1, 1, 1, 1, 1, 1, 1, 1, 1, 1, 1, 1, 1, 1, 1, 1, 1, 1, 1, 1, 1, 1, 1, 1,\n",
      "        1, 1, 1, 1, 1, 1, 1, 1, 1, 1, 1, 1, 1, 1, 1, 1, 1, 1, 1, 1, 1, 1, 1, 1,\n",
      "        1, 1, 1, 1, 1, 1, 1, 1, 1, 1, 1, 1, 1, 1, 1, 1, 1, 1, 1, 1, 1, 1, 1, 1,\n",
      "        1, 1, 1, 1, 1, 1, 1, 1, 1, 1, 1, 1, 1, 1, 1, 1, 1, 1, 1, 1, 1, 1, 1, 1,\n",
      "        1, 1, 1, 1, 1, 1, 1, 1, 1, 1, 1, 1, 1, 1, 1, 1, 1, 1, 1, 1, 1, 1, 1, 1,\n",
      "        1, 1, 1, 1, 1, 1, 1, 1, 1, 1, 1, 1, 1, 1, 1, 1, 1, 1, 1, 1, 1, 1, 1, 1,\n",
      "        1, 1, 1, 1, 1, 1, 1, 1, 1, 1, 1, 1, 1, 1, 1, 1, 1, 1, 1, 1, 1, 1, 1, 1,\n",
      "        1, 1, 1, 1, 1, 1, 1, 1, 1, 1, 1, 1, 1, 1, 1, 1, 1, 1, 1, 1, 1, 1, 1, 0,\n",
      "        0, 0, 0, 0, 0, 0, 0, 0, 0, 0, 0, 0, 0, 0, 0, 0, 0, 0, 0, 0, 0, 0, 0, 0,\n",
      "        0, 0, 0, 0, 0, 0, 0, 0, 0, 0, 0, 0, 0, 0, 0, 0, 0, 0, 0, 0, 0, 0, 0, 0,\n",
      "        0, 0, 0, 0, 0, 0, 0, 0, 0, 0, 0, 0, 0, 0, 0, 0, 0, 0, 0, 0, 0, 0, 0, 0,\n",
      "        0, 0, 0, 0, 0, 0, 0, 0, 0, 0, 0, 0, 0, 0, 0, 0, 0, 0, 0, 0, 0, 0, 0, 0,\n",
      "        0, 0, 0, 0, 0, 0, 0, 0, 0, 0, 0, 0, 0, 0, 0, 0, 0, 0, 0, 0, 0, 0, 0, 0,\n",
      "        0, 0, 0, 0, 0, 0, 0, 0])}\n"
     ]
    }
   ],
   "source": [
    "print(encoding_dataset['train'][0])"
   ]
  },
  {
   "cell_type": "code",
   "execution_count": 50,
   "id": "d40e04c6-a53b-464b-853e-4e859c6a1c45",
   "metadata": {},
   "outputs": [
    {
     "name": "stderr",
     "output_type": "stream",
     "text": [
      "Some weights of the model checkpoint at cl-tohoku/bert-base-japanese-whole-word-masking were not used when initializing BertForSequenceClassification: ['cls.seq_relationship.bias', 'cls.seq_relationship.weight', 'cls.predictions.transform.dense.bias', 'cls.predictions.transform.dense.weight', 'cls.predictions.bias', 'cls.predictions.transform.LayerNorm.weight', 'cls.predictions.decoder.weight', 'cls.predictions.transform.LayerNorm.bias']\n",
      "- This IS expected if you are initializing BertForSequenceClassification from the checkpoint of a model trained on another task or with another architecture (e.g. initializing a BertForSequenceClassification model from a BertForPreTraining model).\n",
      "- This IS NOT expected if you are initializing BertForSequenceClassification from the checkpoint of a model that you expect to be exactly identical (initializing a BertForSequenceClassification model from a BertForSequenceClassification model).\n",
      "Some weights of BertForSequenceClassification were not initialized from the model checkpoint at cl-tohoku/bert-base-japanese-whole-word-masking and are newly initialized: ['classifier.bias', 'classifier.weight']\n",
      "You should probably TRAIN this model on a down-stream task to be able to use it for predictions and inference.\n"
     ]
    }
   ],
   "source": [
    "from transformers import AutoModelForSequenceClassification\n",
    "\n",
    "model = AutoModelForSequenceClassification.from_pretrained(\n",
    "    \"cl-tohoku/bert-base-japanese-whole-word-masking\", \n",
    "    problem_type=\"multi_label_classidication\", \n",
    "    num_labels=len(ids),\n",
    "    id2label=id2label,\n",
    "    label2id=label2id\n",
    ")"
   ]
  },
  {
   "cell_type": "code",
   "execution_count": 51,
   "id": "7b710fb5-a833-4501-b686-72db91d063e5",
   "metadata": {},
   "outputs": [],
   "source": [
    "batch_size = 4\n",
    "metric_name = \"f1\""
   ]
  },
  {
   "cell_type": "code",
   "execution_count": 52,
   "id": "b9be031c-4544-418d-818c-7752e362da00",
   "metadata": {},
   "outputs": [],
   "source": [
    "from transformers import TrainingArguments, Trainer\n",
    "\n",
    "args = TrainingArguments(\n",
    "    f\"bert-finetuned-sem_eval-japanese\",\n",
    "    evaluation_strategy = \"epoch\",\n",
    "    save_strategy = \"epoch\",\n",
    "    learning_rate = 2e-5,\n",
    "    per_device_train_batch_size=batch_size,\n",
    "    per_device_eval_batch_size=batch_size,\n",
    "    num_train_epochs=5,\n",
    "    weight_decay=0.01,\n",
    "    load_best_model_at_end=True,\n",
    "    metric_for_best_model=metric_name\n",
    ")"
   ]
  },
  {
   "cell_type": "code",
   "execution_count": 53,
   "id": "3ca52f27-3efb-40b3-83b1-e5fca4b4ee72",
   "metadata": {},
   "outputs": [],
   "source": [
    "from sklearn.metrics import f1_score, roc_auc_score, accuracy_score\n",
    "from transformers import EvalPrediction\n",
    "import torch\n",
    "\n",
    "def multi_label_metrics(pred, labels, threshold=0.5):\n",
    "    sigmoid = torch.nn.sigmoid()\n",
    "    probs = sigmoid(torch.Tensor(pred))\n",
    "    \n",
    "    y_pred = np.zeros(probs.shape)\n",
    "    y_pred[np.where(probs >= threshold)] = 1\n",
    "    \n",
    "    y_true = labels\n",
    "    f1_micro_average = f1_score(y_true=y_true, y_pred=y_pred, average='micro')\n",
    "    roc_auc = roc_auc_score(y_true, y_pred, average = 'micro')\n",
    "    accuracy = accuracy_score(y_true, y_pred)\n",
    "    \n",
    "    metrics = {'f1': f1_micro_average,\n",
    "               'roc_auc': roc_auc,\n",
    "               'accuracy': accuracy}\n",
    "    return metrics\n",
    "\n",
    "def compute_metrics(p: EvalPrediction):\n",
    "    preds = p.predictions[0] if isinstance(p.predictions, tuple) else p.predictions\n",
    "    result = multi_label_metrics(predictions=preds, labels=p.label_ids)\n",
    "    return result"
   ]
  },
  {
   "cell_type": "code",
   "execution_count": 54,
   "id": "bc18131e-1a6e-4aab-a1a6-81f1c4c5764e",
   "metadata": {},
   "outputs": [
    {
     "data": {
      "text/plain": [
       "'torch.FloatTensor'"
      ]
     },
     "execution_count": 54,
     "metadata": {},
     "output_type": "execute_result"
    }
   ],
   "source": [
    "encoding_dataset['train'][0]['labels'].type()"
   ]
  },
  {
   "cell_type": "code",
   "execution_count": 55,
   "id": "372c7a16-e943-4952-80bc-21a1399ba2d5",
   "metadata": {},
   "outputs": [
    {
     "data": {
      "text/plain": [
       "tensor([    2,  6950,   324,     7,     6,    52,   108,     5,   390,    14,\n",
       "         1991,     8,   390,     9, 21010,   276,    11,  8803,     6,  9871,\n",
       "        29087,    18,  2149,     5,   109,     7,    52,   181,     5,   324,\n",
       "           11, 14138,     8, 13059,     7, 15344, 28790,     6,   319,     7,\n",
       "            9,  3477,     8, 17923, 17356,    13,    15,    10,    59,  4307,\n",
       "            7,     6,  7672, 28713,     9,  9109,   704,     7,  1285,     5,\n",
       "         2436,    11,  2773,    10,     8,    36, 30239, 30239, 12077,  8268,\n",
       "          679,    38, 11283,  1381,    11,   501,    20,     6,  7672, 28713,\n",
       "            9,  1042,  7263,    15,    16,    21,    10, 14726,    11,   311,\n",
       "            7, 13043,    16,  2679,    11,  7043,     8,  1076, 29273,     5,\n",
       "          174,     7,  2021,     6,  7672, 28713,     5,   283,    11,   212,\n",
       "           16,    33,     5,     9, 14833,   813,     5,  2633,  2845,     8,\n",
       "         1257,   129,     7,   840,    15,     6,  2095,    28,  5735,     6,\n",
       "           53, 29345,    28, 16468,     8,  7672, 28713,    13,     9,   371,\n",
       "         2020,     5,  6211,    75,     8,    36, 30239, 30239, 12077,  8268,\n",
       "            9,     6,   218,    12,  2575,    29,    18,  2935,    38,  4508,\n",
       "           12, 27864,  7913,     7,  1961,    11,  5044,  1058,    75,  2935,\n",
       "          880,  1370,     5, 18513,    51,     7,  1042,  7263,    15,    16,\n",
       "           21,    10,     5,    14,     6,   219,     7,  1577,    10,     5,\n",
       "         3635, 28489,    29,     8,  7672, 28713,    13,    15,    16,     9,\n",
       "            6,   880,  1370,    64,   692,     7,  1704,    12,    28, 16184,\n",
       "           10,     8,  2372,    84,    10,  2726,    11,     6, 20786,     7,\n",
       "          737,    80,   124,     7, 16893,   687,     8,   880,  1370, 15060,\n",
       "          120,     9,     6, 12455, 13278,  1450, 13278,     5,    33,     6,\n",
       "         3039,    63,  4000, 29817,    65,     5,  6992,    75,     8,   945,\n",
       "        29164,    12,    53,    13, 14007,  1860,   312,   737,    80,   146,\n",
       "           11,  3869,    13,     6,  4243,     5,   735,    11,   909,  5342,\n",
       "           16,    33,   687,     5,   223, 28917,  5785,     5,   283,    14,\n",
       "          820,    18, 14217,    12,    31,     8,  4799,  3218,    12,   880,\n",
       "         1370,     7, 21701, 28710, 28479,     5,    53,   784,    14,  4341,\n",
       "         6527,    16,    33,   284,     6,  7672, 28713,     9,   549, 28469,\n",
       "           20,    10, 14726,     5,  2128,     7,  1042,  7263,    11,    15,\n",
       "           16,    21,    10,     8,   218,    11, 24267, 28506,    84,    10,\n",
       "            5,    29,    13,     6,  7672, 28713,     9,  4479,    10,     8,\n",
       "          218,    13,    28,     6,   735,     5,  3173,     7,  3759,    81,\n",
       "            7,   183,  7295,    13,    15,    80,  7672, 28713,    11,     1,\n",
       "           12,   735,    11, 22608,    10,     5,  3635, 28489,    29,     8,\n",
       "          306,     5,  3961,    29,    36,    22, 28451, 28468,     6,  1037,\n",
       "           75,    73,     3,     0,     0,     0,     0,     0,     0,     0,\n",
       "            0,     0,     0,     0,     0,     0,     0,     0,     0,     0,\n",
       "            0,     0,     0,     0,     0,     0,     0,     0,     0,     0,\n",
       "            0,     0,     0,     0,     0,     0,     0,     0,     0,     0,\n",
       "            0,     0,     0,     0,     0,     0,     0,     0,     0,     0,\n",
       "            0,     0,     0,     0,     0,     0,     0,     0,     0,     0,\n",
       "            0,     0,     0,     0,     0,     0,     0,     0,     0,     0,\n",
       "            0,     0,     0,     0,     0,     0,     0,     0,     0,     0,\n",
       "            0,     0,     0,     0,     0,     0,     0,     0,     0,     0,\n",
       "            0,     0,     0,     0,     0,     0,     0,     0,     0,     0,\n",
       "            0,     0,     0,     0,     0,     0,     0,     0,     0,     0,\n",
       "            0,     0,     0,     0,     0,     0,     0,     0,     0,     0,\n",
       "            0,     0,     0,     0,     0,     0,     0,     0,     0,     0,\n",
       "            0,     0])"
      ]
     },
     "execution_count": 55,
     "metadata": {},
     "output_type": "execute_result"
    }
   ],
   "source": [
    "encoding_dataset['train']['input_ids'][0]"
   ]
  },
  {
   "cell_type": "code",
   "execution_count": 56,
   "id": "6aaa251b-5064-4163-a4fd-01f79da39176",
   "metadata": {},
   "outputs": [
    {
     "data": {
      "text/plain": [
       "SequenceClassifierOutput(loss=None, logits=tensor([[-0.5101,  0.5825,  0.0387,  0.6508,  0.2820, -0.5747, -0.0511,  0.2326,\n",
       "         -0.3519,  0.0852,  0.5187,  0.5181,  0.1006, -0.6930, -0.0943, -0.4156,\n",
       "         -0.4098, -0.6603, -0.1107,  0.1329,  0.2678,  0.1894, -0.0331,  0.6075,\n",
       "          0.6987, -0.5988, -0.3474, -0.1392,  0.1285, -0.3040, -0.3538, -0.2726,\n",
       "         -0.1459,  0.3945,  0.1916, -0.3962, -0.3057, -0.4619, -0.1243, -0.2535,\n",
       "          0.2153, -0.3325,  0.1384,  0.4546, -0.1798, -0.2306, -0.1453,  0.3275,\n",
       "         -0.2980, -0.1530,  0.1781, -0.2820, -0.5926, -0.0785,  0.0161, -0.1399,\n",
       "          0.2831, -0.0034, -0.6102, -0.3194,  0.6924, -0.2350,  0.3996, -0.1663,\n",
       "          0.1804, -0.1801,  0.2892,  0.5647, -0.0252, -0.0055,  0.2606,  0.5206,\n",
       "         -0.1807,  0.1469, -0.0511,  0.0678,  0.1408, -0.1781, -0.0155, -0.0674,\n",
       "          0.1103,  1.2215,  0.0389,  0.5585, -0.2788,  0.1012,  0.1716,  0.1601,\n",
       "         -0.0604,  0.4992,  0.1670, -0.0608, -0.0327, -0.2313,  0.1977,  0.3897,\n",
       "         -0.6536,  0.1469, -0.0381, -0.1311,  0.1407,  0.2416,  0.5706,  0.0291,\n",
       "          0.2749, -0.2820, -0.0723,  0.1746,  0.8480, -0.1207, -0.1156, -0.1298,\n",
       "         -0.3070, -0.2255,  0.2376,  0.5736,  0.2036, -0.2907,  0.3038, -0.5452,\n",
       "         -0.1741, -0.3921, -0.0936,  0.2485, -0.1229,  0.5218,  0.3111,  0.0162,\n",
       "          0.3087,  0.0918,  0.3956, -0.0836,  0.8656,  0.1813,  0.5973,  0.2758,\n",
       "          0.0366, -0.4388, -0.0297,  0.4425, -0.0875,  0.1119,  0.1277, -0.3763,\n",
       "          1.2331, -0.3835, -0.4801, -0.3459, -0.3248,  0.7743, -0.5543,  0.2273,\n",
       "         -0.0309, -0.0786,  0.3684,  0.5079,  0.0958,  0.2499,  0.5207,  0.0539,\n",
       "          0.0061, -0.6333, -0.3038, -0.1176,  0.2487, -0.0508, -0.8907, -0.2085,\n",
       "          0.7034, -0.7615,  0.5759,  0.1355, -0.3526,  0.0835, -0.3126,  0.3786,\n",
       "          0.6523,  0.6889, -0.1801, -0.4173, -0.3482, -0.0626,  0.2994,  0.4872,\n",
       "         -0.4035, -0.3355, -0.3275,  0.1308,  0.0593,  0.1350, -0.4020,  0.1983,\n",
       "          0.6810, -0.0821,  0.0735, -0.1673,  0.7477,  0.0277, -0.3076,  0.1256,\n",
       "         -0.0688,  0.2211,  0.3481,  0.1287,  0.3355, -0.3161,  0.0729, -0.3377,\n",
       "         -0.4217, -0.2689, -0.0574, -0.3097,  0.2785, -0.1580, -0.3514,  0.1312,\n",
       "         -0.5866,  0.0402, -0.4679, -0.0043,  0.2543,  0.2676, -0.3693, -0.3759,\n",
       "          0.0179, -0.5083,  0.2168, -0.5795, -0.0303, -0.1185,  0.7132, -0.1698,\n",
       "          0.3708, -0.2302,  0.3423, -0.5481, -0.3898,  0.5661,  0.7307,  0.3521,\n",
       "          0.5490, -0.5889, -0.4307, -0.0647,  0.1276,  0.3064,  0.1836,  0.6293,\n",
       "         -0.5887, -0.0797, -0.0558, -0.4854,  0.1249,  0.2947,  0.5891,  0.2584,\n",
       "         -0.1340, -0.3874, -0.2210,  0.1449,  0.2718,  0.4940,  0.4435,  0.0282,\n",
       "          0.0492, -0.2718,  0.7846,  0.2901, -0.2081,  0.4678, -0.2415,  0.2897,\n",
       "         -0.4788,  0.5545,  0.4709, -0.0359, -0.1647,  0.4731, -0.0299,  0.3815,\n",
       "         -0.0559,  0.0528, -0.3469, -0.3610,  0.2880, -0.2240, -0.1593, -0.1729,\n",
       "          0.2475, -0.3459, -0.4478, -0.2316, -0.1023,  0.2808, -0.1215,  0.2159,\n",
       "         -0.0630,  0.0210,  0.4814,  0.4241, -0.1966,  0.2221,  0.1118,  0.1127,\n",
       "          0.2883, -0.0144,  0.2467,  0.0607,  0.5088,  0.4032, -0.0590, -0.1370]],\n",
       "       grad_fn=<AddmmBackward0>), hidden_states=None, attentions=None)"
      ]
     },
     "execution_count": 56,
     "metadata": {},
     "output_type": "execute_result"
    }
   ],
   "source": [
    "outputs = model(input_ids=encoding_dataset['train']['input_ids'][0].unsqueeze(0), labels=encoding_dataset['train'][0]['labels'].unsqueeze(0))\n",
    "outputs"
   ]
  },
  {
   "cell_type": "code",
   "execution_count": 57,
   "id": "bc278381-cdf6-433c-90fc-1cd26d6ef469",
   "metadata": {},
   "outputs": [],
   "source": [
    "trainer = Trainer(\n",
    "    model,\n",
    "    args,\n",
    "    train_dataset=encoding_dataset[\"train\"],\n",
    "    eval_dataset=encoding_dataset[\"valid\"],\n",
    "    tokenizer=tokenizer,\n",
    "    compute_metrics=compute_metrics\n",
    ")"
   ]
  },
  {
   "cell_type": "code",
   "execution_count": 58,
   "id": "d6f4d4a8-b237-46da-a8ec-1ccc8b1dc78a",
   "metadata": {},
   "outputs": [],
   "source": [
    "import torch\n",
    "torch.cuda.empty_cache()"
   ]
  },
  {
   "cell_type": "code",
   "execution_count": 59,
   "id": "9c07bab3-a97a-4cfd-b242-a86153ce78c6",
   "metadata": {},
   "outputs": [
    {
     "name": "stderr",
     "output_type": "stream",
     "text": [
      "C:\\Users\\User\\anaconda3\\lib\\site-packages\\transformers\\optimization.py:306: FutureWarning: This implementation of AdamW is deprecated and will be removed in a future version. Use the PyTorch implementation torch.optim.AdamW instead, or set `no_deprecation_warning=True` to disable this warning\n",
      "  warnings.warn(\n",
      "***** Running training *****\n",
      "  Num examples = 409\n",
      "  Num Epochs = 5\n",
      "  Instantaneous batch size per device = 4\n",
      "  Total train batch size (w. parallel, distributed & accumulation) = 4\n",
      "  Gradient Accumulation steps = 1\n",
      "  Total optimization steps = 515\n"
     ]
    },
    {
     "ename": "KeyError",
     "evalue": "'loss'",
     "output_type": "error",
     "traceback": [
      "\u001b[1;31m---------------------------------------------------------------------------\u001b[0m",
      "\u001b[1;31mKeyError\u001b[0m                                  Traceback (most recent call last)",
      "\u001b[1;32m~\\AppData\\Local\\Temp/ipykernel_18728/4032920361.py\u001b[0m in \u001b[0;36m<module>\u001b[1;34m\u001b[0m\n\u001b[1;32m----> 1\u001b[1;33m \u001b[0mtrainer\u001b[0m\u001b[1;33m.\u001b[0m\u001b[0mtrain\u001b[0m\u001b[1;33m(\u001b[0m\u001b[1;33m)\u001b[0m\u001b[1;33m\u001b[0m\u001b[1;33m\u001b[0m\u001b[0m\n\u001b[0m",
      "\u001b[1;32m~\\anaconda3\\lib\\site-packages\\transformers\\trainer.py\u001b[0m in \u001b[0;36mtrain\u001b[1;34m(self, resume_from_checkpoint, trial, ignore_keys_for_eval, **kwargs)\u001b[0m\n\u001b[0;32m   1315\u001b[0m             \u001b[0mself\u001b[0m\u001b[1;33m.\u001b[0m\u001b[0m_inner_training_loop\u001b[0m\u001b[1;33m,\u001b[0m \u001b[0mself\u001b[0m\u001b[1;33m.\u001b[0m\u001b[0m_train_batch_size\u001b[0m\u001b[1;33m,\u001b[0m \u001b[0margs\u001b[0m\u001b[1;33m.\u001b[0m\u001b[0mauto_find_batch_size\u001b[0m\u001b[1;33m\u001b[0m\u001b[1;33m\u001b[0m\u001b[0m\n\u001b[0;32m   1316\u001b[0m         )\n\u001b[1;32m-> 1317\u001b[1;33m         return inner_training_loop(\n\u001b[0m\u001b[0;32m   1318\u001b[0m             \u001b[0margs\u001b[0m\u001b[1;33m=\u001b[0m\u001b[0margs\u001b[0m\u001b[1;33m,\u001b[0m\u001b[1;33m\u001b[0m\u001b[1;33m\u001b[0m\u001b[0m\n\u001b[0;32m   1319\u001b[0m             \u001b[0mresume_from_checkpoint\u001b[0m\u001b[1;33m=\u001b[0m\u001b[0mresume_from_checkpoint\u001b[0m\u001b[1;33m,\u001b[0m\u001b[1;33m\u001b[0m\u001b[1;33m\u001b[0m\u001b[0m\n",
      "\u001b[1;32m~\\anaconda3\\lib\\site-packages\\transformers\\trainer.py\u001b[0m in \u001b[0;36m_inner_training_loop\u001b[1;34m(self, batch_size, args, resume_from_checkpoint, trial, ignore_keys_for_eval)\u001b[0m\n\u001b[0;32m   1552\u001b[0m                         \u001b[0mtr_loss_step\u001b[0m \u001b[1;33m=\u001b[0m \u001b[0mself\u001b[0m\u001b[1;33m.\u001b[0m\u001b[0mtraining_step\u001b[0m\u001b[1;33m(\u001b[0m\u001b[0mmodel\u001b[0m\u001b[1;33m,\u001b[0m \u001b[0minputs\u001b[0m\u001b[1;33m)\u001b[0m\u001b[1;33m\u001b[0m\u001b[1;33m\u001b[0m\u001b[0m\n\u001b[0;32m   1553\u001b[0m                 \u001b[1;32melse\u001b[0m\u001b[1;33m:\u001b[0m\u001b[1;33m\u001b[0m\u001b[1;33m\u001b[0m\u001b[0m\n\u001b[1;32m-> 1554\u001b[1;33m                     \u001b[0mtr_loss_step\u001b[0m \u001b[1;33m=\u001b[0m \u001b[0mself\u001b[0m\u001b[1;33m.\u001b[0m\u001b[0mtraining_step\u001b[0m\u001b[1;33m(\u001b[0m\u001b[0mmodel\u001b[0m\u001b[1;33m,\u001b[0m \u001b[0minputs\u001b[0m\u001b[1;33m)\u001b[0m\u001b[1;33m\u001b[0m\u001b[1;33m\u001b[0m\u001b[0m\n\u001b[0m\u001b[0;32m   1555\u001b[0m \u001b[1;33m\u001b[0m\u001b[0m\n\u001b[0;32m   1556\u001b[0m                 if (\n",
      "\u001b[1;32m~\\anaconda3\\lib\\site-packages\\transformers\\trainer.py\u001b[0m in \u001b[0;36mtraining_step\u001b[1;34m(self, model, inputs)\u001b[0m\n\u001b[0;32m   2181\u001b[0m \u001b[1;33m\u001b[0m\u001b[0m\n\u001b[0;32m   2182\u001b[0m         \u001b[1;32mwith\u001b[0m \u001b[0mself\u001b[0m\u001b[1;33m.\u001b[0m\u001b[0mautocast_smart_context_manager\u001b[0m\u001b[1;33m(\u001b[0m\u001b[1;33m)\u001b[0m\u001b[1;33m:\u001b[0m\u001b[1;33m\u001b[0m\u001b[1;33m\u001b[0m\u001b[0m\n\u001b[1;32m-> 2183\u001b[1;33m             \u001b[0mloss\u001b[0m \u001b[1;33m=\u001b[0m \u001b[0mself\u001b[0m\u001b[1;33m.\u001b[0m\u001b[0mcompute_loss\u001b[0m\u001b[1;33m(\u001b[0m\u001b[0mmodel\u001b[0m\u001b[1;33m,\u001b[0m \u001b[0minputs\u001b[0m\u001b[1;33m)\u001b[0m\u001b[1;33m\u001b[0m\u001b[1;33m\u001b[0m\u001b[0m\n\u001b[0m\u001b[0;32m   2184\u001b[0m \u001b[1;33m\u001b[0m\u001b[0m\n\u001b[0;32m   2185\u001b[0m         \u001b[1;32mif\u001b[0m \u001b[0mself\u001b[0m\u001b[1;33m.\u001b[0m\u001b[0margs\u001b[0m\u001b[1;33m.\u001b[0m\u001b[0mn_gpu\u001b[0m \u001b[1;33m>\u001b[0m \u001b[1;36m1\u001b[0m\u001b[1;33m:\u001b[0m\u001b[1;33m\u001b[0m\u001b[1;33m\u001b[0m\u001b[0m\n",
      "\u001b[1;32m~\\anaconda3\\lib\\site-packages\\transformers\\trainer.py\u001b[0m in \u001b[0;36mcompute_loss\u001b[1;34m(self, model, inputs, return_outputs)\u001b[0m\n\u001b[0;32m   2223\u001b[0m         \u001b[1;32melse\u001b[0m\u001b[1;33m:\u001b[0m\u001b[1;33m\u001b[0m\u001b[1;33m\u001b[0m\u001b[0m\n\u001b[0;32m   2224\u001b[0m             \u001b[1;31m# We don't use .loss here since the model may return tuples instead of ModelOutput.\u001b[0m\u001b[1;33m\u001b[0m\u001b[1;33m\u001b[0m\u001b[0m\n\u001b[1;32m-> 2225\u001b[1;33m             \u001b[0mloss\u001b[0m \u001b[1;33m=\u001b[0m \u001b[0moutputs\u001b[0m\u001b[1;33m[\u001b[0m\u001b[1;34m\"loss\"\u001b[0m\u001b[1;33m]\u001b[0m \u001b[1;32mif\u001b[0m \u001b[0misinstance\u001b[0m\u001b[1;33m(\u001b[0m\u001b[0moutputs\u001b[0m\u001b[1;33m,\u001b[0m \u001b[0mdict\u001b[0m\u001b[1;33m)\u001b[0m \u001b[1;32melse\u001b[0m \u001b[0moutputs\u001b[0m\u001b[1;33m[\u001b[0m\u001b[1;36m0\u001b[0m\u001b[1;33m]\u001b[0m\u001b[1;33m\u001b[0m\u001b[1;33m\u001b[0m\u001b[0m\n\u001b[0m\u001b[0;32m   2226\u001b[0m \u001b[1;33m\u001b[0m\u001b[0m\n\u001b[0;32m   2227\u001b[0m         \u001b[1;32mreturn\u001b[0m \u001b[1;33m(\u001b[0m\u001b[0mloss\u001b[0m\u001b[1;33m,\u001b[0m \u001b[0moutputs\u001b[0m\u001b[1;33m)\u001b[0m \u001b[1;32mif\u001b[0m \u001b[0mreturn_outputs\u001b[0m \u001b[1;32melse\u001b[0m \u001b[0mloss\u001b[0m\u001b[1;33m\u001b[0m\u001b[1;33m\u001b[0m\u001b[0m\n",
      "\u001b[1;32m~\\anaconda3\\lib\\site-packages\\transformers\\utils\\generic.py\u001b[0m in \u001b[0;36m__getitem__\u001b[1;34m(self, k)\u001b[0m\n\u001b[0;32m    218\u001b[0m         \u001b[1;32mif\u001b[0m \u001b[0misinstance\u001b[0m\u001b[1;33m(\u001b[0m\u001b[0mk\u001b[0m\u001b[1;33m,\u001b[0m \u001b[0mstr\u001b[0m\u001b[1;33m)\u001b[0m\u001b[1;33m:\u001b[0m\u001b[1;33m\u001b[0m\u001b[1;33m\u001b[0m\u001b[0m\n\u001b[0;32m    219\u001b[0m             \u001b[0minner_dict\u001b[0m \u001b[1;33m=\u001b[0m \u001b[1;33m{\u001b[0m\u001b[0mk\u001b[0m\u001b[1;33m:\u001b[0m \u001b[0mv\u001b[0m \u001b[1;32mfor\u001b[0m \u001b[1;33m(\u001b[0m\u001b[0mk\u001b[0m\u001b[1;33m,\u001b[0m \u001b[0mv\u001b[0m\u001b[1;33m)\u001b[0m \u001b[1;32min\u001b[0m \u001b[0mself\u001b[0m\u001b[1;33m.\u001b[0m\u001b[0mitems\u001b[0m\u001b[1;33m(\u001b[0m\u001b[1;33m)\u001b[0m\u001b[1;33m}\u001b[0m\u001b[1;33m\u001b[0m\u001b[1;33m\u001b[0m\u001b[0m\n\u001b[1;32m--> 220\u001b[1;33m             \u001b[1;32mreturn\u001b[0m \u001b[0minner_dict\u001b[0m\u001b[1;33m[\u001b[0m\u001b[0mk\u001b[0m\u001b[1;33m]\u001b[0m\u001b[1;33m\u001b[0m\u001b[1;33m\u001b[0m\u001b[0m\n\u001b[0m\u001b[0;32m    221\u001b[0m         \u001b[1;32melse\u001b[0m\u001b[1;33m:\u001b[0m\u001b[1;33m\u001b[0m\u001b[1;33m\u001b[0m\u001b[0m\n\u001b[0;32m    222\u001b[0m             \u001b[1;32mreturn\u001b[0m \u001b[0mself\u001b[0m\u001b[1;33m.\u001b[0m\u001b[0mto_tuple\u001b[0m\u001b[1;33m(\u001b[0m\u001b[1;33m)\u001b[0m\u001b[1;33m[\u001b[0m\u001b[0mk\u001b[0m\u001b[1;33m]\u001b[0m\u001b[1;33m\u001b[0m\u001b[1;33m\u001b[0m\u001b[0m\n",
      "\u001b[1;31mKeyError\u001b[0m: 'loss'"
     ]
    }
   ],
   "source": [
    "trainer.train()"
   ]
  },
  {
   "cell_type": "code",
   "execution_count": null,
   "id": "98b9fcc4-15ba-4b94-bc07-66b563d90052",
   "metadata": {},
   "outputs": [],
   "source": []
  }
 ],
 "metadata": {
  "kernelspec": {
   "display_name": "Python 3 (ipykernel)",
   "language": "python",
   "name": "python3"
  },
  "language_info": {
   "codemirror_mode": {
    "name": "ipython",
    "version": 3
   },
   "file_extension": ".py",
   "mimetype": "text/x-python",
   "name": "python",
   "nbconvert_exporter": "python",
   "pygments_lexer": "ipython3",
   "version": "3.9.7"
  }
 },
 "nbformat": 4,
 "nbformat_minor": 5
}
