{
 "cells": [
  {
   "cell_type": "code",
   "execution_count": 1,
   "id": "7e72867c-38ce-4ef6-9a00-cb6a09bf2f80",
   "metadata": {},
   "outputs": [],
   "source": [
    "class Work:\n",
    "    def __init__(self, i, t, c, l):\n",
    "        self.title = t\n",
    "        self.content = c\n",
    "        self.labels = l\n",
    "        self.id = i\n",
    "    def __str__(self):\n",
    "        return f\"id: \\\"{self.id}\\\"\\ntitle: \\\"{self.title}\\\"\\ncontent: \\\"{self.content}\\\"\\nlabels: {self.labels}\\n\""
   ]
  },
  {
   "cell_type": "code",
   "execution_count": 2,
   "id": "844c0884-dab7-4a46-8a1e-8b8dd5e143db",
   "metadata": {},
   "outputs": [],
   "source": [
    "def load_jsonl(path):\n",
    "    data=[]\n",
    "    with open(path, 'r', encoding='utf-8') as reader:\n",
    "        for line in reader:\n",
    "            data.append(json.loads(line))\n",
    "    return data"
   ]
  },
  {
   "cell_type": "code",
   "execution_count": 3,
   "id": "91e54426-9ea4-4272-8625-269f440e7551",
   "metadata": {},
   "outputs": [],
   "source": [
    "def load_csv(path):\n",
    "    data=[]\n",
    "    with open(path, 'r', encoding='utf-8') as file:\n",
    "        rows = csv.reader(file)\n",
    "        for row in rows:\n",
    "            label = {\"id\": row[0], \"name\": row[1]}\n",
    "            data.append(label)\n",
    "    return data"
   ]
  },
  {
   "cell_type": "code",
   "execution_count": 4,
   "id": "8848e880-62bc-487b-86b3-bd3b8eb1a960",
   "metadata": {},
   "outputs": [],
   "source": [
    "def add_str(datas):\n",
    "    string = \"\"\n",
    "    for data in datas:\n",
    "        t_str = data['body']\n",
    "        t_str = t_str.replace(u'\\u3000', u'')\n",
    "        string += t_str\n",
    "    return string"
   ]
  },
  {
   "cell_type": "code",
   "execution_count": 5,
   "id": "5c3acc7d-9da2-4f6c-93c9-d16fc447686c",
   "metadata": {},
   "outputs": [],
   "source": [
    "def create_work(data):\n",
    "    if data['labels'] != None:\n",
    "        t_labels = create_label_vector(labels, data['labels'])\n",
    "    else:\n",
    "        t_labels = create_label_vector(labels, [\"\"])\n",
    "    \n",
    "    w = Work(data['id'], data['metadata']['title'], add_str(data['content'])[:512], t_labels)\n",
    "    return w"
   ]
  },
  {
   "cell_type": "code",
   "execution_count": 6,
   "id": "3b76f406-6805-40df-924f-ed1dac638fc7",
   "metadata": {},
   "outputs": [],
   "source": [
    "def create_label_vector(total_labels, target_labels):\n",
    "    return_label = []\n",
    "    for i, label in enumerate(total_labels):\n",
    "        for t_label in target_labels:\n",
    "            if label['name'] == t_label:\n",
    "                return_label.append(label['id'])\n",
    "    return return_label"
   ]
  },
  {
   "cell_type": "code",
   "execution_count": 7,
   "id": "59aeeb19-1fec-409f-a35f-b09fd8042246",
   "metadata": {},
   "outputs": [
    {
     "name": "stdout",
     "output_type": "stream",
     "text": [
      "[{'id': '11', 'name': 'TS'}, {'id': '12', 'name': 'スキル'}, {'id': '13', 'name': '夫婦'}, {'id': '14', 'name': 'ステータス'}, {'id': '15', 'name': '学生'}, {'id': '16', 'name': '後輩'}, {'id': '17', 'name': '少年'}, {'id': '18', 'name': '社会人'}, {'id': '18', 'name': 'サラリーマン'}, {'id': '19', 'name': '大学生'}]\n"
     ]
    }
   ],
   "source": [
    "import csv\n",
    "labels = load_csv(\"label_list_cleaned.csv\")\n",
    "print(labels[15:25])"
   ]
  },
  {
   "cell_type": "code",
   "execution_count": 8,
   "id": "7a4b0ee3-9260-4c41-9a10-d65b11fcbe68",
   "metadata": {},
   "outputs": [
    {
     "name": "stdout",
     "output_type": "stream",
     "text": [
      "312\n"
     ]
    }
   ],
   "source": [
    "unsortIds = [label['id'] for label in labels]\n",
    "ids = []\n",
    "for id in unsortIds:\n",
    "    if id not in ids:\n",
    "        ids.append(id)\n",
    "print(len(ids))"
   ]
  },
  {
   "cell_type": "code",
   "execution_count": 9,
   "id": "4f056373-325b-47e2-988f-4910fd3a25ab",
   "metadata": {},
   "outputs": [
    {
     "name": "stdout",
     "output_type": "stream",
     "text": [
      "{'男主人公': '1', '男性主人公': '1', '女主人公': '2', '女性主人公': '2', 'チート': '3', '主人公最強': '4', '最強': '4', '剣と魔法': '5', '剣': '6', '魔術': '7', '悪役令嬢': '8', '令嬢': '9', 'お嬢様': '9', '探偵': '10', '性転換': '11', 'TS': '11', 'スキル': '12', '夫婦': '13', 'ステータス': '14', '学生': '15', '後輩': '16', '少年': '17', '社会人': '18', 'サラリーマン': '18', '大学生': '19', '高校生': '20', '中学生': '21', '小学生': '22', 'おっさん': '23', 'ヒーロー': '24', '聖女': '25', '記憶喪失': '26', '狂気': '27', 'オタク': '28', '女装': '29', 'シスコン': '30', '恋人': '31', '英雄': '32', 'ぼっち': '33', '陰キャ': '34', '陰陽師': '35', '変身': '36', '作家': '37', '教師': '38', '先生': '38', '魔法': '39', '学園': '40', 'ダンジョン': '41', '超能力': '42', '異能': '42', '異能力': '42', '能力': '42', '異能力バトル': '42', '異能バトル': '42', 'ミリタリー': '43', '音楽': '44', '学校': '45', '高校': '45', '大学': '45', '料理': '46', '部活': '47', '海': '48', '宇宙': '49', 'スポーツ': '50', 'スマホ': '51', '桜': '52', '銃': '53', '喫茶店': '54', '野球': '55', '月': '56', 'ピアノ': '57', '宇宙人': '58', '神社': '59', '花': '60', '錬金術': '61', '病院': '62', '電車': '63', '直観': '64', '図書館': '65', '戦闘機': '66', '花言葉': '67', '昭和': '68', 'ファンタジー': '69', 'ハイファンタジー': '69', 'ローファンタジー': '69', '異世界': '70', '異世界転生': '70', '異世界転移': '70', '異世界ファンタジー': '70', '転移': '70', '転生': '70', '異世界召喚': '70', '青春': '71', '幻想': '72', '日常': '73', '日常系': '73', 'ほのぼの': '74', 'のんびり': '74', 'ハッピーエンド': '75', 'バッドエンド': '76', 'SF': '77', '呪い': '78', 'シリアス': '79', '現代': '80', 'バトル': '81', '戦闘': '81', '神話': '82', 'ざまぁ': '83', '冒険': '84', '雨': '85', '和風ファンタジー': '86', 'お仕事': '87', '仕事': '87', '追放': '88', '哲学': '89', 'ダークファンタジー': '90', 'ダーク': '90', '成り上がり': '91', '婚約破棄': '92', 'ボーイミーツガール': '93', '近未来': '94', '切ない': '95', '戦争': '96', '戦記': '96', '現代ファンタジー': '97', 'アクション': '98', '群像劇': '99', '怪談': '100', 'グルメ': '101', '復讐': '102', 'ゲーム': '103', '歴史': '104', 'スローライフ': '105', '無双': '106', '夢': '107', 'どんでん返し': '108', '夏': '109', '夏休み': '110', '旅': '111', 'ヒューマンドラマ': '112', '感動': '113', '思い出': '114', 'タイムリープ': '115', 'タイムスリップ': '115', 'パニック': '129', 'スクールラブ': '117', '成長': '118', 'VRMMO': '119', 'ギャグ': '120', 'コメディー': '121', 'コメディ': '121', 'ラブコメ': '122', '勘違い': '123', '乙女ゲーム': '124', 'オカルト': '125', 'ミステリー': '126', 'ミステリ': '126', 'サスペンス': '127', 'ホラー': '128', '殺人': '130', 'デスゲーム': '131', 'ほっこり': '132', '謎解き': '133', '不思議': '134', '都市伝説': '135', 'クリスマス': '136', '和風': '137', 'じれじれ': '138', 'ディストピア': '139', 'ポストアポカリプス': '140', 'ご都合主義': '141', '推理': '142', 'ハードボイルド': '143', '三角関係': '144', '未来': '145', '死': '146', '伝奇': '147', '人生': '148', 'いじめ': '149', '内政': '150', '王道': '151', '飯テロ': '152', '田舎': '153', '笑い': '154', 'サバイバル': '155', '戦国時代': '156', 'サイバーパンク': '157', '怖い話': '158', '格闘技': '159', 'バンド': '160', 'パロディ': '161', '中世': '162', 'クトゥルフ神話': '163', '雪': '164', 'バレンタイン': '165', '記憶': '166', 'スペースオペラ': '167', 'シュール': '168', '現代日本': '169', '科学': '170', '泣ける': '171', '手紙': '172', '下ネタ': '173', '終末': '174', '夜': '175', '幕末': '176', '昔話': '177', '裏切り': '178', '冬': '179', 'ゴール': '180', 'もう遅い': '181', '孤独': '182', 'ドラマ': '183', 'SNS': '184', '不条理': '185', '病気': '186', '江戸時代': '187', '宗教': '188', '走る': '189', 'スチームパンク': '190', '秘密': '191', '出会い': '192', '星': '193', '映画': '194', '架空戦記': '195', '戦国': '196', '春': '197', 'ドタバタ': '198', '万人向け': '199', '男性向け': '200', '女性向け': '201', 'R15': '202', '魔王': '203', '勇者': '204', '友情': '205', 'ロボット': '206', 'もふもふ': '207', 'モフモフ': '207', '猫': '208', '犬': '209', '動物': '210', '家族': '211', '親子': '212', '怪異': '213', '怪奇': '213', 'あやかし': '214', '妖怪': '214', '人外': '214', '魔物': '215', 'モンスター': '215', '双子': '216', '幽霊': '217', '冒険者': '218', 'エルフ': '219', '吸血鬼': '220', 'ドラゴン': '221', '竜': '221', '騎士': '222', '悪魔': '223', '神': '224', '神様': '224', '女神': '225', 'イケメン': '226', '貴族': '227', '人工知能': '228', 'AI': '228', '王子': '229', '精霊': '230', '妖精': '231', '先輩': '232', '奴隷': '233', '天使': '234', '男の娘': '235', '兄妹': '236', '鬼': '237', '獣人': '238', 'ゾンビ': '239', '警察': '240', 'ブラコン': '241', '主従': '242', '死神': '243', 'サイコパス': '244', '親友': '245', '兄弟': '246', '可愛い': '247', '怪獣': '248', '刀': '249', '仲間': '250', '魔術師': '251', 'バディ': '252', '思春期': '253', '擬人化': '254', '尊い': '255', 'おうち時間': '256', '家族愛': '257', 'ジュブナイル': '258', '美少女': '259', '少女': '259', '女の子': '259', '幼馴染': '260', '幼馴染み': '260', '幼なじみ': '260', '女子高生': '261', 'JK': '261', '妹': '262', 'アイドル': '263', 'メイド': '264', 'アンドロイド': '265', '魔女': '266', '魔法使い': '267', '魔法少女': '268', '姉妹': '269', '義妹': '270', 'ギャル': '271', '巫女': '272', '王女': '273', 'ヒロイン': '274', 'Vtuber': '275', 'ストーカー': '276', 'ヤンデレ': '277', 'ツンデレ': '278', 'メンヘラ': '279', 'クーデレ': '280', 'ハーレム': '281', '後宮': '281', '溺愛': '282', '社会人百合': '305', 'ガールズラブ': '284', '百合': '284', 'GL': '284', 'ボーイズラブ': '285', 'BL': '285', 'ブロマンス': '285', '年の差': '286', '歳の差': '286', '結婚': '287', 'すれ違い': '288', '告白': '289', '身分差': '290', '恋愛': '291', '純愛': '291', '恋': '291', '愛': '291', '恋の話': '291', '初恋': '292', '失恋': '293', '不倫': '294', '悲恋': '295', '浮気': '296', '自殺': '297', '片思い': '298', '片想い': '298', '両片思い': '299', '両片想い': '299', '男女': '300', '同棲': '301', '同居': '301', '別れ': '302', '一途': '303', 'おねショタ': '304', '甘々': '306', 'あまあま': '306', '同性愛': '307', '嫉妬': '308', 'オフィスラブ': '309', '修羅場': '310', '異類婚姻譚': '311', '寝取られ': '312', 'NTR': '312'}\n"
     ]
    }
   ],
   "source": [
    "id2label = {label['id']:label['name'] for label in labels}\n",
    "label2id = {label['name']:label['id'] for label in labels}\n",
    "print(label2id)"
   ]
  },
  {
   "cell_type": "code",
   "execution_count": 10,
   "id": "b9fdbf25-c0a9-434d-97e4-8fea5f4f55ae",
   "metadata": {},
   "outputs": [
    {
     "name": "stdout",
     "output_type": "stream",
     "text": [
      "117735405488A-512.jsonl original lines: 9585\n",
      "117735405488A-512.jsonl cleaned lines: 9236\n"
     ]
    },
    {
     "name": "stderr",
     "output_type": "stream",
     "text": [
      "100%|████████████████████████████████████████████████████████████████████████████| 9236/9236 [00:02<00:00, 3684.47it/s]\n"
     ]
    },
    {
     "name": "stdout",
     "output_type": "stream",
     "text": [
      "117735405488B-512.jsonl original lines: 6480\n",
      "117735405488B-512.jsonl cleaned lines: 6253\n"
     ]
    },
    {
     "name": "stderr",
     "output_type": "stream",
     "text": [
      "100%|████████████████████████████████████████████████████████████████████████████| 6253/6253 [00:02<00:00, 2480.42it/s]\n"
     ]
    },
    {
     "name": "stdout",
     "output_type": "stream",
     "text": [
      "117735405488C-512.jsonl original lines: 8156\n",
      "117735405488C-512.jsonl cleaned lines: 7898\n"
     ]
    },
    {
     "name": "stderr",
     "output_type": "stream",
     "text": [
      "100%|████████████████████████████████████████████████████████████████████████████| 7898/7898 [00:03<00:00, 2220.02it/s]\n"
     ]
    },
    {
     "name": "stdout",
     "output_type": "stream",
     "text": [
      "117735405489A-512.jsonl original lines: 7418\n",
      "117735405489A-512.jsonl cleaned lines: 7168\n"
     ]
    },
    {
     "name": "stderr",
     "output_type": "stream",
     "text": [
      "100%|████████████████████████████████████████████████████████████████████████████| 7168/7168 [00:04<00:00, 1775.95it/s]\n"
     ]
    },
    {
     "name": "stdout",
     "output_type": "stream",
     "text": [
      "117735405489B-512.jsonl original lines: 6471\n",
      "117735405489B-512.jsonl cleaned lines: 6322\n"
     ]
    },
    {
     "name": "stderr",
     "output_type": "stream",
     "text": [
      "100%|████████████████████████████████████████████████████████████████████████████| 6322/6322 [00:03<00:00, 1947.29it/s]\n"
     ]
    },
    {
     "name": "stdout",
     "output_type": "stream",
     "text": [
      "11773540549-512.jsonl original lines: 7539\n",
      "11773540549-512.jsonl cleaned lines: 7254\n"
     ]
    },
    {
     "name": "stderr",
     "output_type": "stream",
     "text": [
      "100%|████████████████████████████████████████████████████████████████████████████| 7254/7254 [00:03<00:00, 2083.84it/s]\n"
     ]
    },
    {
     "name": "stdout",
     "output_type": "stream",
     "text": [
      "1177354055-512.jsonl original lines: 2958\n",
      "1177354055-512.jsonl cleaned lines: 2861\n"
     ]
    },
    {
     "name": "stderr",
     "output_type": "stream",
     "text": [
      "100%|████████████████████████████████████████████████████████████████████████████| 2861/2861 [00:01<00:00, 2642.50it/s]\n"
     ]
    },
    {
     "name": "stdout",
     "output_type": "stream",
     "text": [
      "1681641041-512.jsonl original lines: 466\n",
      "1681641041-512.jsonl cleaned lines: 447\n"
     ]
    },
    {
     "name": "stderr",
     "output_type": "stream",
     "text": [
      "100%|██████████████████████████████████████████████████████████████████████████████| 447/447 [00:00<00:00, 1951.62it/s]\n"
     ]
    },
    {
     "name": "stdout",
     "output_type": "stream",
     "text": [
      "1681645221-512.jsonl original lines: 6774\n",
      "1681645221-512.jsonl cleaned lines: 6607\n"
     ]
    },
    {
     "name": "stderr",
     "output_type": "stream",
     "text": [
      "100%|████████████████████████████████████████████████████████████████████████████| 6607/6607 [00:02<00:00, 2873.98it/s]\n"
     ]
    },
    {
     "name": "stdout",
     "output_type": "stream",
     "text": [
      "1681645222-512.jsonl original lines: 3886\n",
      "1681645222-512.jsonl cleaned lines: 3749\n"
     ]
    },
    {
     "name": "stderr",
     "output_type": "stream",
     "text": [
      "100%|████████████████████████████████████████████████████████████████████████████| 3749/3749 [00:01<00:00, 2642.47it/s]\n"
     ]
    },
    {
     "name": "stdout",
     "output_type": "stream",
     "text": [
      "1681670018-512.jsonl original lines: 9\n",
      "1681670018-512.jsonl cleaned lines: 9\n"
     ]
    },
    {
     "name": "stderr",
     "output_type": "stream",
     "text": [
      "100%|██████████████████████████████████████████████████████████████████████████████████| 9/9 [00:00<00:00, 1999.93it/s]\n"
     ]
    },
    {
     "name": "stdout",
     "output_type": "stream",
     "text": [
      "1681670042-512.jsonl original lines: 9254\n",
      "1681670042-512.jsonl cleaned lines: 8837\n"
     ]
    },
    {
     "name": "stderr",
     "output_type": "stream",
     "text": [
      "100%|████████████████████████████████████████████████████████████████████████████| 8837/8837 [00:02<00:00, 3982.63it/s]\n"
     ]
    },
    {
     "name": "stdout",
     "output_type": "stream",
     "text": [
      "1681692761-512.jsonl original lines: 12\n",
      "1681692761-512.jsonl cleaned lines: 12\n"
     ]
    },
    {
     "name": "stderr",
     "output_type": "stream",
     "text": [
      "100%|████████████████████████████████████████████████████████████████████████████████| 12/12 [00:00<00:00, 4799.89it/s]\n"
     ]
    },
    {
     "name": "stdout",
     "output_type": "stream",
     "text": [
      "1681692785-512.jsonl original lines: 1788\n",
      "1681692785-512.jsonl cleaned lines: 1744\n"
     ]
    },
    {
     "name": "stderr",
     "output_type": "stream",
     "text": [
      "100%|████████████████████████████████████████████████████████████████████████████| 1744/1744 [00:00<00:00, 5861.56it/s]\n"
     ]
    },
    {
     "name": "stdout",
     "output_type": "stream",
     "text": [
      "1681692786-512.jsonl original lines: 171\n",
      "1681692786-512.jsonl cleaned lines: 168\n"
     ]
    },
    {
     "name": "stderr",
     "output_type": "stream",
     "text": [
      "100%|██████████████████████████████████████████████████████████████████████████████| 168/168 [00:00<00:00, 7635.76it/s]\n"
     ]
    },
    {
     "name": "stdout",
     "output_type": "stream",
     "text": [
      "4852201425-512.jsonl original lines: 1087\n",
      "4852201425-512.jsonl cleaned lines: 1062\n"
     ]
    },
    {
     "name": "stderr",
     "output_type": "stream",
     "text": [
      "100%|████████████████████████████████████████████████████████████████████████████| 1062/1062 [00:00<00:00, 1693.48it/s]"
     ]
    },
    {
     "name": "stdout",
     "output_type": "stream",
     "text": [
      "Time: 85.90065908432007\n"
     ]
    },
    {
     "name": "stderr",
     "output_type": "stream",
     "text": [
      "\n"
     ]
    }
   ],
   "source": [
    "import json\n",
    "import tqdm\n",
    "import time\n",
    "from os import walk\n",
    "\n",
    "works = []\n",
    "st_time = time.time()\n",
    "filenames = next(walk(\"testdata\"),  (None, None, []))[2]\n",
    "for filename in filenames:\n",
    "    datas = load_jsonl(f\"testdata/{filename}\")\n",
    "    \n",
    "    print(f\"{filename} original lines: {len(datas)}\")\n",
    "    for data in datas:\n",
    "        if data['labels'] == None:\n",
    "            datas.remove(data)\n",
    "    print(f\"{filename} cleaned lines: {len(datas)}\")\n",
    "    \n",
    "    for data in tqdm.tqdm(datas):\n",
    "        w = create_work(data)\n",
    "        work = {\"id\": w.id, \"title\": w.title, \"content\": w.content, \"labels\": w.labels}\n",
    "        works.append(work)\n",
    "        \n",
    "print(f\"Time: {time.time()-st_time}\")"
   ]
  },
  {
   "cell_type": "code",
   "execution_count": null,
   "id": "684513b4-1a32-4aff-8a44-b599e59875d7",
   "metadata": {},
   "outputs": [
    {
     "name": "stdout",
     "output_type": "stream",
     "text": [
      "69627\n"
     ]
    },
    {
     "name": "stderr",
     "output_type": "stream",
     "text": [
      " 85%|███████████████████████████████████████████████████████████████           | 59328/69627 [00:54<00:09, 1087.34it/s]"
     ]
    },
    {
     "name": "stdout",
     "output_type": "stream",
     "text": [
      "59328\n"
     ]
    },
    {
     "name": "stderr",
     "output_type": "stream",
     "text": [
      "\n"
     ]
    }
   ],
   "source": [
    "print(len(works))\n",
    "for work in tqdm.tqdm(works):\n",
    "    if work['labels'] == []:\n",
    "        works.remove(work)\n",
    "print(len(works))\n",
    "#print(works[6])"
   ]
  },
  {
   "cell_type": "code",
   "execution_count": 20,
   "id": "fd010b9d-6e42-4901-a090-aff2abbe16fd",
   "metadata": {},
   "outputs": [
    {
     "data": {
      "text/html": [
       "<div>\n",
       "<style scoped>\n",
       "    .dataframe tbody tr th:only-of-type {\n",
       "        vertical-align: middle;\n",
       "    }\n",
       "\n",
       "    .dataframe tbody tr th {\n",
       "        vertical-align: top;\n",
       "    }\n",
       "\n",
       "    .dataframe thead th {\n",
       "        text-align: right;\n",
       "    }\n",
       "</style>\n",
       "<table border=\"1\" class=\"dataframe\">\n",
       "  <thead>\n",
       "    <tr style=\"text-align: right;\">\n",
       "      <th></th>\n",
       "      <th>id</th>\n",
       "      <th>title</th>\n",
       "      <th>content</th>\n",
       "      <th>labels</th>\n",
       "    </tr>\n",
       "  </thead>\n",
       "  <tbody>\n",
       "    <tr>\n",
       "      <th>0</th>\n",
       "      <td>1177354054880199356</td>\n",
       "      <td>彼女は頭の上にミカンを乗せていた。ミカンセイ空間にようこそ</td>\n",
       "      <td>web小説ですし、出来るだけくだけた書き方でいきます。この作品はノンセンス(荒唐無稽な物事を...</td>\n",
       "      <td>[0, 0, 0, 0, 0, 0, 0, 0, 0, 0, 0, 0, 0, 0, 0, ...</td>\n",
       "    </tr>\n",
       "    <tr>\n",
       "      <th>1</th>\n",
       "      <td>1177354054880199370</td>\n",
       "      <td>ノー・イヤー・ヒーロー</td>\n",
       "      <td>常識が変わる瞬間を見たことがあるか？例えばクラハムベルがはじめて遠距離通信を行った瞬間とか、...</td>\n",
       "      <td>[0, 0, 0, 0, 0, 0, 0, 0, 0, 0, 0, 0, 0, 0, 0, ...</td>\n",
       "    </tr>\n",
       "    <tr>\n",
       "      <th>2</th>\n",
       "      <td>1177354054880199563</td>\n",
       "      <td>星の代わりに</td>\n",
       "      <td>今は午後一時半。お腹に少しは物を入れている。タバコもいっぷくすませたし、あとにすることは限ら...</td>\n",
       "      <td>[0, 0, 0, 0, 0, 0, 0, 0, 0, 0, 0, 0, 0, 0, 0, ...</td>\n",
       "    </tr>\n",
       "    <tr>\n",
       "      <th>3</th>\n",
       "      <td>1177354054880199764</td>\n",
       "      <td>長耳のベアラー</td>\n",
       "      <td>必要とされる場所には自然と人は集まってくる。人が集まれば活気が出来上がり、夜でも賑やかな街に...</td>\n",
       "      <td>[0, 0, 0, 0, 0, 0, 0, 0, 0, 0, 0, 0, 0, 0, 0, ...</td>\n",
       "    </tr>\n",
       "    <tr>\n",
       "      <th>4</th>\n",
       "      <td>1177354054880199944</td>\n",
       "      <td>海の底へ</td>\n",
       "      <td>「玲さんは、なんでこんなところまで来たの？」拓真に聞かれる。「…だから、拓真に会いにだよ。」...</td>\n",
       "      <td>[0, 0, 0, 0, 0, 0, 0, 0, 0, 0, 0, 0, 0, 0, 0, ...</td>\n",
       "    </tr>\n",
       "  </tbody>\n",
       "</table>\n",
       "</div>"
      ],
      "text/plain": [
       "                    id                          title  \\\n",
       "0  1177354054880199356  彼女は頭の上にミカンを乗せていた。ミカンセイ空間にようこそ   \n",
       "1  1177354054880199370                    ノー・イヤー・ヒーロー   \n",
       "2  1177354054880199563                         星の代わりに   \n",
       "3  1177354054880199764                        長耳のベアラー   \n",
       "4  1177354054880199944                           海の底へ   \n",
       "\n",
       "                                             content  \\\n",
       "0  web小説ですし、出来るだけくだけた書き方でいきます。この作品はノンセンス(荒唐無稽な物事を...   \n",
       "1  常識が変わる瞬間を見たことがあるか？例えばクラハムベルがはじめて遠距離通信を行った瞬間とか、...   \n",
       "2  今は午後一時半。お腹に少しは物を入れている。タバコもいっぷくすませたし、あとにすることは限ら...   \n",
       "3  必要とされる場所には自然と人は集まってくる。人が集まれば活気が出来上がり、夜でも賑やかな街に...   \n",
       "4  「玲さんは、なんでこんなところまで来たの？」拓真に聞かれる。「…だから、拓真に会いにだよ。」...   \n",
       "\n",
       "                                              labels  \n",
       "0  [0, 0, 0, 0, 0, 0, 0, 0, 0, 0, 0, 0, 0, 0, 0, ...  \n",
       "1  [0, 0, 0, 0, 0, 0, 0, 0, 0, 0, 0, 0, 0, 0, 0, ...  \n",
       "2  [0, 0, 0, 0, 0, 0, 0, 0, 0, 0, 0, 0, 0, 0, 0, ...  \n",
       "3  [0, 0, 0, 0, 0, 0, 0, 0, 0, 0, 0, 0, 0, 0, 0, ...  \n",
       "4  [0, 0, 0, 0, 0, 0, 0, 0, 0, 0, 0, 0, 0, 0, 0, ...  "
      ]
     },
     "execution_count": 20,
     "metadata": {},
     "output_type": "execute_result"
    }
   ],
   "source": [
    "import pandas as pd\n",
    "from sklearn.preprocessing import MultiLabelBinarizer\n",
    "\n",
    "works_id = [work['id'] for work in works]\n",
    "works_title = [work['title'] for work in works]\n",
    "works_content = [work['content'] for work in works]\n",
    "\n",
    "mlb = MultiLabelBinarizer(classes=(ids))\n",
    "works_labels = [work['labels'] for work in works]\n",
    "works_labels = mlb.fit_transform(works_labels)\n",
    "\n",
    "works_df = pd.DataFrame({'id': works_id, 'title': works_title, 'content': works_content, 'labels': works_labels.tolist()})\n",
    "works_df.head()"
   ]
  },
  {
   "cell_type": "code",
   "execution_count": 21,
   "id": "f3ddb658-85c2-4071-9c22-decd09fde46b",
   "metadata": {},
   "outputs": [],
   "source": [
    "import datasets\n",
    "from datasets import Dataset\n",
    "dataset = Dataset.from_pandas(works_df)\n",
    "train_testvalid = dataset.train_test_split(test_size=0.2)\n",
    "test_valid = train_testvalid['test'].train_test_split(test_size=0.5)\n",
    "dataset = datasets.DatasetDict({\n",
    "    'train': train_testvalid['train'],\n",
    "    'test': test_valid['test'],\n",
    "    'valid': test_valid['train']\n",
    "})"
   ]
  },
  {
   "cell_type": "code",
   "execution_count": 50,
   "id": "7f3fd685-d4df-4e09-90d8-2c87921ab80d",
   "metadata": {},
   "outputs": [
    {
     "name": "stdout",
     "output_type": "stream",
     "text": [
      "<class 'list'>\n"
     ]
    }
   ],
   "source": [
    "print(type(dataset['train'][0]['labels']))"
   ]
  },
  {
   "cell_type": "code",
   "execution_count": 59,
   "id": "4f65b6d0-46f3-4450-a345-a88f574263c7",
   "metadata": {},
   "outputs": [
    {
     "name": "stderr",
     "output_type": "stream",
     "text": [
      "loading configuration file https://huggingface.co/cl-tohoku/bert-base-japanese-whole-word-masking/resolve/main/config.json from cache at C:\\Users\\User/.cache\\huggingface\\transformers\\573af37b6c39d672f2df687c06ad7d556476cbe43e5bf7771097187c45a3e7bf.abeb707b5d79387dd462e8bfb724637d856e98434b6931c769b8716c6f287258\n",
      "Model config BertConfig {\n",
      "  \"_name_or_path\": \"cl-tohoku/bert-base-japanese-whole-word-masking\",\n",
      "  \"architectures\": [\n",
      "    \"BertForMaskedLM\"\n",
      "  ],\n",
      "  \"attention_probs_dropout_prob\": 0.1,\n",
      "  \"classifier_dropout\": null,\n",
      "  \"hidden_act\": \"gelu\",\n",
      "  \"hidden_dropout_prob\": 0.1,\n",
      "  \"hidden_size\": 768,\n",
      "  \"initializer_range\": 0.02,\n",
      "  \"intermediate_size\": 3072,\n",
      "  \"layer_norm_eps\": 1e-12,\n",
      "  \"max_position_embeddings\": 512,\n",
      "  \"model_type\": \"bert\",\n",
      "  \"num_attention_heads\": 12,\n",
      "  \"num_hidden_layers\": 12,\n",
      "  \"pad_token_id\": 0,\n",
      "  \"position_embedding_type\": \"absolute\",\n",
      "  \"tokenizer_class\": \"BertJapaneseTokenizer\",\n",
      "  \"transformers_version\": \"4.19.2\",\n",
      "  \"type_vocab_size\": 2,\n",
      "  \"use_cache\": true,\n",
      "  \"vocab_size\": 32000\n",
      "}\n",
      "\n",
      "loading file https://huggingface.co/cl-tohoku/bert-base-japanese-whole-word-masking/resolve/main/vocab.txt from cache at C:\\Users\\User/.cache\\huggingface\\transformers\\15164357d71cd32532e56c1d7c2757141326ae17c53e2277bc417cc7c21da6ea.a7378a0cbee5cff668832a776d72b97a25479604fe9564d5595897f75049e7f4\n",
      "loading file https://huggingface.co/cl-tohoku/bert-base-japanese-whole-word-masking/resolve/main/added_tokens.json from cache at None\n",
      "loading file https://huggingface.co/cl-tohoku/bert-base-japanese-whole-word-masking/resolve/main/special_tokens_map.json from cache at None\n",
      "loading file https://huggingface.co/cl-tohoku/bert-base-japanese-whole-word-masking/resolve/main/tokenizer_config.json from cache at C:\\Users\\User/.cache\\huggingface\\transformers\\0e46f722799f19c3f0c53172545108a4b31847d3b9a2d5b100759f6673bd667b.08ae4e4044742b9cc7172698caf1da2524f5597ff8cf848114dd0b730cc44bdc\n",
      "loading configuration file https://huggingface.co/cl-tohoku/bert-base-japanese-whole-word-masking/resolve/main/config.json from cache at C:\\Users\\User/.cache\\huggingface\\transformers\\573af37b6c39d672f2df687c06ad7d556476cbe43e5bf7771097187c45a3e7bf.abeb707b5d79387dd462e8bfb724637d856e98434b6931c769b8716c6f287258\n",
      "Model config BertConfig {\n",
      "  \"_name_or_path\": \"cl-tohoku/bert-base-japanese-whole-word-masking\",\n",
      "  \"architectures\": [\n",
      "    \"BertForMaskedLM\"\n",
      "  ],\n",
      "  \"attention_probs_dropout_prob\": 0.1,\n",
      "  \"classifier_dropout\": null,\n",
      "  \"hidden_act\": \"gelu\",\n",
      "  \"hidden_dropout_prob\": 0.1,\n",
      "  \"hidden_size\": 768,\n",
      "  \"initializer_range\": 0.02,\n",
      "  \"intermediate_size\": 3072,\n",
      "  \"layer_norm_eps\": 1e-12,\n",
      "  \"max_position_embeddings\": 512,\n",
      "  \"model_type\": \"bert\",\n",
      "  \"num_attention_heads\": 12,\n",
      "  \"num_hidden_layers\": 12,\n",
      "  \"pad_token_id\": 0,\n",
      "  \"position_embedding_type\": \"absolute\",\n",
      "  \"tokenizer_class\": \"BertJapaneseTokenizer\",\n",
      "  \"transformers_version\": \"4.19.2\",\n",
      "  \"type_vocab_size\": 2,\n",
      "  \"use_cache\": true,\n",
      "  \"vocab_size\": 32000\n",
      "}\n",
      "\n"
     ]
    }
   ],
   "source": [
    "import numpy as np\n",
    "import torch\n",
    "from transformers import AutoModel, AutoTokenizer\n",
    "\n",
    "tokenizer = AutoTokenizer.from_pretrained('cl-tohoku/bert-base-japanese-whole-word-masking', mecab_kwargs={\"mecab_dic\": \"unidic\", \"mecab_option\": None})\n",
    "\n",
    "def preprocess_data(work):\n",
    "    text = work['content']\n",
    "    encoding = tokenizer(text, max_length=512, truncation=True, padding=\"max_length\")\n",
    "    encoding['labels'] = np.array(work['labels'], dtype=np.float32)\n",
    "    return encoding"
   ]
  },
  {
   "cell_type": "code",
   "execution_count": 60,
   "id": "c8f921b2-cc18-462c-a91a-2c94c483847f",
   "metadata": {},
   "outputs": [
    {
     "data": {
      "application/vnd.jupyter.widget-view+json": {
       "model_id": "dbd465b661354145b32c3e28f6f3d799",
       "version_major": 2,
       "version_minor": 0
      },
      "text/plain": [
       "  0%|          | 0/48 [00:00<?, ?ba/s]"
      ]
     },
     "metadata": {},
     "output_type": "display_data"
    },
    {
     "data": {
      "application/vnd.jupyter.widget-view+json": {
       "model_id": "6b491d8fad514011845c9834e742c2c3",
       "version_major": 2,
       "version_minor": 0
      },
      "text/plain": [
       "  0%|          | 0/6 [00:00<?, ?ba/s]"
      ]
     },
     "metadata": {},
     "output_type": "display_data"
    },
    {
     "data": {
      "application/vnd.jupyter.widget-view+json": {
       "model_id": "dda6213d01f24425a2684e7e717fa358",
       "version_major": 2,
       "version_minor": 0
      },
      "text/plain": [
       "  0%|          | 0/6 [00:00<?, ?ba/s]"
      ]
     },
     "metadata": {},
     "output_type": "display_data"
    }
   ],
   "source": [
    "encoding_dataset = dataset.map(preprocess_data, batched=True, remove_columns=dataset['train'].column_names)"
   ]
  },
  {
   "cell_type": "code",
   "execution_count": 64,
   "id": "6022e157-db26-4a07-a8fe-772082c97b35",
   "metadata": {},
   "outputs": [
    {
     "name": "stdout",
     "output_type": "stream",
     "text": [
      "{'labels': [0, 0, 1, 0, 0, 0, 0, 0, 0, 0, 0, 0, 0, 0, 0, 0, 0, 0, 0, 0, 0, 0, 0, 0, 0, 0, 0, 0, 0, 0, 0, 0, 0, 0, 0, 0, 0, 0, 1, 1, 0, 0, 0, 0, 0, 0, 0, 0, 0, 0, 0, 0, 0, 0, 0, 0, 0, 0, 0, 0, 0, 0, 0, 0, 0, 0, 0, 0, 0, 1, 0, 0, 0, 0, 0, 0, 0, 0, 0, 0, 0, 0, 1, 0, 0, 0, 0, 0, 0, 0, 0, 0, 0, 0, 0, 0, 0, 0, 0, 0, 0, 0, 0, 0, 0, 1, 0, 0, 0, 0, 0, 0, 0, 0, 0, 0, 0, 0, 0, 0, 1, 0, 0, 0, 0, 0, 0, 0, 0, 0, 0, 0, 0, 0, 0, 0, 0, 0, 0, 0, 0, 0, 0, 0, 0, 0, 0, 0, 0, 0, 0, 0, 0, 0, 0, 0, 0, 0, 0, 0, 0, 0, 0, 0, 0, 0, 0, 0, 0, 0, 0, 0, 0, 0, 0, 0, 0, 0, 0, 0, 0, 0, 0, 0, 0, 0, 0, 0, 0, 0, 0, 0, 0, 0, 0, 0, 0, 0, 0, 0, 0, 0, 0, 0, 0, 0, 0, 0, 0, 0, 0, 0, 0, 0, 0, 0, 0, 0, 0, 0, 0, 0, 0, 0, 0, 0, 0, 0, 0, 0, 0, 0, 0, 0, 0, 0, 0, 0, 0, 0, 0, 0, 0, 0, 0, 0, 0, 0, 0, 0, 0, 0, 0, 0, 0, 0, 0, 0, 0, 0, 0, 0, 0, 0, 0, 0, 0, 0, 0, 0, 0, 0, 0, 0, 0, 0, 0, 0, 0, 0, 0, 0, 0, 0, 0, 0, 0, 0, 0, 0, 0, 0, 0, 0, 0, 0, 0, 0, 0, 0, 0, 0, 0, 0, 0, 0, 0, 0, 0, 0, 0, 0], 'input_ids': [2, 12660, 11216, 12660, 11216, 10531, 30239, 30239, 8419, 28504, 2532, 1074, 5, 419, 11, 6296, 895, 7913, 9, 25814, 29179, 28504, 3251, 5, 51, 6, 19314, 17038, 13, 2147, 11, 17472, 16, 21, 10, 8, 36, 23, 2575, 45, 9, 143, 143, 143, 143, 143, 143, 1037, 28, 6013, 10, 18, 143, 143, 143, 143, 143, 143, 24, 38, 373, 6, 2502, 2708, 16, 546, 16, 28, 25402, 28462, 13579, 9, 6013, 10, 8, 8390, 10, 4726, 7, 1878, 7244, 20606, 3741, 14, 6, 7913, 5, 287, 29115, 240, 19, 5, 5386, 11, 27964, 28489, 124, 7, 4896, 28614, 22159, 12, 861, 8, 7913, 45, 63, 240, 1605, 65, 9, 6, 4910, 13, 1782, 5, 755, 53, 2283, 8, 75, 14, 6, 2283, 13, 5, 1883, 9, 23223, 838, 332, 6, 3669, 12, 31, 7913, 9, 7789, 28491, 20, 16, 21, 10, 8, 4910, 9, 1380, 5, 3614, 1782, 11, 16617, 29102, 15, 6, 1037, 28, 29, 28, 14, 1982, 18, 7913, 7, 9, 7216, 31805, 7, 9436, 16, 21, 10, 8, 893, 193, 5, 1782, 9, 4590, 71, 16, 18730, 13, 1653, 1058, 4027, 5, 6868, 12, 4508, 13, 28, 5693, 28778, 5, 8408, 2502, 11, 15, 16, 21, 10, 8, 36, 23, 2340, 143, 143, 143, 143, 143, 143, 2575, 29, 143, 143, 143, 143, 143, 143, 24, 38, 171, 9, 9141, 18, 6, 13, 6, 4726, 9, 4897, 28870, 5, 7, 1037, 13, 332, 21172, 18, 2827, 11, 34, 8, 7913, 9, 22131, 15, 16, 10242, 7, 4089, 22159, 75, 291, 7, 6481, 40, 22820, 84, 9463, 11, 2911, 10596, 16, 21, 10, 40, 75, 8, 36, 30239, 30239, 73, 1456, 2375, 679, 13734, 15, 16, 16546, 679, 22, 28474, 143, 143, 143, 143, 143, 143, 232, 6, 2552, 14, 143, 143, 143, 143, 143, 143, 38, 36, 2606, 6, 614, 28512, 23133, 679, 83, 9, 7461, 14, 18454, 28497, 16184, 10, 18, 13, 4479, 10, 5, 9, 6, 7913, 5, 174, 11, 12622, 16, 21, 10, 11768, 11, 5135, 29177, 5558, 10, 45, 12, 1992, 7, 8443, 62, 45, 11, 7733, 203, 10, 45, 3635, 28489, 8, 143, 143, 143, 143, 143, 143, 1704, 28616, 4910, 13, 1782, 9, 7913, 14, 5643, 12, 28, 3640, 412, 14, 71, 16, 2850, 28933, 687, 8, 1778, 625, 2283, 18, 5, 75, 8, 36, 23, 737, 6, 171, 14, 918, 5359, 126, 28, 2463, 2049, 30493, 143, 143, 143, 143, 143, 143, 171, 14, 4231, 3, 0, 0, 0, 0, 0, 0, 0, 0, 0, 0, 0, 0, 0, 0, 0, 0, 0, 0, 0, 0, 0, 0, 0, 0, 0, 0, 0, 0, 0, 0, 0, 0, 0, 0, 0, 0, 0, 0, 0, 0, 0, 0, 0, 0, 0, 0, 0, 0, 0, 0, 0, 0, 0, 0, 0, 0, 0, 0, 0, 0, 0, 0, 0, 0, 0, 0, 0, 0, 0, 0, 0, 0, 0, 0, 0, 0, 0, 0, 0, 0, 0, 0, 0, 0, 0, 0, 0, 0, 0, 0, 0, 0, 0, 0, 0, 0, 0, 0, 0, 0, 0, 0, 0, 0], 'token_type_ids': [0, 0, 0, 0, 0, 0, 0, 0, 0, 0, 0, 0, 0, 0, 0, 0, 0, 0, 0, 0, 0, 0, 0, 0, 0, 0, 0, 0, 0, 0, 0, 0, 0, 0, 0, 0, 0, 0, 0, 0, 0, 0, 0, 0, 0, 0, 0, 0, 0, 0, 0, 0, 0, 0, 0, 0, 0, 0, 0, 0, 0, 0, 0, 0, 0, 0, 0, 0, 0, 0, 0, 0, 0, 0, 0, 0, 0, 0, 0, 0, 0, 0, 0, 0, 0, 0, 0, 0, 0, 0, 0, 0, 0, 0, 0, 0, 0, 0, 0, 0, 0, 0, 0, 0, 0, 0, 0, 0, 0, 0, 0, 0, 0, 0, 0, 0, 0, 0, 0, 0, 0, 0, 0, 0, 0, 0, 0, 0, 0, 0, 0, 0, 0, 0, 0, 0, 0, 0, 0, 0, 0, 0, 0, 0, 0, 0, 0, 0, 0, 0, 0, 0, 0, 0, 0, 0, 0, 0, 0, 0, 0, 0, 0, 0, 0, 0, 0, 0, 0, 0, 0, 0, 0, 0, 0, 0, 0, 0, 0, 0, 0, 0, 0, 0, 0, 0, 0, 0, 0, 0, 0, 0, 0, 0, 0, 0, 0, 0, 0, 0, 0, 0, 0, 0, 0, 0, 0, 0, 0, 0, 0, 0, 0, 0, 0, 0, 0, 0, 0, 0, 0, 0, 0, 0, 0, 0, 0, 0, 0, 0, 0, 0, 0, 0, 0, 0, 0, 0, 0, 0, 0, 0, 0, 0, 0, 0, 0, 0, 0, 0, 0, 0, 0, 0, 0, 0, 0, 0, 0, 0, 0, 0, 0, 0, 0, 0, 0, 0, 0, 0, 0, 0, 0, 0, 0, 0, 0, 0, 0, 0, 0, 0, 0, 0, 0, 0, 0, 0, 0, 0, 0, 0, 0, 0, 0, 0, 0, 0, 0, 0, 0, 0, 0, 0, 0, 0, 0, 0, 0, 0, 0, 0, 0, 0, 0, 0, 0, 0, 0, 0, 0, 0, 0, 0, 0, 0, 0, 0, 0, 0, 0, 0, 0, 0, 0, 0, 0, 0, 0, 0, 0, 0, 0, 0, 0, 0, 0, 0, 0, 0, 0, 0, 0, 0, 0, 0, 0, 0, 0, 0, 0, 0, 0, 0, 0, 0, 0, 0, 0, 0, 0, 0, 0, 0, 0, 0, 0, 0, 0, 0, 0, 0, 0, 0, 0, 0, 0, 0, 0, 0, 0, 0, 0, 0, 0, 0, 0, 0, 0, 0, 0, 0, 0, 0, 0, 0, 0, 0, 0, 0, 0, 0, 0, 0, 0, 0, 0, 0, 0, 0, 0, 0, 0, 0, 0, 0, 0, 0, 0, 0, 0, 0, 0, 0, 0, 0, 0, 0, 0, 0, 0, 0, 0, 0, 0, 0, 0, 0, 0, 0, 0, 0, 0, 0, 0, 0, 0, 0, 0, 0, 0, 0, 0, 0, 0, 0, 0, 0, 0, 0, 0, 0, 0, 0, 0, 0, 0, 0, 0, 0, 0, 0, 0, 0, 0, 0, 0, 0, 0, 0, 0, 0, 0, 0, 0, 0, 0, 0, 0, 0, 0, 0, 0, 0, 0, 0, 0, 0, 0, 0, 0, 0], 'attention_mask': [1, 1, 1, 1, 1, 1, 1, 1, 1, 1, 1, 1, 1, 1, 1, 1, 1, 1, 1, 1, 1, 1, 1, 1, 1, 1, 1, 1, 1, 1, 1, 1, 1, 1, 1, 1, 1, 1, 1, 1, 1, 1, 1, 1, 1, 1, 1, 1, 1, 1, 1, 1, 1, 1, 1, 1, 1, 1, 1, 1, 1, 1, 1, 1, 1, 1, 1, 1, 1, 1, 1, 1, 1, 1, 1, 1, 1, 1, 1, 1, 1, 1, 1, 1, 1, 1, 1, 1, 1, 1, 1, 1, 1, 1, 1, 1, 1, 1, 1, 1, 1, 1, 1, 1, 1, 1, 1, 1, 1, 1, 1, 1, 1, 1, 1, 1, 1, 1, 1, 1, 1, 1, 1, 1, 1, 1, 1, 1, 1, 1, 1, 1, 1, 1, 1, 1, 1, 1, 1, 1, 1, 1, 1, 1, 1, 1, 1, 1, 1, 1, 1, 1, 1, 1, 1, 1, 1, 1, 1, 1, 1, 1, 1, 1, 1, 1, 1, 1, 1, 1, 1, 1, 1, 1, 1, 1, 1, 1, 1, 1, 1, 1, 1, 1, 1, 1, 1, 1, 1, 1, 1, 1, 1, 1, 1, 1, 1, 1, 1, 1, 1, 1, 1, 1, 1, 1, 1, 1, 1, 1, 1, 1, 1, 1, 1, 1, 1, 1, 1, 1, 1, 1, 1, 1, 1, 1, 1, 1, 1, 1, 1, 1, 1, 1, 1, 1, 1, 1, 1, 1, 1, 1, 1, 1, 1, 1, 1, 1, 1, 1, 1, 1, 1, 1, 1, 1, 1, 1, 1, 1, 1, 1, 1, 1, 1, 1, 1, 1, 1, 1, 1, 1, 1, 1, 1, 1, 1, 1, 1, 1, 1, 1, 1, 1, 1, 1, 1, 1, 1, 1, 1, 1, 1, 1, 1, 1, 1, 1, 1, 1, 1, 1, 1, 1, 1, 1, 1, 1, 1, 1, 1, 1, 1, 1, 1, 1, 1, 1, 1, 1, 1, 1, 1, 1, 1, 1, 1, 1, 1, 1, 1, 1, 1, 1, 1, 1, 1, 1, 1, 1, 1, 1, 1, 1, 1, 1, 1, 1, 1, 1, 1, 1, 1, 1, 1, 1, 1, 1, 1, 1, 1, 1, 1, 1, 1, 1, 1, 1, 1, 1, 1, 1, 1, 1, 1, 1, 1, 1, 1, 1, 1, 1, 1, 1, 1, 1, 1, 1, 1, 1, 1, 1, 1, 1, 1, 1, 1, 1, 1, 1, 1, 1, 1, 1, 1, 1, 1, 1, 0, 0, 0, 0, 0, 0, 0, 0, 0, 0, 0, 0, 0, 0, 0, 0, 0, 0, 0, 0, 0, 0, 0, 0, 0, 0, 0, 0, 0, 0, 0, 0, 0, 0, 0, 0, 0, 0, 0, 0, 0, 0, 0, 0, 0, 0, 0, 0, 0, 0, 0, 0, 0, 0, 0, 0, 0, 0, 0, 0, 0, 0, 0, 0, 0, 0, 0, 0, 0, 0, 0, 0, 0, 0, 0, 0, 0, 0, 0, 0, 0, 0, 0, 0, 0, 0, 0, 0, 0, 0, 0, 0, 0, 0, 0, 0, 0, 0, 0, 0, 0, 0, 0, 0]}\n",
      "<class 'int'>\n"
     ]
    },
    {
     "data": {
      "text/plain": [
       "'[CLS] ピーポー ピーポー......―― 響く サイレン の 音 を 聞き ながら 俺 は 薄れゆく 意識 の 中 、 ぼんやり と 過去 を 振り返っ て い た 。 「 ( いい こと は...... 何 も 無かっ た な...... ) 」 しかし 、 思い返し て み て も ロクな 思い出 は 無かっ た 。 倒れ た 身体 に 打ち付ける 冷たい 雨 が 、 俺 の 二十 三 年 の 人生 を 嘲笑う よう に 染みこん で いく 。 俺 こと 『 三 門 』 は 、 両親 と 弟 の 四 人 家族 。 だ が 、 家族 と の 仲 は よろしく なく 、 長男 で ある 俺 は 疎ま れ て い た 。 両親 は 出来 の 良い 弟 を 溺愛 し 、 何 も か も が 平均 な 俺 に は 辛辣 に 当たっ て い た 。 そして 実 の 弟 は 早く 出 て 行け と 言わ ん ばかり の 態度 で なん と も 肩身 の 狭い 思い を し て い た 。 「 ( もう...... いい か...... ) 」 これ は 死ぬ な 、 と 、 身体 は 痛む の に 何 と なく 冷静 な 判断 を する 。 俺 は スリップ し て 歩道 に 飛びこん だ 車 に 後ろ から はね られ 全身 を 強く 打っ て い た から だ 。 「―― お 兄 さん! しっかり し て ください! ああ...... ほ 、 骨 が...... 」 「 君 、 どき なさい! 後 は 我々 が ――」 良かっ た な と 思っ た の は 、 俺 の 前 を 歩い て い た 女の子 を 突き飛ばし た こと で 事故 に 巻き込ま れる こと を 阻止 でき た こと だろう 。...... どうせ 両親 と 弟 は 俺 が 死ん で も 保険 金 が 出 て 喜ぶ だけ 。 そう いう 家族 な の だ 。 「 ( なら 、 これ が 最初 どこ まで も 続く 暗闇...... これ が 死後 [SEP] [PAD] [PAD] [PAD] [PAD] [PAD] [PAD] [PAD] [PAD] [PAD] [PAD] [PAD] [PAD] [PAD] [PAD] [PAD] [PAD] [PAD] [PAD] [PAD] [PAD] [PAD] [PAD] [PAD] [PAD] [PAD] [PAD] [PAD] [PAD] [PAD] [PAD] [PAD] [PAD] [PAD] [PAD] [PAD] [PAD] [PAD] [PAD] [PAD] [PAD] [PAD] [PAD] [PAD] [PAD] [PAD] [PAD] [PAD] [PAD] [PAD] [PAD] [PAD] [PAD] [PAD] [PAD] [PAD] [PAD] [PAD] [PAD] [PAD] [PAD] [PAD] [PAD] [PAD] [PAD] [PAD] [PAD] [PAD] [PAD] [PAD] [PAD] [PAD] [PAD] [PAD] [PAD] [PAD] [PAD] [PAD] [PAD] [PAD] [PAD] [PAD] [PAD] [PAD] [PAD] [PAD] [PAD] [PAD] [PAD] [PAD] [PAD] [PAD] [PAD] [PAD] [PAD] [PAD] [PAD] [PAD] [PAD] [PAD] [PAD] [PAD] [PAD] [PAD] [PAD]'"
      ]
     },
     "execution_count": 64,
     "metadata": {},
     "output_type": "execute_result"
    }
   ],
   "source": [
    "exp = encoding_dataset['train'][0]\n",
    "print(exp)\n",
    "print(type(exp['labels'][0]))\n",
    "tokenizer.decode(exp['input_ids'])"
   ]
  },
  {
   "cell_type": "code",
   "execution_count": 65,
   "id": "f3b491b5-a577-4fb2-95b9-7744231889ba",
   "metadata": {},
   "outputs": [],
   "source": [
    "encoding_dataset.set_format(\"torch\")"
   ]
  },
  {
   "cell_type": "code",
   "execution_count": 67,
   "id": "cb71e4e4-f9ab-436d-8248-b2073ff5aa47",
   "metadata": {},
   "outputs": [
    {
     "name": "stdout",
     "output_type": "stream",
     "text": [
      "{'labels': tensor([0, 0, 1, 0, 0, 0, 0, 0, 0, 0, 0, 0, 0, 0, 0, 0, 0, 0, 0, 0, 0, 0, 0, 0,\n",
      "        0, 0, 0, 0, 0, 0, 0, 0, 0, 0, 0, 0, 0, 0, 1, 1, 0, 0, 0, 0, 0, 0, 0, 0,\n",
      "        0, 0, 0, 0, 0, 0, 0, 0, 0, 0, 0, 0, 0, 0, 0, 0, 0, 0, 0, 0, 0, 1, 0, 0,\n",
      "        0, 0, 0, 0, 0, 0, 0, 0, 0, 0, 1, 0, 0, 0, 0, 0, 0, 0, 0, 0, 0, 0, 0, 0,\n",
      "        0, 0, 0, 0, 0, 0, 0, 0, 0, 1, 0, 0, 0, 0, 0, 0, 0, 0, 0, 0, 0, 0, 0, 0,\n",
      "        1, 0, 0, 0, 0, 0, 0, 0, 0, 0, 0, 0, 0, 0, 0, 0, 0, 0, 0, 0, 0, 0, 0, 0,\n",
      "        0, 0, 0, 0, 0, 0, 0, 0, 0, 0, 0, 0, 0, 0, 0, 0, 0, 0, 0, 0, 0, 0, 0, 0,\n",
      "        0, 0, 0, 0, 0, 0, 0, 0, 0, 0, 0, 0, 0, 0, 0, 0, 0, 0, 0, 0, 0, 0, 0, 0,\n",
      "        0, 0, 0, 0, 0, 0, 0, 0, 0, 0, 0, 0, 0, 0, 0, 0, 0, 0, 0, 0, 0, 0, 0, 0,\n",
      "        0, 0, 0, 0, 0, 0, 0, 0, 0, 0, 0, 0, 0, 0, 0, 0, 0, 0, 0, 0, 0, 0, 0, 0,\n",
      "        0, 0, 0, 0, 0, 0, 0, 0, 0, 0, 0, 0, 0, 0, 0, 0, 0, 0, 0, 0, 0, 0, 0, 0,\n",
      "        0, 0, 0, 0, 0, 0, 0, 0, 0, 0, 0, 0, 0, 0, 0, 0, 0, 0, 0, 0, 0, 0, 0, 0,\n",
      "        0, 0, 0, 0, 0, 0, 0, 0, 0, 0, 0, 0, 0, 0, 0, 0, 0, 0, 0, 0, 0, 0, 0, 0]), 'input_ids': tensor([    2, 12660, 11216, 12660, 11216, 10531, 30239, 30239,  8419, 28504,\n",
      "         2532,  1074,     5,   419,    11,  6296,   895,  7913,     9, 25814,\n",
      "        29179, 28504,  3251,     5,    51,     6, 19314, 17038,    13,  2147,\n",
      "           11, 17472,    16,    21,    10,     8,    36,    23,  2575,    45,\n",
      "            9,   143,   143,   143,   143,   143,   143,  1037,    28,  6013,\n",
      "           10,    18,   143,   143,   143,   143,   143,   143,    24,    38,\n",
      "          373,     6,  2502,  2708,    16,   546,    16,    28, 25402, 28462,\n",
      "        13579,     9,  6013,    10,     8,  8390,    10,  4726,     7,  1878,\n",
      "         7244, 20606,  3741,    14,     6,  7913,     5,   287, 29115,   240,\n",
      "           19,     5,  5386,    11, 27964, 28489,   124,     7,  4896, 28614,\n",
      "        22159,    12,   861,     8,  7913,    45,    63,   240,  1605,    65,\n",
      "            9,     6,  4910,    13,  1782,     5,   755,    53,  2283,     8,\n",
      "           75,    14,     6,  2283,    13,     5,  1883,     9, 23223,   838,\n",
      "          332,     6,  3669,    12,    31,  7913,     9,  7789, 28491,    20,\n",
      "           16,    21,    10,     8,  4910,     9,  1380,     5,  3614,  1782,\n",
      "           11, 16617, 29102,    15,     6,  1037,    28,    29,    28,    14,\n",
      "         1982,    18,  7913,     7,     9,  7216, 31805,     7,  9436,    16,\n",
      "           21,    10,     8,   893,   193,     5,  1782,     9,  4590,    71,\n",
      "           16, 18730,    13,  1653,  1058,  4027,     5,  6868,    12,  4508,\n",
      "           13,    28,  5693, 28778,     5,  8408,  2502,    11,    15,    16,\n",
      "           21,    10,     8,    36,    23,  2340,   143,   143,   143,   143,\n",
      "          143,   143,  2575,    29,   143,   143,   143,   143,   143,   143,\n",
      "           24,    38,   171,     9,  9141,    18,     6,    13,     6,  4726,\n",
      "            9,  4897, 28870,     5,     7,  1037,    13,   332, 21172,    18,\n",
      "         2827,    11,    34,     8,  7913,     9, 22131,    15,    16, 10242,\n",
      "            7,  4089, 22159,    75,   291,     7,  6481,    40, 22820,    84,\n",
      "         9463,    11,  2911, 10596,    16,    21,    10,    40,    75,     8,\n",
      "           36, 30239, 30239,    73,  1456,  2375,   679, 13734,    15,    16,\n",
      "        16546,   679,    22, 28474,   143,   143,   143,   143,   143,   143,\n",
      "          232,     6,  2552,    14,   143,   143,   143,   143,   143,   143,\n",
      "           38,    36,  2606,     6,   614, 28512, 23133,   679,    83,     9,\n",
      "         7461,    14, 18454, 28497, 16184,    10,    18,    13,  4479,    10,\n",
      "            5,     9,     6,  7913,     5,   174,    11, 12622,    16,    21,\n",
      "           10, 11768,    11,  5135, 29177,  5558,    10,    45,    12,  1992,\n",
      "            7,  8443,    62,    45,    11,  7733,   203,    10,    45,  3635,\n",
      "        28489,     8,   143,   143,   143,   143,   143,   143,  1704, 28616,\n",
      "         4910,    13,  1782,     9,  7913,    14,  5643,    12,    28,  3640,\n",
      "          412,    14,    71,    16,  2850, 28933,   687,     8,  1778,   625,\n",
      "         2283,    18,     5,    75,     8,    36,    23,   737,     6,   171,\n",
      "           14,   918,  5359,   126,    28,  2463,  2049, 30493,   143,   143,\n",
      "          143,   143,   143,   143,   171,    14,  4231,     3,     0,     0,\n",
      "            0,     0,     0,     0,     0,     0,     0,     0,     0,     0,\n",
      "            0,     0,     0,     0,     0,     0,     0,     0,     0,     0,\n",
      "            0,     0,     0,     0,     0,     0,     0,     0,     0,     0,\n",
      "            0,     0,     0,     0,     0,     0,     0,     0,     0,     0,\n",
      "            0,     0,     0,     0,     0,     0,     0,     0,     0,     0,\n",
      "            0,     0,     0,     0,     0,     0,     0,     0,     0,     0,\n",
      "            0,     0,     0,     0,     0,     0,     0,     0,     0,     0,\n",
      "            0,     0,     0,     0,     0,     0,     0,     0,     0,     0,\n",
      "            0,     0,     0,     0,     0,     0,     0,     0,     0,     0,\n",
      "            0,     0,     0,     0,     0,     0,     0,     0,     0,     0,\n",
      "            0,     0]), 'token_type_ids': tensor([0, 0, 0, 0, 0, 0, 0, 0, 0, 0, 0, 0, 0, 0, 0, 0, 0, 0, 0, 0, 0, 0, 0, 0,\n",
      "        0, 0, 0, 0, 0, 0, 0, 0, 0, 0, 0, 0, 0, 0, 0, 0, 0, 0, 0, 0, 0, 0, 0, 0,\n",
      "        0, 0, 0, 0, 0, 0, 0, 0, 0, 0, 0, 0, 0, 0, 0, 0, 0, 0, 0, 0, 0, 0, 0, 0,\n",
      "        0, 0, 0, 0, 0, 0, 0, 0, 0, 0, 0, 0, 0, 0, 0, 0, 0, 0, 0, 0, 0, 0, 0, 0,\n",
      "        0, 0, 0, 0, 0, 0, 0, 0, 0, 0, 0, 0, 0, 0, 0, 0, 0, 0, 0, 0, 0, 0, 0, 0,\n",
      "        0, 0, 0, 0, 0, 0, 0, 0, 0, 0, 0, 0, 0, 0, 0, 0, 0, 0, 0, 0, 0, 0, 0, 0,\n",
      "        0, 0, 0, 0, 0, 0, 0, 0, 0, 0, 0, 0, 0, 0, 0, 0, 0, 0, 0, 0, 0, 0, 0, 0,\n",
      "        0, 0, 0, 0, 0, 0, 0, 0, 0, 0, 0, 0, 0, 0, 0, 0, 0, 0, 0, 0, 0, 0, 0, 0,\n",
      "        0, 0, 0, 0, 0, 0, 0, 0, 0, 0, 0, 0, 0, 0, 0, 0, 0, 0, 0, 0, 0, 0, 0, 0,\n",
      "        0, 0, 0, 0, 0, 0, 0, 0, 0, 0, 0, 0, 0, 0, 0, 0, 0, 0, 0, 0, 0, 0, 0, 0,\n",
      "        0, 0, 0, 0, 0, 0, 0, 0, 0, 0, 0, 0, 0, 0, 0, 0, 0, 0, 0, 0, 0, 0, 0, 0,\n",
      "        0, 0, 0, 0, 0, 0, 0, 0, 0, 0, 0, 0, 0, 0, 0, 0, 0, 0, 0, 0, 0, 0, 0, 0,\n",
      "        0, 0, 0, 0, 0, 0, 0, 0, 0, 0, 0, 0, 0, 0, 0, 0, 0, 0, 0, 0, 0, 0, 0, 0,\n",
      "        0, 0, 0, 0, 0, 0, 0, 0, 0, 0, 0, 0, 0, 0, 0, 0, 0, 0, 0, 0, 0, 0, 0, 0,\n",
      "        0, 0, 0, 0, 0, 0, 0, 0, 0, 0, 0, 0, 0, 0, 0, 0, 0, 0, 0, 0, 0, 0, 0, 0,\n",
      "        0, 0, 0, 0, 0, 0, 0, 0, 0, 0, 0, 0, 0, 0, 0, 0, 0, 0, 0, 0, 0, 0, 0, 0,\n",
      "        0, 0, 0, 0, 0, 0, 0, 0, 0, 0, 0, 0, 0, 0, 0, 0, 0, 0, 0, 0, 0, 0, 0, 0,\n",
      "        0, 0, 0, 0, 0, 0, 0, 0, 0, 0, 0, 0, 0, 0, 0, 0, 0, 0, 0, 0, 0, 0, 0, 0,\n",
      "        0, 0, 0, 0, 0, 0, 0, 0, 0, 0, 0, 0, 0, 0, 0, 0, 0, 0, 0, 0, 0, 0, 0, 0,\n",
      "        0, 0, 0, 0, 0, 0, 0, 0, 0, 0, 0, 0, 0, 0, 0, 0, 0, 0, 0, 0, 0, 0, 0, 0,\n",
      "        0, 0, 0, 0, 0, 0, 0, 0, 0, 0, 0, 0, 0, 0, 0, 0, 0, 0, 0, 0, 0, 0, 0, 0,\n",
      "        0, 0, 0, 0, 0, 0, 0, 0]), 'attention_mask': tensor([1, 1, 1, 1, 1, 1, 1, 1, 1, 1, 1, 1, 1, 1, 1, 1, 1, 1, 1, 1, 1, 1, 1, 1,\n",
      "        1, 1, 1, 1, 1, 1, 1, 1, 1, 1, 1, 1, 1, 1, 1, 1, 1, 1, 1, 1, 1, 1, 1, 1,\n",
      "        1, 1, 1, 1, 1, 1, 1, 1, 1, 1, 1, 1, 1, 1, 1, 1, 1, 1, 1, 1, 1, 1, 1, 1,\n",
      "        1, 1, 1, 1, 1, 1, 1, 1, 1, 1, 1, 1, 1, 1, 1, 1, 1, 1, 1, 1, 1, 1, 1, 1,\n",
      "        1, 1, 1, 1, 1, 1, 1, 1, 1, 1, 1, 1, 1, 1, 1, 1, 1, 1, 1, 1, 1, 1, 1, 1,\n",
      "        1, 1, 1, 1, 1, 1, 1, 1, 1, 1, 1, 1, 1, 1, 1, 1, 1, 1, 1, 1, 1, 1, 1, 1,\n",
      "        1, 1, 1, 1, 1, 1, 1, 1, 1, 1, 1, 1, 1, 1, 1, 1, 1, 1, 1, 1, 1, 1, 1, 1,\n",
      "        1, 1, 1, 1, 1, 1, 1, 1, 1, 1, 1, 1, 1, 1, 1, 1, 1, 1, 1, 1, 1, 1, 1, 1,\n",
      "        1, 1, 1, 1, 1, 1, 1, 1, 1, 1, 1, 1, 1, 1, 1, 1, 1, 1, 1, 1, 1, 1, 1, 1,\n",
      "        1, 1, 1, 1, 1, 1, 1, 1, 1, 1, 1, 1, 1, 1, 1, 1, 1, 1, 1, 1, 1, 1, 1, 1,\n",
      "        1, 1, 1, 1, 1, 1, 1, 1, 1, 1, 1, 1, 1, 1, 1, 1, 1, 1, 1, 1, 1, 1, 1, 1,\n",
      "        1, 1, 1, 1, 1, 1, 1, 1, 1, 1, 1, 1, 1, 1, 1, 1, 1, 1, 1, 1, 1, 1, 1, 1,\n",
      "        1, 1, 1, 1, 1, 1, 1, 1, 1, 1, 1, 1, 1, 1, 1, 1, 1, 1, 1, 1, 1, 1, 1, 1,\n",
      "        1, 1, 1, 1, 1, 1, 1, 1, 1, 1, 1, 1, 1, 1, 1, 1, 1, 1, 1, 1, 1, 1, 1, 1,\n",
      "        1, 1, 1, 1, 1, 1, 1, 1, 1, 1, 1, 1, 1, 1, 1, 1, 1, 1, 1, 1, 1, 1, 1, 1,\n",
      "        1, 1, 1, 1, 1, 1, 1, 1, 1, 1, 1, 1, 1, 1, 1, 1, 1, 1, 1, 1, 1, 1, 1, 1,\n",
      "        1, 1, 1, 1, 1, 1, 1, 1, 1, 1, 1, 1, 1, 1, 1, 1, 1, 1, 1, 1, 1, 1, 1, 1,\n",
      "        0, 0, 0, 0, 0, 0, 0, 0, 0, 0, 0, 0, 0, 0, 0, 0, 0, 0, 0, 0, 0, 0, 0, 0,\n",
      "        0, 0, 0, 0, 0, 0, 0, 0, 0, 0, 0, 0, 0, 0, 0, 0, 0, 0, 0, 0, 0, 0, 0, 0,\n",
      "        0, 0, 0, 0, 0, 0, 0, 0, 0, 0, 0, 0, 0, 0, 0, 0, 0, 0, 0, 0, 0, 0, 0, 0,\n",
      "        0, 0, 0, 0, 0, 0, 0, 0, 0, 0, 0, 0, 0, 0, 0, 0, 0, 0, 0, 0, 0, 0, 0, 0,\n",
      "        0, 0, 0, 0, 0, 0, 0, 0])}\n"
     ]
    }
   ],
   "source": [
    "print(encoding_dataset['train'][0])"
   ]
  },
  {
   "cell_type": "code",
   "execution_count": 68,
   "id": "d40e04c6-a53b-464b-853e-4e859c6a1c45",
   "metadata": {},
   "outputs": [
    {
     "name": "stderr",
     "output_type": "stream",
     "text": [
      "loading configuration file https://huggingface.co/cl-tohoku/bert-base-japanese-whole-word-masking/resolve/main/config.json from cache at C:\\Users\\User/.cache\\huggingface\\transformers\\573af37b6c39d672f2df687c06ad7d556476cbe43e5bf7771097187c45a3e7bf.abeb707b5d79387dd462e8bfb724637d856e98434b6931c769b8716c6f287258\n",
      "Model config BertConfig {\n",
      "  \"_name_or_path\": \"cl-tohoku/bert-base-japanese-whole-word-masking\",\n",
      "  \"architectures\": [\n",
      "    \"BertForMaskedLM\"\n",
      "  ],\n",
      "  \"attention_probs_dropout_prob\": 0.1,\n",
      "  \"classifier_dropout\": null,\n",
      "  \"hidden_act\": \"gelu\",\n",
      "  \"hidden_dropout_prob\": 0.1,\n",
      "  \"hidden_size\": 768,\n",
      "  \"id2label\": {\n",
      "    \"1\": \"\\u7537\\u6027\\u4e3b\\u4eba\\u516c\",\n",
      "    \"10\": \"\\u63a2\\u5075\",\n",
      "    \"100\": \"\\u602a\\u8ac7\",\n",
      "    \"101\": \"\\u30b0\\u30eb\\u30e1\",\n",
      "    \"102\": \"\\u5fa9\\u8b90\",\n",
      "    \"103\": \"\\u30b2\\u30fc\\u30e0\",\n",
      "    \"104\": \"\\u6b74\\u53f2\",\n",
      "    \"105\": \"\\u30b9\\u30ed\\u30fc\\u30e9\\u30a4\\u30d5\",\n",
      "    \"106\": \"\\u7121\\u53cc\",\n",
      "    \"107\": \"\\u5922\",\n",
      "    \"108\": \"\\u3069\\u3093\\u3067\\u3093\\u8fd4\\u3057\",\n",
      "    \"109\": \"\\u590f\",\n",
      "    \"11\": \"TS\",\n",
      "    \"110\": \"\\u590f\\u4f11\\u307f\",\n",
      "    \"111\": \"\\u65c5\",\n",
      "    \"112\": \"\\u30d2\\u30e5\\u30fc\\u30de\\u30f3\\u30c9\\u30e9\\u30de\",\n",
      "    \"113\": \"\\u611f\\u52d5\",\n",
      "    \"114\": \"\\u601d\\u3044\\u51fa\",\n",
      "    \"115\": \"\\u30bf\\u30a4\\u30e0\\u30b9\\u30ea\\u30c3\\u30d7\",\n",
      "    \"116\": \"\\u30d1\\u30cb\\u30c3\\u30af\",\n",
      "    \"117\": \"\\u30b9\\u30af\\u30fc\\u30eb\\u30e9\\u30d6\",\n",
      "    \"118\": \"\\u6210\\u9577\",\n",
      "    \"119\": \"VRMMO\",\n",
      "    \"12\": \"\\u30b9\\u30ad\\u30eb\",\n",
      "    \"120\": \"\\u30ae\\u30e3\\u30b0\",\n",
      "    \"121\": \"\\u30b3\\u30e1\\u30c7\\u30a3\",\n",
      "    \"122\": \"\\u30e9\\u30d6\\u30b3\\u30e1\",\n",
      "    \"123\": \"\\u52d8\\u9055\\u3044\",\n",
      "    \"124\": \"\\u4e59\\u5973\\u30b2\\u30fc\\u30e0\",\n",
      "    \"125\": \"\\u30aa\\u30ab\\u30eb\\u30c8\",\n",
      "    \"126\": \"\\u30df\\u30b9\\u30c6\\u30ea\",\n",
      "    \"127\": \"\\u30b5\\u30b9\\u30da\\u30f3\\u30b9\",\n",
      "    \"128\": \"\\u30db\\u30e9\\u30fc\",\n",
      "    \"129\": \"\\u30d1\\u30cb\\u30c3\\u30af\",\n",
      "    \"13\": \"\\u592b\\u5a66\",\n",
      "    \"130\": \"\\u6bba\\u4eba\",\n",
      "    \"131\": \"\\u30c7\\u30b9\\u30b2\\u30fc\\u30e0\",\n",
      "    \"132\": \"\\u307b\\u3063\\u3053\\u308a\",\n",
      "    \"133\": \"\\u8b0e\\u89e3\\u304d\",\n",
      "    \"134\": \"\\u4e0d\\u601d\\u8b70\",\n",
      "    \"135\": \"\\u90fd\\u5e02\\u4f1d\\u8aac\",\n",
      "    \"136\": \"\\u30af\\u30ea\\u30b9\\u30de\\u30b9\",\n",
      "    \"137\": \"\\u548c\\u98a8\",\n",
      "    \"138\": \"\\u3058\\u308c\\u3058\\u308c\",\n",
      "    \"139\": \"\\u30c7\\u30a3\\u30b9\\u30c8\\u30d4\\u30a2\",\n",
      "    \"14\": \"\\u30b9\\u30c6\\u30fc\\u30bf\\u30b9\",\n",
      "    \"140\": \"\\u30dd\\u30b9\\u30c8\\u30a2\\u30dd\\u30ab\\u30ea\\u30d7\\u30b9\",\n",
      "    \"141\": \"\\u3054\\u90fd\\u5408\\u4e3b\\u7fa9\",\n",
      "    \"142\": \"\\u63a8\\u7406\",\n",
      "    \"143\": \"\\u30cf\\u30fc\\u30c9\\u30dc\\u30a4\\u30eb\\u30c9\",\n",
      "    \"144\": \"\\u4e09\\u89d2\\u95a2\\u4fc2\",\n",
      "    \"145\": \"\\u672a\\u6765\",\n",
      "    \"146\": \"\\u6b7b\",\n",
      "    \"147\": \"\\u4f1d\\u5947\",\n",
      "    \"148\": \"\\u4eba\\u751f\",\n",
      "    \"149\": \"\\u3044\\u3058\\u3081\",\n",
      "    \"15\": \"\\u5b66\\u751f\",\n",
      "    \"150\": \"\\u5185\\u653f\",\n",
      "    \"151\": \"\\u738b\\u9053\",\n",
      "    \"152\": \"\\u98ef\\u30c6\\u30ed\",\n",
      "    \"153\": \"\\u7530\\u820e\",\n",
      "    \"154\": \"\\u7b11\\u3044\",\n",
      "    \"155\": \"\\u30b5\\u30d0\\u30a4\\u30d0\\u30eb\",\n",
      "    \"156\": \"\\u6226\\u56fd\\u6642\\u4ee3\",\n",
      "    \"157\": \"\\u30b5\\u30a4\\u30d0\\u30fc\\u30d1\\u30f3\\u30af\",\n",
      "    \"158\": \"\\u6016\\u3044\\u8a71\",\n",
      "    \"159\": \"\\u683c\\u95d8\\u6280\",\n",
      "    \"16\": \"\\u5f8c\\u8f29\",\n",
      "    \"160\": \"\\u30d0\\u30f3\\u30c9\",\n",
      "    \"161\": \"\\u30d1\\u30ed\\u30c7\\u30a3\",\n",
      "    \"162\": \"\\u4e2d\\u4e16\",\n",
      "    \"163\": \"\\u30af\\u30c8\\u30a5\\u30eb\\u30d5\\u795e\\u8a71\",\n",
      "    \"164\": \"\\u96ea\",\n",
      "    \"165\": \"\\u30d0\\u30ec\\u30f3\\u30bf\\u30a4\\u30f3\",\n",
      "    \"166\": \"\\u8a18\\u61b6\",\n",
      "    \"167\": \"\\u30b9\\u30da\\u30fc\\u30b9\\u30aa\\u30da\\u30e9\",\n",
      "    \"168\": \"\\u30b7\\u30e5\\u30fc\\u30eb\",\n",
      "    \"169\": \"\\u73fe\\u4ee3\\u65e5\\u672c\",\n",
      "    \"17\": \"\\u5c11\\u5e74\",\n",
      "    \"170\": \"\\u79d1\\u5b66\",\n",
      "    \"171\": \"\\u6ce3\\u3051\\u308b\",\n",
      "    \"172\": \"\\u624b\\u7d19\",\n",
      "    \"173\": \"\\u4e0b\\u30cd\\u30bf\",\n",
      "    \"174\": \"\\u7d42\\u672b\",\n",
      "    \"175\": \"\\u591c\",\n",
      "    \"176\": \"\\u5e55\\u672b\",\n",
      "    \"177\": \"\\u6614\\u8a71\",\n",
      "    \"178\": \"\\u88cf\\u5207\\u308a\",\n",
      "    \"179\": \"\\u51ac\",\n",
      "    \"18\": \"\\u30b5\\u30e9\\u30ea\\u30fc\\u30de\\u30f3\",\n",
      "    \"180\": \"\\u30b4\\u30fc\\u30eb\",\n",
      "    \"181\": \"\\u3082\\u3046\\u9045\\u3044\",\n",
      "    \"182\": \"\\u5b64\\u72ec\",\n",
      "    \"183\": \"\\u30c9\\u30e9\\u30de\",\n",
      "    \"184\": \"SNS\",\n",
      "    \"185\": \"\\u4e0d\\u6761\\u7406\",\n",
      "    \"186\": \"\\u75c5\\u6c17\",\n",
      "    \"187\": \"\\u6c5f\\u6238\\u6642\\u4ee3\",\n",
      "    \"188\": \"\\u5b97\\u6559\",\n",
      "    \"189\": \"\\u8d70\\u308b\",\n",
      "    \"19\": \"\\u5927\\u5b66\\u751f\",\n",
      "    \"190\": \"\\u30b9\\u30c1\\u30fc\\u30e0\\u30d1\\u30f3\\u30af\",\n",
      "    \"191\": \"\\u79d8\\u5bc6\",\n",
      "    \"192\": \"\\u51fa\\u4f1a\\u3044\",\n",
      "    \"193\": \"\\u661f\",\n",
      "    \"194\": \"\\u6620\\u753b\",\n",
      "    \"195\": \"\\u67b6\\u7a7a\\u6226\\u8a18\",\n",
      "    \"196\": \"\\u6226\\u56fd\",\n",
      "    \"197\": \"\\u6625\",\n",
      "    \"198\": \"\\u30c9\\u30bf\\u30d0\\u30bf\",\n",
      "    \"199\": \"\\u4e07\\u4eba\\u5411\\u3051\",\n",
      "    \"2\": \"\\u5973\\u6027\\u4e3b\\u4eba\\u516c\",\n",
      "    \"20\": \"\\u9ad8\\u6821\\u751f\",\n",
      "    \"200\": \"\\u7537\\u6027\\u5411\\u3051\",\n",
      "    \"201\": \"\\u5973\\u6027\\u5411\\u3051\",\n",
      "    \"202\": \"R15\",\n",
      "    \"203\": \"\\u9b54\\u738b\",\n",
      "    \"204\": \"\\u52c7\\u8005\",\n",
      "    \"205\": \"\\u53cb\\u60c5\",\n",
      "    \"206\": \"\\u30ed\\u30dc\\u30c3\\u30c8\",\n",
      "    \"207\": \"\\u30e2\\u30d5\\u30e2\\u30d5\",\n",
      "    \"208\": \"\\u732b\",\n",
      "    \"209\": \"\\u72ac\",\n",
      "    \"21\": \"\\u4e2d\\u5b66\\u751f\",\n",
      "    \"210\": \"\\u52d5\\u7269\",\n",
      "    \"211\": \"\\u5bb6\\u65cf\",\n",
      "    \"212\": \"\\u89aa\\u5b50\",\n",
      "    \"213\": \"\\u602a\\u5947\",\n",
      "    \"214\": \"\\u4eba\\u5916\",\n",
      "    \"215\": \"\\u30e2\\u30f3\\u30b9\\u30bf\\u30fc\",\n",
      "    \"216\": \"\\u53cc\\u5b50\",\n",
      "    \"217\": \"\\u5e7d\\u970a\",\n",
      "    \"218\": \"\\u5192\\u967a\\u8005\",\n",
      "    \"219\": \"\\u30a8\\u30eb\\u30d5\",\n",
      "    \"22\": \"\\u5c0f\\u5b66\\u751f\",\n",
      "    \"220\": \"\\u5438\\u8840\\u9b3c\",\n",
      "    \"221\": \"\\u7adc\",\n",
      "    \"222\": \"\\u9a0e\\u58eb\",\n",
      "    \"223\": \"\\u60aa\\u9b54\",\n",
      "    \"224\": \"\\u795e\\u69d8\",\n",
      "    \"225\": \"\\u5973\\u795e\",\n",
      "    \"226\": \"\\u30a4\\u30b1\\u30e1\\u30f3\",\n",
      "    \"227\": \"\\u8cb4\\u65cf\",\n",
      "    \"228\": \"AI\",\n",
      "    \"229\": \"\\u738b\\u5b50\",\n",
      "    \"23\": \"\\u304a\\u3063\\u3055\\u3093\",\n",
      "    \"230\": \"\\u7cbe\\u970a\",\n",
      "    \"231\": \"\\u5996\\u7cbe\",\n",
      "    \"232\": \"\\u5148\\u8f29\",\n",
      "    \"233\": \"\\u5974\\u96b7\",\n",
      "    \"234\": \"\\u5929\\u4f7f\",\n",
      "    \"235\": \"\\u7537\\u306e\\u5a18\",\n",
      "    \"236\": \"\\u5144\\u59b9\",\n",
      "    \"237\": \"\\u9b3c\",\n",
      "    \"238\": \"\\u7363\\u4eba\",\n",
      "    \"239\": \"\\u30be\\u30f3\\u30d3\",\n",
      "    \"24\": \"\\u30d2\\u30fc\\u30ed\\u30fc\",\n",
      "    \"240\": \"\\u8b66\\u5bdf\",\n",
      "    \"241\": \"\\u30d6\\u30e9\\u30b3\\u30f3\",\n",
      "    \"242\": \"\\u4e3b\\u5f93\",\n",
      "    \"243\": \"\\u6b7b\\u795e\",\n",
      "    \"244\": \"\\u30b5\\u30a4\\u30b3\\u30d1\\u30b9\",\n",
      "    \"245\": \"\\u89aa\\u53cb\",\n",
      "    \"246\": \"\\u5144\\u5f1f\",\n",
      "    \"247\": \"\\u53ef\\u611b\\u3044\",\n",
      "    \"248\": \"\\u602a\\u7363\",\n",
      "    \"249\": \"\\u5200\",\n",
      "    \"25\": \"\\u8056\\u5973\",\n",
      "    \"250\": \"\\u4ef2\\u9593\",\n",
      "    \"251\": \"\\u9b54\\u8853\\u5e2b\",\n",
      "    \"252\": \"\\u30d0\\u30c7\\u30a3\",\n",
      "    \"253\": \"\\u601d\\u6625\\u671f\",\n",
      "    \"254\": \"\\u64ec\\u4eba\\u5316\",\n",
      "    \"255\": \"\\u5c0a\\u3044\",\n",
      "    \"256\": \"\\u304a\\u3046\\u3061\\u6642\\u9593\",\n",
      "    \"257\": \"\\u5bb6\\u65cf\\u611b\",\n",
      "    \"258\": \"\\u30b8\\u30e5\\u30d6\\u30ca\\u30a4\\u30eb\",\n",
      "    \"259\": \"\\u5973\\u306e\\u5b50\",\n",
      "    \"26\": \"\\u8a18\\u61b6\\u55aa\\u5931\",\n",
      "    \"260\": \"\\u5e7c\\u306a\\u3058\\u307f\",\n",
      "    \"261\": \"JK\",\n",
      "    \"262\": \"\\u59b9\",\n",
      "    \"263\": \"\\u30a2\\u30a4\\u30c9\\u30eb\",\n",
      "    \"264\": \"\\u30e1\\u30a4\\u30c9\",\n",
      "    \"265\": \"\\u30a2\\u30f3\\u30c9\\u30ed\\u30a4\\u30c9\",\n",
      "    \"266\": \"\\u9b54\\u5973\",\n",
      "    \"267\": \"\\u9b54\\u6cd5\\u4f7f\\u3044\",\n",
      "    \"268\": \"\\u9b54\\u6cd5\\u5c11\\u5973\",\n",
      "    \"269\": \"\\u59c9\\u59b9\",\n",
      "    \"27\": \"\\u72c2\\u6c17\",\n",
      "    \"270\": \"\\u7fa9\\u59b9\",\n",
      "    \"271\": \"\\u30ae\\u30e3\\u30eb\",\n",
      "    \"272\": \"\\u5deb\\u5973\",\n",
      "    \"273\": \"\\u738b\\u5973\",\n",
      "    \"274\": \"\\u30d2\\u30ed\\u30a4\\u30f3\",\n",
      "    \"275\": \"Vtuber\",\n",
      "    \"276\": \"\\u30b9\\u30c8\\u30fc\\u30ab\\u30fc\",\n",
      "    \"277\": \"\\u30e4\\u30f3\\u30c7\\u30ec\",\n",
      "    \"278\": \"\\u30c4\\u30f3\\u30c7\\u30ec\",\n",
      "    \"279\": \"\\u30e1\\u30f3\\u30d8\\u30e9\",\n",
      "    \"28\": \"\\u30aa\\u30bf\\u30af\",\n",
      "    \"280\": \"\\u30af\\u30fc\\u30c7\\u30ec\",\n",
      "    \"281\": \"\\u5f8c\\u5bae\",\n",
      "    \"282\": \"\\u6eba\\u611b\",\n",
      "    \"283\": \"\\u793e\\u4f1a\\u4eba\\u767e\\u5408\",\n",
      "    \"284\": \"GL\",\n",
      "    \"285\": \"\\u30d6\\u30ed\\u30de\\u30f3\\u30b9\",\n",
      "    \"286\": \"\\u6b73\\u306e\\u5dee\",\n",
      "    \"287\": \"\\u7d50\\u5a5a\",\n",
      "    \"288\": \"\\u3059\\u308c\\u9055\\u3044\",\n",
      "    \"289\": \"\\u544a\\u767d\",\n",
      "    \"29\": \"\\u5973\\u88c5\",\n",
      "    \"290\": \"\\u8eab\\u5206\\u5dee\",\n",
      "    \"291\": \"\\u604b\\u306e\\u8a71\",\n",
      "    \"292\": \"\\u521d\\u604b\",\n",
      "    \"293\": \"\\u5931\\u604b\",\n",
      "    \"294\": \"\\u4e0d\\u502b\",\n",
      "    \"295\": \"\\u60b2\\u604b\",\n",
      "    \"296\": \"\\u6d6e\\u6c17\",\n",
      "    \"297\": \"\\u81ea\\u6bba\",\n",
      "    \"298\": \"\\u7247\\u60f3\\u3044\",\n",
      "    \"299\": \"\\u4e21\\u7247\\u60f3\\u3044\",\n",
      "    \"3\": \"\\u30c1\\u30fc\\u30c8\",\n",
      "    \"30\": \"\\u30b7\\u30b9\\u30b3\\u30f3\",\n",
      "    \"300\": \"\\u7537\\u5973\",\n",
      "    \"301\": \"\\u540c\\u5c45\",\n",
      "    \"302\": \"\\u5225\\u308c\",\n",
      "    \"303\": \"\\u4e00\\u9014\",\n",
      "    \"304\": \"\\u304a\\u306d\\u30b7\\u30e7\\u30bf\",\n",
      "    \"305\": \"\\u793e\\u4f1a\\u4eba\\u767e\\u5408\",\n",
      "    \"306\": \"\\u3042\\u307e\\u3042\\u307e\",\n",
      "    \"307\": \"\\u540c\\u6027\\u611b\",\n",
      "    \"308\": \"\\u5ac9\\u59ac\",\n",
      "    \"309\": \"\\u30aa\\u30d5\\u30a3\\u30b9\\u30e9\\u30d6\",\n",
      "    \"31\": \"\\u604b\\u4eba\",\n",
      "    \"310\": \"\\u4fee\\u7f85\\u5834\",\n",
      "    \"311\": \"\\u7570\\u985e\\u5a5a\\u59fb\\u8b5a\",\n",
      "    \"312\": \"NTR\",\n",
      "    \"32\": \"\\u82f1\\u96c4\",\n",
      "    \"33\": \"\\u307c\\u3063\\u3061\",\n",
      "    \"34\": \"\\u9670\\u30ad\\u30e3\",\n",
      "    \"35\": \"\\u9670\\u967d\\u5e2b\",\n",
      "    \"36\": \"\\u5909\\u8eab\",\n",
      "    \"37\": \"\\u4f5c\\u5bb6\",\n",
      "    \"38\": \"\\u5148\\u751f\",\n",
      "    \"39\": \"\\u9b54\\u6cd5\",\n",
      "    \"4\": \"\\u6700\\u5f37\",\n",
      "    \"40\": \"\\u5b66\\u5712\",\n",
      "    \"41\": \"\\u30c0\\u30f3\\u30b8\\u30e7\\u30f3\",\n",
      "    \"42\": \"\\u7570\\u80fd\\u30d0\\u30c8\\u30eb\",\n",
      "    \"43\": \"\\u30df\\u30ea\\u30bf\\u30ea\\u30fc\",\n",
      "    \"44\": \"\\u97f3\\u697d\",\n",
      "    \"45\": \"\\u5927\\u5b66\",\n",
      "    \"46\": \"\\u6599\\u7406\",\n",
      "    \"47\": \"\\u90e8\\u6d3b\",\n",
      "    \"48\": \"\\u6d77\",\n",
      "    \"49\": \"\\u5b87\\u5b99\",\n",
      "    \"5\": \"\\u5263\\u3068\\u9b54\\u6cd5\",\n",
      "    \"50\": \"\\u30b9\\u30dd\\u30fc\\u30c4\",\n",
      "    \"51\": \"\\u30b9\\u30de\\u30db\",\n",
      "    \"52\": \"\\u685c\",\n",
      "    \"53\": \"\\u9283\",\n",
      "    \"54\": \"\\u55ab\\u8336\\u5e97\",\n",
      "    \"55\": \"\\u91ce\\u7403\",\n",
      "    \"56\": \"\\u6708\",\n",
      "    \"57\": \"\\u30d4\\u30a2\\u30ce\",\n",
      "    \"58\": \"\\u5b87\\u5b99\\u4eba\",\n",
      "    \"59\": \"\\u795e\\u793e\",\n",
      "    \"6\": \"\\u5263\",\n",
      "    \"60\": \"\\u82b1\",\n",
      "    \"61\": \"\\u932c\\u91d1\\u8853\",\n",
      "    \"62\": \"\\u75c5\\u9662\",\n",
      "    \"63\": \"\\u96fb\\u8eca\",\n",
      "    \"64\": \"\\u76f4\\u89b3\",\n",
      "    \"65\": \"\\u56f3\\u66f8\\u9928\",\n",
      "    \"66\": \"\\u6226\\u95d8\\u6a5f\",\n",
      "    \"67\": \"\\u82b1\\u8a00\\u8449\",\n",
      "    \"68\": \"\\u662d\\u548c\",\n",
      "    \"69\": \"\\u30ed\\u30fc\\u30d5\\u30a1\\u30f3\\u30bf\\u30b8\\u30fc\",\n",
      "    \"7\": \"\\u9b54\\u8853\",\n",
      "    \"70\": \"\\u7570\\u4e16\\u754c\\u53ec\\u559a\",\n",
      "    \"71\": \"\\u9752\\u6625\",\n",
      "    \"72\": \"\\u5e7b\\u60f3\",\n",
      "    \"73\": \"\\u65e5\\u5e38\\u7cfb\",\n",
      "    \"74\": \"\\u306e\\u3093\\u3073\\u308a\",\n",
      "    \"75\": \"\\u30cf\\u30c3\\u30d4\\u30fc\\u30a8\\u30f3\\u30c9\",\n",
      "    \"76\": \"\\u30d0\\u30c3\\u30c9\\u30a8\\u30f3\\u30c9\",\n",
      "    \"77\": \"SF\",\n",
      "    \"78\": \"\\u546a\\u3044\",\n",
      "    \"79\": \"\\u30b7\\u30ea\\u30a2\\u30b9\",\n",
      "    \"8\": \"\\u60aa\\u5f79\\u4ee4\\u5b22\",\n",
      "    \"80\": \"\\u73fe\\u4ee3\",\n",
      "    \"81\": \"\\u6226\\u95d8\",\n",
      "    \"82\": \"\\u795e\\u8a71\",\n",
      "    \"83\": \"\\u3056\\u307e\\u3041\",\n",
      "    \"84\": \"\\u5192\\u967a\",\n",
      "    \"85\": \"\\u96e8\",\n",
      "    \"86\": \"\\u548c\\u98a8\\u30d5\\u30a1\\u30f3\\u30bf\\u30b8\\u30fc\",\n",
      "    \"87\": \"\\u4ed5\\u4e8b\",\n",
      "    \"88\": \"\\u8ffd\\u653e\",\n",
      "    \"89\": \"\\u54f2\\u5b66\",\n",
      "    \"9\": \"\\u304a\\u5b22\\u69d8\",\n",
      "    \"90\": \"\\u30c0\\u30fc\\u30af\",\n",
      "    \"91\": \"\\u6210\\u308a\\u4e0a\\u304c\\u308a\",\n",
      "    \"92\": \"\\u5a5a\\u7d04\\u7834\\u68c4\",\n",
      "    \"93\": \"\\u30dc\\u30fc\\u30a4\\u30df\\u30fc\\u30c4\\u30ac\\u30fc\\u30eb\",\n",
      "    \"94\": \"\\u8fd1\\u672a\\u6765\",\n",
      "    \"95\": \"\\u5207\\u306a\\u3044\",\n",
      "    \"96\": \"\\u6226\\u8a18\",\n",
      "    \"97\": \"\\u73fe\\u4ee3\\u30d5\\u30a1\\u30f3\\u30bf\\u30b8\\u30fc\",\n",
      "    \"98\": \"\\u30a2\\u30af\\u30b7\\u30e7\\u30f3\",\n",
      "    \"99\": \"\\u7fa4\\u50cf\\u5287\"\n",
      "  },\n",
      "  \"initializer_range\": 0.02,\n",
      "  \"intermediate_size\": 3072,\n",
      "  \"label2id\": {\n",
      "    \"AI\": \"228\",\n",
      "    \"BL\": \"285\",\n",
      "    \"GL\": \"284\",\n",
      "    \"JK\": \"261\",\n",
      "    \"NTR\": \"312\",\n",
      "    \"R15\": \"202\",\n",
      "    \"SF\": \"77\",\n",
      "    \"SNS\": \"184\",\n",
      "    \"TS\": \"11\",\n",
      "    \"VRMMO\": \"119\",\n",
      "    \"Vtuber\": \"275\",\n",
      "    \"\\u3042\\u307e\\u3042\\u307e\": \"306\",\n",
      "    \"\\u3042\\u3084\\u304b\\u3057\": \"214\",\n",
      "    \"\\u3044\\u3058\\u3081\": \"149\",\n",
      "    \"\\u304a\\u3046\\u3061\\u6642\\u9593\": \"256\",\n",
      "    \"\\u304a\\u3063\\u3055\\u3093\": \"23\",\n",
      "    \"\\u304a\\u306d\\u30b7\\u30e7\\u30bf\": \"304\",\n",
      "    \"\\u304a\\u4ed5\\u4e8b\": \"87\",\n",
      "    \"\\u304a\\u5b22\\u69d8\": \"9\",\n",
      "    \"\\u3054\\u90fd\\u5408\\u4e3b\\u7fa9\": \"141\",\n",
      "    \"\\u3056\\u307e\\u3041\": \"83\",\n",
      "    \"\\u3058\\u308c\\u3058\\u308c\": \"138\",\n",
      "    \"\\u3059\\u308c\\u9055\\u3044\": \"288\",\n",
      "    \"\\u3069\\u3093\\u3067\\u3093\\u8fd4\\u3057\": \"108\",\n",
      "    \"\\u306e\\u3093\\u3073\\u308a\": \"74\",\n",
      "    \"\\u307b\\u3063\\u3053\\u308a\": \"132\",\n",
      "    \"\\u307b\\u306e\\u307c\\u306e\": \"74\",\n",
      "    \"\\u307c\\u3063\\u3061\": \"33\",\n",
      "    \"\\u3082\\u3046\\u9045\\u3044\": \"181\",\n",
      "    \"\\u3082\\u3075\\u3082\\u3075\": \"207\",\n",
      "    \"\\u30a2\\u30a4\\u30c9\\u30eb\": \"263\",\n",
      "    \"\\u30a2\\u30af\\u30b7\\u30e7\\u30f3\": \"98\",\n",
      "    \"\\u30a2\\u30f3\\u30c9\\u30ed\\u30a4\\u30c9\": \"265\",\n",
      "    \"\\u30a4\\u30b1\\u30e1\\u30f3\": \"226\",\n",
      "    \"\\u30a8\\u30eb\\u30d5\": \"219\",\n",
      "    \"\\u30aa\\u30ab\\u30eb\\u30c8\": \"125\",\n",
      "    \"\\u30aa\\u30bf\\u30af\": \"28\",\n",
      "    \"\\u30aa\\u30d5\\u30a3\\u30b9\\u30e9\\u30d6\": \"309\",\n",
      "    \"\\u30ac\\u30fc\\u30eb\\u30ba\\u30e9\\u30d6\": \"284\",\n",
      "    \"\\u30ae\\u30e3\\u30b0\": \"120\",\n",
      "    \"\\u30ae\\u30e3\\u30eb\": \"271\",\n",
      "    \"\\u30af\\u30c8\\u30a5\\u30eb\\u30d5\\u795e\\u8a71\": \"163\",\n",
      "    \"\\u30af\\u30ea\\u30b9\\u30de\\u30b9\": \"136\",\n",
      "    \"\\u30af\\u30fc\\u30c7\\u30ec\": \"280\",\n",
      "    \"\\u30b0\\u30eb\\u30e1\": \"101\",\n",
      "    \"\\u30b2\\u30fc\\u30e0\": \"103\",\n",
      "    \"\\u30b3\\u30e1\\u30c7\\u30a3\": \"121\",\n",
      "    \"\\u30b3\\u30e1\\u30c7\\u30a3\\u30fc\": \"121\",\n",
      "    \"\\u30b4\\u30fc\\u30eb\": \"180\",\n",
      "    \"\\u30b5\\u30a4\\u30b3\\u30d1\\u30b9\": \"244\",\n",
      "    \"\\u30b5\\u30a4\\u30d0\\u30fc\\u30d1\\u30f3\\u30af\": \"157\",\n",
      "    \"\\u30b5\\u30b9\\u30da\\u30f3\\u30b9\": \"127\",\n",
      "    \"\\u30b5\\u30d0\\u30a4\\u30d0\\u30eb\": \"155\",\n",
      "    \"\\u30b5\\u30e9\\u30ea\\u30fc\\u30de\\u30f3\": \"18\",\n",
      "    \"\\u30b7\\u30b9\\u30b3\\u30f3\": \"30\",\n",
      "    \"\\u30b7\\u30e5\\u30fc\\u30eb\": \"168\",\n",
      "    \"\\u30b7\\u30ea\\u30a2\\u30b9\": \"79\",\n",
      "    \"\\u30b8\\u30e5\\u30d6\\u30ca\\u30a4\\u30eb\": \"258\",\n",
      "    \"\\u30b9\\u30ad\\u30eb\": \"12\",\n",
      "    \"\\u30b9\\u30af\\u30fc\\u30eb\\u30e9\\u30d6\": \"117\",\n",
      "    \"\\u30b9\\u30c1\\u30fc\\u30e0\\u30d1\\u30f3\\u30af\": \"190\",\n",
      "    \"\\u30b9\\u30c6\\u30fc\\u30bf\\u30b9\": \"14\",\n",
      "    \"\\u30b9\\u30c8\\u30fc\\u30ab\\u30fc\": \"276\",\n",
      "    \"\\u30b9\\u30da\\u30fc\\u30b9\\u30aa\\u30da\\u30e9\": \"167\",\n",
      "    \"\\u30b9\\u30dd\\u30fc\\u30c4\": \"50\",\n",
      "    \"\\u30b9\\u30de\\u30db\": \"51\",\n",
      "    \"\\u30b9\\u30ed\\u30fc\\u30e9\\u30a4\\u30d5\": \"105\",\n",
      "    \"\\u30be\\u30f3\\u30d3\": \"239\",\n",
      "    \"\\u30bf\\u30a4\\u30e0\\u30b9\\u30ea\\u30c3\\u30d7\": \"115\",\n",
      "    \"\\u30bf\\u30a4\\u30e0\\u30ea\\u30fc\\u30d7\": \"115\",\n",
      "    \"\\u30c0\\u30f3\\u30b8\\u30e7\\u30f3\": \"41\",\n",
      "    \"\\u30c0\\u30fc\\u30af\": \"90\",\n",
      "    \"\\u30c0\\u30fc\\u30af\\u30d5\\u30a1\\u30f3\\u30bf\\u30b8\\u30fc\": \"90\",\n",
      "    \"\\u30c1\\u30fc\\u30c8\": \"3\",\n",
      "    \"\\u30c4\\u30f3\\u30c7\\u30ec\": \"278\",\n",
      "    \"\\u30c7\\u30a3\\u30b9\\u30c8\\u30d4\\u30a2\": \"139\",\n",
      "    \"\\u30c7\\u30b9\\u30b2\\u30fc\\u30e0\": \"131\",\n",
      "    \"\\u30c9\\u30bf\\u30d0\\u30bf\": \"198\",\n",
      "    \"\\u30c9\\u30e9\\u30b4\\u30f3\": \"221\",\n",
      "    \"\\u30c9\\u30e9\\u30de\": \"183\",\n",
      "    \"\\u30cf\\u30a4\\u30d5\\u30a1\\u30f3\\u30bf\\u30b8\\u30fc\": \"69\",\n",
      "    \"\\u30cf\\u30c3\\u30d4\\u30fc\\u30a8\\u30f3\\u30c9\": \"75\",\n",
      "    \"\\u30cf\\u30fc\\u30c9\\u30dc\\u30a4\\u30eb\\u30c9\": \"143\",\n",
      "    \"\\u30cf\\u30fc\\u30ec\\u30e0\": \"281\",\n",
      "    \"\\u30d0\\u30c3\\u30c9\\u30a8\\u30f3\\u30c9\": \"76\",\n",
      "    \"\\u30d0\\u30c7\\u30a3\": \"252\",\n",
      "    \"\\u30d0\\u30c8\\u30eb\": \"81\",\n",
      "    \"\\u30d0\\u30ec\\u30f3\\u30bf\\u30a4\\u30f3\": \"165\",\n",
      "    \"\\u30d0\\u30f3\\u30c9\": \"160\",\n",
      "    \"\\u30d1\\u30cb\\u30c3\\u30af\": \"129\",\n",
      "    \"\\u30d1\\u30ed\\u30c7\\u30a3\": \"161\",\n",
      "    \"\\u30d2\\u30e5\\u30fc\\u30de\\u30f3\\u30c9\\u30e9\\u30de\": \"112\",\n",
      "    \"\\u30d2\\u30ed\\u30a4\\u30f3\": \"274\",\n",
      "    \"\\u30d2\\u30fc\\u30ed\\u30fc\": \"24\",\n",
      "    \"\\u30d4\\u30a2\\u30ce\": \"57\",\n",
      "    \"\\u30d5\\u30a1\\u30f3\\u30bf\\u30b8\\u30fc\": \"69\",\n",
      "    \"\\u30d6\\u30e9\\u30b3\\u30f3\": \"241\",\n",
      "    \"\\u30d6\\u30ed\\u30de\\u30f3\\u30b9\": \"285\",\n",
      "    \"\\u30db\\u30e9\\u30fc\": \"128\",\n",
      "    \"\\u30dc\\u30fc\\u30a4\\u30ba\\u30e9\\u30d6\": \"285\",\n",
      "    \"\\u30dc\\u30fc\\u30a4\\u30df\\u30fc\\u30c4\\u30ac\\u30fc\\u30eb\": \"93\",\n",
      "    \"\\u30dd\\u30b9\\u30c8\\u30a2\\u30dd\\u30ab\\u30ea\\u30d7\\u30b9\": \"140\",\n",
      "    \"\\u30df\\u30b9\\u30c6\\u30ea\": \"126\",\n",
      "    \"\\u30df\\u30b9\\u30c6\\u30ea\\u30fc\": \"126\",\n",
      "    \"\\u30df\\u30ea\\u30bf\\u30ea\\u30fc\": \"43\",\n",
      "    \"\\u30e1\\u30a4\\u30c9\": \"264\",\n",
      "    \"\\u30e1\\u30f3\\u30d8\\u30e9\": \"279\",\n",
      "    \"\\u30e2\\u30d5\\u30e2\\u30d5\": \"207\",\n",
      "    \"\\u30e2\\u30f3\\u30b9\\u30bf\\u30fc\": \"215\",\n",
      "    \"\\u30e4\\u30f3\\u30c7\\u30ec\": \"277\",\n",
      "    \"\\u30e9\\u30d6\\u30b3\\u30e1\": \"122\",\n",
      "    \"\\u30ed\\u30dc\\u30c3\\u30c8\": \"206\",\n",
      "    \"\\u30ed\\u30fc\\u30d5\\u30a1\\u30f3\\u30bf\\u30b8\\u30fc\": \"69\",\n",
      "    \"\\u4e00\\u9014\": \"303\",\n",
      "    \"\\u4e07\\u4eba\\u5411\\u3051\": \"199\",\n",
      "    \"\\u4e09\\u89d2\\u95a2\\u4fc2\": \"144\",\n",
      "    \"\\u4e0b\\u30cd\\u30bf\": \"173\",\n",
      "    \"\\u4e0d\\u502b\": \"294\",\n",
      "    \"\\u4e0d\\u601d\\u8b70\": \"134\",\n",
      "    \"\\u4e0d\\u6761\\u7406\": \"185\",\n",
      "    \"\\u4e21\\u7247\\u601d\\u3044\": \"299\",\n",
      "    \"\\u4e21\\u7247\\u60f3\\u3044\": \"299\",\n",
      "    \"\\u4e2d\\u4e16\": \"162\",\n",
      "    \"\\u4e2d\\u5b66\\u751f\": \"21\",\n",
      "    \"\\u4e3b\\u4eba\\u516c\\u6700\\u5f37\": \"4\",\n",
      "    \"\\u4e3b\\u5f93\": \"242\",\n",
      "    \"\\u4e59\\u5973\\u30b2\\u30fc\\u30e0\": \"124\",\n",
      "    \"\\u4eba\\u5916\": \"214\",\n",
      "    \"\\u4eba\\u5de5\\u77e5\\u80fd\": \"228\",\n",
      "    \"\\u4eba\\u751f\": \"148\",\n",
      "    \"\\u4ed5\\u4e8b\": \"87\",\n",
      "    \"\\u4ee4\\u5b22\": \"9\",\n",
      "    \"\\u4ef2\\u9593\": \"250\",\n",
      "    \"\\u4f1d\\u5947\": \"147\",\n",
      "    \"\\u4f5c\\u5bb6\": \"37\",\n",
      "    \"\\u4fee\\u7f85\\u5834\": \"310\",\n",
      "    \"\\u5144\\u59b9\": \"236\",\n",
      "    \"\\u5144\\u5f1f\": \"246\",\n",
      "    \"\\u5148\\u751f\": \"38\",\n",
      "    \"\\u5148\\u8f29\": \"232\",\n",
      "    \"\\u5185\\u653f\": \"150\",\n",
      "    \"\\u5192\\u967a\": \"84\",\n",
      "    \"\\u5192\\u967a\\u8005\": \"218\",\n",
      "    \"\\u51ac\": \"179\",\n",
      "    \"\\u51fa\\u4f1a\\u3044\": \"192\",\n",
      "    \"\\u5200\": \"249\",\n",
      "    \"\\u5207\\u306a\\u3044\": \"95\",\n",
      "    \"\\u521d\\u604b\": \"292\",\n",
      "    \"\\u5225\\u308c\": \"302\",\n",
      "    \"\\u5263\": \"6\",\n",
      "    \"\\u5263\\u3068\\u9b54\\u6cd5\": \"5\",\n",
      "    \"\\u52c7\\u8005\": \"204\",\n",
      "    \"\\u52d5\\u7269\": \"210\",\n",
      "    \"\\u52d8\\u9055\\u3044\": \"123\",\n",
      "    \"\\u53cb\\u60c5\": \"205\",\n",
      "    \"\\u53cc\\u5b50\": \"216\",\n",
      "    \"\\u53ef\\u611b\\u3044\": \"247\",\n",
      "    \"\\u540c\\u5c45\": \"301\",\n",
      "    \"\\u540c\\u6027\\u611b\": \"307\",\n",
      "    \"\\u540c\\u68f2\": \"301\",\n",
      "    \"\\u5438\\u8840\\u9b3c\": \"220\",\n",
      "    \"\\u544a\\u767d\": \"289\",\n",
      "    \"\\u546a\\u3044\": \"78\",\n",
      "    \"\\u548c\\u98a8\": \"137\",\n",
      "    \"\\u548c\\u98a8\\u30d5\\u30a1\\u30f3\\u30bf\\u30b8\\u30fc\": \"86\",\n",
      "    \"\\u54f2\\u5b66\": \"89\",\n",
      "    \"\\u55ab\\u8336\\u5e97\": \"54\",\n",
      "    \"\\u56f3\\u66f8\\u9928\": \"65\",\n",
      "    \"\\u5909\\u8eab\": \"36\",\n",
      "    \"\\u590f\": \"109\",\n",
      "    \"\\u590f\\u4f11\\u307f\": \"110\",\n",
      "    \"\\u591c\": \"175\",\n",
      "    \"\\u5922\": \"107\",\n",
      "    \"\\u5927\\u5b66\": \"45\",\n",
      "    \"\\u5927\\u5b66\\u751f\": \"19\",\n",
      "    \"\\u5929\\u4f7f\": \"234\",\n",
      "    \"\\u592b\\u5a66\": \"13\",\n",
      "    \"\\u5931\\u604b\": \"293\",\n",
      "    \"\\u5973\\u306e\\u5b50\": \"259\",\n",
      "    \"\\u5973\\u4e3b\\u4eba\\u516c\": \"2\",\n",
      "    \"\\u5973\\u5b50\\u9ad8\\u751f\": \"261\",\n",
      "    \"\\u5973\\u6027\\u4e3b\\u4eba\\u516c\": \"2\",\n",
      "    \"\\u5973\\u6027\\u5411\\u3051\": \"201\",\n",
      "    \"\\u5973\\u795e\": \"225\",\n",
      "    \"\\u5973\\u88c5\": \"29\",\n",
      "    \"\\u5974\\u96b7\": \"233\",\n",
      "    \"\\u5996\\u602a\": \"214\",\n",
      "    \"\\u5996\\u7cbe\": \"231\",\n",
      "    \"\\u59b9\": \"262\",\n",
      "    \"\\u59c9\\u59b9\": \"269\",\n",
      "    \"\\u5a5a\\u7d04\\u7834\\u68c4\": \"92\",\n",
      "    \"\\u5ac9\\u59ac\": \"308\",\n",
      "    \"\\u5b64\\u72ec\": \"182\",\n",
      "    \"\\u5b66\\u5712\": \"40\",\n",
      "    \"\\u5b66\\u6821\": \"45\",\n",
      "    \"\\u5b66\\u751f\": \"15\",\n",
      "    \"\\u5b87\\u5b99\": \"49\",\n",
      "    \"\\u5b87\\u5b99\\u4eba\": \"58\",\n",
      "    \"\\u5b97\\u6559\": \"188\",\n",
      "    \"\\u5bb6\\u65cf\": \"211\",\n",
      "    \"\\u5bb6\\u65cf\\u611b\": \"257\",\n",
      "    \"\\u5bdd\\u53d6\\u3089\\u308c\": \"312\",\n",
      "    \"\\u5c0a\\u3044\": \"255\",\n",
      "    \"\\u5c0f\\u5b66\\u751f\": \"22\",\n",
      "    \"\\u5c11\\u5973\": \"259\",\n",
      "    \"\\u5c11\\u5e74\": \"17\",\n",
      "    \"\\u5deb\\u5973\": \"272\",\n",
      "    \"\\u5e55\\u672b\": \"176\",\n",
      "    \"\\u5e74\\u306e\\u5dee\": \"286\",\n",
      "    \"\\u5e7b\\u60f3\": \"72\",\n",
      "    \"\\u5e7c\\u306a\\u3058\\u307f\": \"260\",\n",
      "    \"\\u5e7c\\u99b4\\u67d3\": \"260\",\n",
      "    \"\\u5e7c\\u99b4\\u67d3\\u307f\": \"260\",\n",
      "    \"\\u5e7d\\u970a\": \"217\",\n",
      "    \"\\u5f8c\\u5bae\": \"281\",\n",
      "    \"\\u5f8c\\u8f29\": \"16\",\n",
      "    \"\\u5fa9\\u8b90\": \"102\",\n",
      "    \"\\u6016\\u3044\\u8a71\": \"158\",\n",
      "    \"\\u601d\\u3044\\u51fa\": \"114\",\n",
      "    \"\\u601d\\u6625\\u671f\": \"253\",\n",
      "    \"\\u6027\\u8ee2\\u63db\": \"11\",\n",
      "    \"\\u602a\\u5947\": \"213\",\n",
      "    \"\\u602a\\u7363\": \"248\",\n",
      "    \"\\u602a\\u7570\": \"213\",\n",
      "    \"\\u602a\\u8ac7\": \"100\",\n",
      "    \"\\u604b\": \"291\",\n",
      "    \"\\u604b\\u306e\\u8a71\": \"291\",\n",
      "    \"\\u604b\\u4eba\": \"31\",\n",
      "    \"\\u604b\\u611b\": \"291\",\n",
      "    \"\\u60aa\\u5f79\\u4ee4\\u5b22\": \"8\",\n",
      "    \"\\u60aa\\u9b54\": \"223\",\n",
      "    \"\\u60b2\\u604b\": \"295\",\n",
      "    \"\\u611b\": \"291\",\n",
      "    \"\\u611f\\u52d5\": \"113\",\n",
      "    \"\\u6210\\u308a\\u4e0a\\u304c\\u308a\": \"91\",\n",
      "    \"\\u6210\\u9577\": \"118\",\n",
      "    \"\\u6226\\u4e89\": \"96\",\n",
      "    \"\\u6226\\u56fd\": \"196\",\n",
      "    \"\\u6226\\u56fd\\u6642\\u4ee3\": \"156\",\n",
      "    \"\\u6226\\u8a18\": \"96\",\n",
      "    \"\\u6226\\u95d8\": \"81\",\n",
      "    \"\\u6226\\u95d8\\u6a5f\": \"66\",\n",
      "    \"\\u624b\\u7d19\": \"172\",\n",
      "    \"\\u63a2\\u5075\": \"10\",\n",
      "    \"\\u63a8\\u7406\": \"142\",\n",
      "    \"\\u64ec\\u4eba\\u5316\": \"254\",\n",
      "    \"\\u6559\\u5e2b\": \"38\",\n",
      "    \"\\u6599\\u7406\": \"46\",\n",
      "    \"\\u65c5\": \"111\",\n",
      "    \"\\u65e5\\u5e38\": \"73\",\n",
      "    \"\\u65e5\\u5e38\\u7cfb\": \"73\",\n",
      "    \"\\u6614\\u8a71\": \"177\",\n",
      "    \"\\u661f\": \"193\",\n",
      "    \"\\u6620\\u753b\": \"194\",\n",
      "    \"\\u6625\": \"197\",\n",
      "    \"\\u662d\\u548c\": \"68\",\n",
      "    \"\\u6700\\u5f37\": \"4\",\n",
      "    \"\\u6708\": \"56\",\n",
      "    \"\\u672a\\u6765\": \"145\",\n",
      "    \"\\u67b6\\u7a7a\\u6226\\u8a18\": \"195\",\n",
      "    \"\\u683c\\u95d8\\u6280\": \"159\",\n",
      "    \"\\u685c\": \"52\",\n",
      "    \"\\u6b73\\u306e\\u5dee\": \"286\",\n",
      "    \"\\u6b74\\u53f2\": \"104\",\n",
      "    \"\\u6b7b\": \"146\",\n",
      "    \"\\u6b7b\\u795e\": \"243\",\n",
      "    \"\\u6bba\\u4eba\": \"130\",\n",
      "    \"\\u6c5f\\u6238\\u6642\\u4ee3\": \"187\",\n",
      "    \"\\u6ce3\\u3051\\u308b\": \"171\",\n",
      "    \"\\u6d6e\\u6c17\": \"296\",\n",
      "    \"\\u6d77\": \"48\",\n",
      "    \"\\u6eba\\u611b\": \"282\",\n",
      "    \"\\u7121\\u53cc\": \"106\",\n",
      "    \"\\u7247\\u601d\\u3044\": \"298\",\n",
      "    \"\\u7247\\u60f3\\u3044\": \"298\",\n",
      "    \"\\u72ac\": \"209\",\n",
      "    \"\\u72c2\\u6c17\": \"27\",\n",
      "    \"\\u732b\": \"208\",\n",
      "    \"\\u7363\\u4eba\": \"238\",\n",
      "    \"\\u738b\\u5973\": \"273\",\n",
      "    \"\\u738b\\u5b50\": \"229\",\n",
      "    \"\\u738b\\u9053\": \"151\",\n",
      "    \"\\u73fe\\u4ee3\": \"80\",\n",
      "    \"\\u73fe\\u4ee3\\u30d5\\u30a1\\u30f3\\u30bf\\u30b8\\u30fc\": \"97\",\n",
      "    \"\\u73fe\\u4ee3\\u65e5\\u672c\": \"169\",\n",
      "    \"\\u7518\\u3005\": \"306\",\n",
      "    \"\\u7530\\u820e\": \"153\",\n",
      "    \"\\u7537\\u306e\\u5a18\": \"235\",\n",
      "    \"\\u7537\\u4e3b\\u4eba\\u516c\": \"1\",\n",
      "    \"\\u7537\\u5973\": \"300\",\n",
      "    \"\\u7537\\u6027\\u4e3b\\u4eba\\u516c\": \"1\",\n",
      "    \"\\u7537\\u6027\\u5411\\u3051\": \"200\",\n",
      "    \"\\u7570\\u4e16\\u754c\": \"70\",\n",
      "    \"\\u7570\\u4e16\\u754c\\u30d5\\u30a1\\u30f3\\u30bf\\u30b8\\u30fc\": \"70\",\n",
      "    \"\\u7570\\u4e16\\u754c\\u53ec\\u559a\": \"70\",\n",
      "    \"\\u7570\\u4e16\\u754c\\u8ee2\\u751f\": \"70\",\n",
      "    \"\\u7570\\u4e16\\u754c\\u8ee2\\u79fb\": \"70\",\n",
      "    \"\\u7570\\u80fd\": \"42\",\n",
      "    \"\\u7570\\u80fd\\u30d0\\u30c8\\u30eb\": \"42\",\n",
      "    \"\\u7570\\u80fd\\u529b\": \"42\",\n",
      "    \"\\u7570\\u80fd\\u529b\\u30d0\\u30c8\\u30eb\": \"42\",\n",
      "    \"\\u7570\\u985e\\u5a5a\\u59fb\\u8b5a\": \"311\",\n",
      "    \"\\u75c5\\u6c17\": \"186\",\n",
      "    \"\\u75c5\\u9662\": \"62\",\n",
      "    \"\\u767e\\u5408\": \"284\",\n",
      "    \"\\u76f4\\u89b3\": \"64\",\n",
      "    \"\\u793e\\u4f1a\\u4eba\": \"18\",\n",
      "    \"\\u793e\\u4f1a\\u4eba\\u767e\\u5408\": \"305\",\n",
      "    \"\\u795e\": \"224\",\n",
      "    \"\\u795e\\u69d8\": \"224\",\n",
      "    \"\\u795e\\u793e\": \"59\",\n",
      "    \"\\u795e\\u8a71\": \"82\",\n",
      "    \"\\u79d1\\u5b66\": \"170\",\n",
      "    \"\\u79d8\\u5bc6\": \"191\",\n",
      "    \"\\u7adc\": \"221\",\n",
      "    \"\\u7b11\\u3044\": \"154\",\n",
      "    \"\\u7cbe\\u970a\": \"230\",\n",
      "    \"\\u7d14\\u611b\": \"291\",\n",
      "    \"\\u7d42\\u672b\": \"174\",\n",
      "    \"\\u7d50\\u5a5a\": \"287\",\n",
      "    \"\\u7f8e\\u5c11\\u5973\": \"259\",\n",
      "    \"\\u7fa4\\u50cf\\u5287\": \"99\",\n",
      "    \"\\u7fa9\\u59b9\": \"270\",\n",
      "    \"\\u8056\\u5973\": \"25\",\n",
      "    \"\\u80fd\\u529b\": \"42\",\n",
      "    \"\\u81ea\\u6bba\": \"297\",\n",
      "    \"\\u82b1\": \"60\",\n",
      "    \"\\u82b1\\u8a00\\u8449\": \"67\",\n",
      "    \"\\u82f1\\u96c4\": \"32\",\n",
      "    \"\\u88cf\\u5207\\u308a\": \"178\",\n",
      "    \"\\u89aa\\u53cb\": \"245\",\n",
      "    \"\\u89aa\\u5b50\": \"212\",\n",
      "    \"\\u8a18\\u61b6\": \"166\",\n",
      "    \"\\u8a18\\u61b6\\u55aa\\u5931\": \"26\",\n",
      "    \"\\u8b0e\\u89e3\\u304d\": \"133\",\n",
      "    \"\\u8b66\\u5bdf\": \"240\",\n",
      "    \"\\u8cb4\\u65cf\": \"227\",\n",
      "    \"\\u8d70\\u308b\": \"189\",\n",
      "    \"\\u8d85\\u80fd\\u529b\": \"42\",\n",
      "    \"\\u8eab\\u5206\\u5dee\": \"290\",\n",
      "    \"\\u8ee2\\u751f\": \"70\",\n",
      "    \"\\u8ee2\\u79fb\": \"70\",\n",
      "    \"\\u8fd1\\u672a\\u6765\": \"94\",\n",
      "    \"\\u8ffd\\u653e\": \"88\",\n",
      "    \"\\u90e8\\u6d3b\": \"47\",\n",
      "    \"\\u90fd\\u5e02\\u4f1d\\u8aac\": \"135\",\n",
      "    \"\\u91ce\\u7403\": \"55\",\n",
      "    \"\\u9283\": \"53\",\n",
      "    \"\\u932c\\u91d1\\u8853\": \"61\",\n",
      "    \"\\u9670\\u30ad\\u30e3\": \"34\",\n",
      "    \"\\u9670\\u967d\\u5e2b\": \"35\",\n",
      "    \"\\u96e8\": \"85\",\n",
      "    \"\\u96ea\": \"164\",\n",
      "    \"\\u96fb\\u8eca\": \"63\",\n",
      "    \"\\u9752\\u6625\": \"71\",\n",
      "    \"\\u97f3\\u697d\": \"44\",\n",
      "    \"\\u98ef\\u30c6\\u30ed\": \"152\",\n",
      "    \"\\u9a0e\\u58eb\": \"222\",\n",
      "    \"\\u9ad8\\u6821\": \"45\",\n",
      "    \"\\u9ad8\\u6821\\u751f\": \"20\",\n",
      "    \"\\u9b3c\": \"237\",\n",
      "    \"\\u9b54\\u5973\": \"266\",\n",
      "    \"\\u9b54\\u6cd5\": \"39\",\n",
      "    \"\\u9b54\\u6cd5\\u4f7f\\u3044\": \"267\",\n",
      "    \"\\u9b54\\u6cd5\\u5c11\\u5973\": \"268\",\n",
      "    \"\\u9b54\\u7269\": \"215\",\n",
      "    \"\\u9b54\\u738b\": \"203\",\n",
      "    \"\\u9b54\\u8853\": \"7\",\n",
      "    \"\\u9b54\\u8853\\u5e2b\": \"251\"\n",
      "  },\n",
      "  \"layer_norm_eps\": 1e-12,\n",
      "  \"max_position_embeddings\": 512,\n",
      "  \"model_type\": \"bert\",\n",
      "  \"num_attention_heads\": 12,\n",
      "  \"num_hidden_layers\": 12,\n",
      "  \"pad_token_id\": 0,\n",
      "  \"position_embedding_type\": \"absolute\",\n",
      "  \"problem_type\": \"multi_label_classidication\",\n",
      "  \"tokenizer_class\": \"BertJapaneseTokenizer\",\n",
      "  \"transformers_version\": \"4.19.2\",\n",
      "  \"type_vocab_size\": 2,\n",
      "  \"use_cache\": true,\n",
      "  \"vocab_size\": 32000\n",
      "}\n",
      "\n",
      "loading weights file https://huggingface.co/cl-tohoku/bert-base-japanese-whole-word-masking/resolve/main/pytorch_model.bin from cache at C:\\Users\\User/.cache\\huggingface\\transformers\\cabd9bbd81093f4c494a02e34eb57e405b7564db216404108c8e8caf10ede4fa.464b54997e35e3cc3223ba6d7f0abdaeb7be5b7648f275f57d839ee0f95611fb\n",
      "Some weights of the model checkpoint at cl-tohoku/bert-base-japanese-whole-word-masking were not used when initializing BertForSequenceClassification: ['cls.seq_relationship.weight', 'cls.predictions.transform.dense.bias', 'cls.predictions.bias', 'cls.predictions.transform.dense.weight', 'cls.predictions.transform.LayerNorm.bias', 'cls.seq_relationship.bias', 'cls.predictions.transform.LayerNorm.weight', 'cls.predictions.decoder.weight']\n",
      "- This IS expected if you are initializing BertForSequenceClassification from the checkpoint of a model trained on another task or with another architecture (e.g. initializing a BertForSequenceClassification model from a BertForPreTraining model).\n",
      "- This IS NOT expected if you are initializing BertForSequenceClassification from the checkpoint of a model that you expect to be exactly identical (initializing a BertForSequenceClassification model from a BertForSequenceClassification model).\n",
      "Some weights of BertForSequenceClassification were not initialized from the model checkpoint at cl-tohoku/bert-base-japanese-whole-word-masking and are newly initialized: ['classifier.weight', 'classifier.bias']\n",
      "You should probably TRAIN this model on a down-stream task to be able to use it for predictions and inference.\n"
     ]
    }
   ],
   "source": [
    "from transformers import AutoModelForSequenceClassification\n",
    "\n",
    "model = AutoModelForSequenceClassification.from_pretrained(\n",
    "    \"cl-tohoku/bert-base-japanese-whole-word-masking\", \n",
    "    problem_type=\"multi_label_classidication\", \n",
    "    num_labels=len(ids),\n",
    "    id2label=id2label,\n",
    "    label2id=label2id\n",
    ")"
   ]
  },
  {
   "cell_type": "code",
   "execution_count": 69,
   "id": "7b710fb5-a833-4501-b686-72db91d063e5",
   "metadata": {},
   "outputs": [],
   "source": [
    "batch_size = 4\n",
    "metric_name = \"f1\""
   ]
  },
  {
   "cell_type": "code",
   "execution_count": 70,
   "id": "b9be031c-4544-418d-818c-7752e362da00",
   "metadata": {},
   "outputs": [
    {
     "name": "stderr",
     "output_type": "stream",
     "text": [
      "PyTorch: setting up devices\n",
      "The default value for the training argument `--report_to` will change in v5 (from all installed integrations to none). In v5, you will need to use `--report_to all` to get the same behavior as now. You should start updating your code and make this info disappear :-).\n"
     ]
    }
   ],
   "source": [
    "from transformers import TrainingArguments, Trainer\n",
    "\n",
    "args = TrainingArguments(\n",
    "    f\"bert-finetuned-sem_eval-japanese\",\n",
    "    evaluation_strategy = \"epoch\",\n",
    "    save_strategy = \"epoch\",\n",
    "    learning_rate = 2e-5,\n",
    "    per_device_train_batch_size=batch_size,\n",
    "    per_device_eval_batch_size=batch_size,\n",
    "    num_train_epochs=5,\n",
    "    weight_decay=0.01,\n",
    "    load_best_model_at_end=True,\n",
    "    metric_for_best_model=metric_name\n",
    ")"
   ]
  },
  {
   "cell_type": "code",
   "execution_count": 71,
   "id": "3ca52f27-3efb-40b3-83b1-e5fca4b4ee72",
   "metadata": {},
   "outputs": [],
   "source": [
    "from sklearn.metrics import f1_score, roc_auc_score, accuracy_score\n",
    "from transformers import EvalPrediction\n",
    "import torch\n",
    "\n",
    "def multi_label_metrics(pred, labels, threshold=0.5):\n",
    "    sigmoid = torch.nn.sigmoid()\n",
    "    probs = sigmoid(torch.Tensor(pred))\n",
    "    \n",
    "    y_pred = np.zeros(probs.shape)\n",
    "    y_pred[np.where(probs >= threshold)] = 1\n",
    "    \n",
    "    y_true = labels\n",
    "    f1_micro_average = f1_score(y_true=y_true, y_pred=y_pred, average='micro')\n",
    "    roc_auc = roc_auc_score(y_true, y_pred, average = 'micro')\n",
    "    accuracy = accuracy_score(y_true, y_pred)\n",
    "    \n",
    "    metrics = {'f1': f1_micro_average,\n",
    "               'roc_auc': roc_auc,\n",
    "               'accuracy': accuracy}\n",
    "    return metrics\n",
    "\n",
    "def compute_metrics(p: EvalPrediction):\n",
    "    preds = p.predictions[0] if isinstance(p.predictions, tuple) else p.predictions\n",
    "    result = multi_label_metrics(predictions=preds, labels=p.label_ids)\n",
    "    return result"
   ]
  },
  {
   "cell_type": "code",
   "execution_count": 72,
   "id": "bc18131e-1a6e-4aab-a1a6-81f1c4c5764e",
   "metadata": {},
   "outputs": [
    {
     "data": {
      "text/plain": [
       "'torch.LongTensor'"
      ]
     },
     "execution_count": 72,
     "metadata": {},
     "output_type": "execute_result"
    }
   ],
   "source": [
    "encoding_dataset['train'][0]['labels'].type()"
   ]
  },
  {
   "cell_type": "code",
   "execution_count": 73,
   "id": "372c7a16-e943-4952-80bc-21a1399ba2d5",
   "metadata": {},
   "outputs": [
    {
     "data": {
      "text/plain": [
       "tensor([    2, 12660, 11216, 12660, 11216, 10531, 30239, 30239,  8419, 28504,\n",
       "         2532,  1074,     5,   419,    11,  6296,   895,  7913,     9, 25814,\n",
       "        29179, 28504,  3251,     5,    51,     6, 19314, 17038,    13,  2147,\n",
       "           11, 17472,    16,    21,    10,     8,    36,    23,  2575,    45,\n",
       "            9,   143,   143,   143,   143,   143,   143,  1037,    28,  6013,\n",
       "           10,    18,   143,   143,   143,   143,   143,   143,    24,    38,\n",
       "          373,     6,  2502,  2708,    16,   546,    16,    28, 25402, 28462,\n",
       "        13579,     9,  6013,    10,     8,  8390,    10,  4726,     7,  1878,\n",
       "         7244, 20606,  3741,    14,     6,  7913,     5,   287, 29115,   240,\n",
       "           19,     5,  5386,    11, 27964, 28489,   124,     7,  4896, 28614,\n",
       "        22159,    12,   861,     8,  7913,    45,    63,   240,  1605,    65,\n",
       "            9,     6,  4910,    13,  1782,     5,   755,    53,  2283,     8,\n",
       "           75,    14,     6,  2283,    13,     5,  1883,     9, 23223,   838,\n",
       "          332,     6,  3669,    12,    31,  7913,     9,  7789, 28491,    20,\n",
       "           16,    21,    10,     8,  4910,     9,  1380,     5,  3614,  1782,\n",
       "           11, 16617, 29102,    15,     6,  1037,    28,    29,    28,    14,\n",
       "         1982,    18,  7913,     7,     9,  7216, 31805,     7,  9436,    16,\n",
       "           21,    10,     8,   893,   193,     5,  1782,     9,  4590,    71,\n",
       "           16, 18730,    13,  1653,  1058,  4027,     5,  6868,    12,  4508,\n",
       "           13,    28,  5693, 28778,     5,  8408,  2502,    11,    15,    16,\n",
       "           21,    10,     8,    36,    23,  2340,   143,   143,   143,   143,\n",
       "          143,   143,  2575,    29,   143,   143,   143,   143,   143,   143,\n",
       "           24,    38,   171,     9,  9141,    18,     6,    13,     6,  4726,\n",
       "            9,  4897, 28870,     5,     7,  1037,    13,   332, 21172,    18,\n",
       "         2827,    11,    34,     8,  7913,     9, 22131,    15,    16, 10242,\n",
       "            7,  4089, 22159,    75,   291,     7,  6481,    40, 22820,    84,\n",
       "         9463,    11,  2911, 10596,    16,    21,    10,    40,    75,     8,\n",
       "           36, 30239, 30239,    73,  1456,  2375,   679, 13734,    15,    16,\n",
       "        16546,   679,    22, 28474,   143,   143,   143,   143,   143,   143,\n",
       "          232,     6,  2552,    14,   143,   143,   143,   143,   143,   143,\n",
       "           38,    36,  2606,     6,   614, 28512, 23133,   679,    83,     9,\n",
       "         7461,    14, 18454, 28497, 16184,    10,    18,    13,  4479,    10,\n",
       "            5,     9,     6,  7913,     5,   174,    11, 12622,    16,    21,\n",
       "           10, 11768,    11,  5135, 29177,  5558,    10,    45,    12,  1992,\n",
       "            7,  8443,    62,    45,    11,  7733,   203,    10,    45,  3635,\n",
       "        28489,     8,   143,   143,   143,   143,   143,   143,  1704, 28616,\n",
       "         4910,    13,  1782,     9,  7913,    14,  5643,    12,    28,  3640,\n",
       "          412,    14,    71,    16,  2850, 28933,   687,     8,  1778,   625,\n",
       "         2283,    18,     5,    75,     8,    36,    23,   737,     6,   171,\n",
       "           14,   918,  5359,   126,    28,  2463,  2049, 30493,   143,   143,\n",
       "          143,   143,   143,   143,   171,    14,  4231,     3,     0,     0,\n",
       "            0,     0,     0,     0,     0,     0,     0,     0,     0,     0,\n",
       "            0,     0,     0,     0,     0,     0,     0,     0,     0,     0,\n",
       "            0,     0,     0,     0,     0,     0,     0,     0,     0,     0,\n",
       "            0,     0,     0,     0,     0,     0,     0,     0,     0,     0,\n",
       "            0,     0,     0,     0,     0,     0,     0,     0,     0,     0,\n",
       "            0,     0,     0,     0,     0,     0,     0,     0,     0,     0,\n",
       "            0,     0,     0,     0,     0,     0,     0,     0,     0,     0,\n",
       "            0,     0,     0,     0,     0,     0,     0,     0,     0,     0,\n",
       "            0,     0,     0,     0,     0,     0,     0,     0,     0,     0,\n",
       "            0,     0,     0,     0,     0,     0,     0,     0,     0,     0,\n",
       "            0,     0])"
      ]
     },
     "execution_count": 73,
     "metadata": {},
     "output_type": "execute_result"
    }
   ],
   "source": [
    "encoding_dataset['train']['input_ids'][0]"
   ]
  },
  {
   "cell_type": "code",
   "execution_count": 74,
   "id": "6aaa251b-5064-4163-a4fd-01f79da39176",
   "metadata": {},
   "outputs": [
    {
     "data": {
      "text/plain": [
       "SequenceClassifierOutput(loss=None, logits=tensor([[ 0.2349,  0.2983, -0.0442,  0.4067,  0.3687,  0.1454,  0.2565,  0.1244,\n",
       "          0.3218, -0.1932, -0.0773, -0.3536,  0.3409, -0.1439, -0.3919, -0.2110,\n",
       "          0.1956,  0.0761, -0.1118,  0.1858,  0.2827,  0.2295, -0.0064,  0.3319,\n",
       "          0.3241, -0.4251,  0.2593,  0.1452,  0.0510,  0.1111, -0.1081, -0.3846,\n",
       "          0.4758,  0.0336,  0.4838, -0.9381, -0.1127, -0.0985, -0.1043, -0.2210,\n",
       "          0.4527,  0.0403,  0.0195,  0.3256, -0.3642,  0.0808, -0.1685,  0.6941,\n",
       "         -0.6792,  0.0082,  0.4325, -0.4780,  0.3547, -0.4977, -0.3839,  0.6190,\n",
       "          0.2781,  0.3483,  0.2067,  0.0149, -0.3026, -0.2004, -0.1085, -0.0598,\n",
       "         -0.0423, -0.3409, -0.1880, -0.0462,  0.3412, -0.0897,  0.2251,  0.1031,\n",
       "          0.0794, -0.2086,  0.1515, -0.5184, -0.3665, -0.1777,  0.1347,  0.1229,\n",
       "          0.2781,  0.3368, -0.5044,  0.2003, -0.3623, -0.4631,  0.0699, -0.3927,\n",
       "         -0.2346, -0.2016,  0.1203,  0.2295, -0.1724, -0.1860,  0.5009,  0.6758,\n",
       "          0.0228, -0.0122, -0.2777, -0.0309, -0.0928, -0.2380,  0.2628,  0.1735,\n",
       "          0.2091,  0.4147,  0.3895, -0.2301, -0.0573,  0.2665,  0.0482,  0.0249,\n",
       "         -0.2326,  0.1249,  0.1620,  0.2818,  0.1420, -0.0409,  0.0705, -0.2370,\n",
       "         -0.6317,  0.7203,  0.3192, -0.1385, -0.1837, -0.2585, -0.2881,  0.3114,\n",
       "          0.1915, -0.1202,  0.2083,  0.5177,  0.3414,  0.1465,  0.3513,  0.2862,\n",
       "         -0.0639,  0.0432,  0.2463, -0.4139, -0.1126,  0.0949,  0.2504, -0.0732,\n",
       "         -0.0425,  0.3029, -0.0699, -0.0781,  0.3437, -0.1281,  0.1041,  0.0774,\n",
       "          0.2376, -0.3724, -0.4476, -0.0406,  0.0696,  0.0828,  0.0500,  0.1386,\n",
       "          0.1595,  0.1988, -0.1425, -0.0298,  0.1066,  0.3895, -0.4230, -0.3437,\n",
       "         -0.1765, -0.1662, -0.3144,  0.2169,  0.0508, -0.2776, -0.0014,  0.2117,\n",
       "         -0.0894,  0.0664,  0.2205,  0.5643, -0.0292,  0.0985, -0.4735,  0.4211,\n",
       "         -0.0543, -0.4059, -0.5696, -0.2241, -0.2407,  0.0082,  0.3476,  0.0013,\n",
       "         -0.0758, -0.2216, -0.1986,  0.3587, -0.0812, -0.4770, -0.2924, -0.2643,\n",
       "          0.2798,  0.5107,  0.2241, -0.2314, -0.3610,  0.6350, -0.5330,  0.5046,\n",
       "         -0.0770, -0.0472,  0.0178, -0.1211,  0.1149,  0.1083,  0.0639, -0.0238,\n",
       "         -0.2360,  0.0199, -0.1090,  0.0442,  0.3752,  0.0223,  0.3204, -0.3056,\n",
       "          0.2089,  0.1538,  0.3155, -0.1915, -0.1280, -0.1970,  0.4231, -0.5115,\n",
       "          0.2783,  0.7651,  0.5851, -0.0732,  0.1914, -0.4550, -0.4001,  0.7237,\n",
       "         -0.3401,  0.1125,  0.0074, -0.4112,  0.2382,  0.0600,  0.3111, -0.0527,\n",
       "         -0.0161,  0.3733, -0.2201, -0.2261,  0.6712,  0.0436,  0.0606,  0.3909,\n",
       "          0.0321, -0.8080,  0.2304, -0.2787, -0.0435, -0.2282, -0.1785, -0.0662,\n",
       "         -0.0343,  0.2635, -0.3121,  0.1376, -0.1943,  0.3560,  0.3091, -0.7130,\n",
       "         -0.2935, -0.6729,  0.2311, -0.6610, -0.5107, -0.3609, -0.1043, -0.2703,\n",
       "          0.1162,  0.0104,  0.0149, -0.0455, -0.4982, -0.4202,  0.2693, -0.3859,\n",
       "          0.2450,  0.4768, -0.4922, -0.4045,  0.0870, -0.3107, -0.0943,  0.7519,\n",
       "         -0.0403,  0.2986,  0.2002,  0.4850,  0.0659, -0.0389, -0.2279, -0.0360,\n",
       "          0.2260,  0.1552, -0.2826,  0.1402,  0.0195, -0.3473, -0.2560, -0.3073]],\n",
       "       grad_fn=<AddmmBackward0>), hidden_states=None, attentions=None)"
      ]
     },
     "execution_count": 74,
     "metadata": {},
     "output_type": "execute_result"
    }
   ],
   "source": [
    "outputs = model(input_ids=encoding_dataset['train']['input_ids'][0].unsqueeze(0), labels=encoding_dataset['train'][0]['labels'].unsqueeze(0))\n",
    "outputs"
   ]
  },
  {
   "cell_type": "code",
   "execution_count": 75,
   "id": "bc278381-cdf6-433c-90fc-1cd26d6ef469",
   "metadata": {},
   "outputs": [],
   "source": [
    "trainer = Trainer(\n",
    "    model,\n",
    "    args,\n",
    "    train_dataset=encoding_dataset[\"train\"],\n",
    "    eval_dataset=encoding_dataset[\"valid\"],\n",
    "    tokenizer=tokenizer,\n",
    "    compute_metrics=compute_metrics\n",
    ")"
   ]
  },
  {
   "cell_type": "code",
   "execution_count": 76,
   "id": "d6f4d4a8-b237-46da-a8ec-1ccc8b1dc78a",
   "metadata": {},
   "outputs": [],
   "source": [
    "import torch\n",
    "torch.cuda.empty_cache()"
   ]
  },
  {
   "cell_type": "code",
   "execution_count": 77,
   "id": "9c07bab3-a97a-4cfd-b242-a86153ce78c6",
   "metadata": {},
   "outputs": [
    {
     "name": "stderr",
     "output_type": "stream",
     "text": [
      "***** Running training *****\n",
      "  Num examples = 47462\n",
      "  Num Epochs = 5\n",
      "  Instantaneous batch size per device = 4\n",
      "  Total train batch size (w. parallel, distributed & accumulation) = 4\n",
      "  Gradient Accumulation steps = 1\n",
      "  Total optimization steps = 59330\n"
     ]
    },
    {
     "ename": "KeyError",
     "evalue": "'loss'",
     "output_type": "error",
     "traceback": [
      "\u001b[1;31m---------------------------------------------------------------------------\u001b[0m",
      "\u001b[1;31mKeyError\u001b[0m                                  Traceback (most recent call last)",
      "\u001b[1;32m~\\AppData\\Local\\Temp/ipykernel_10824/4032920361.py\u001b[0m in \u001b[0;36m<module>\u001b[1;34m\u001b[0m\n\u001b[1;32m----> 1\u001b[1;33m \u001b[0mtrainer\u001b[0m\u001b[1;33m.\u001b[0m\u001b[0mtrain\u001b[0m\u001b[1;33m(\u001b[0m\u001b[1;33m)\u001b[0m\u001b[1;33m\u001b[0m\u001b[1;33m\u001b[0m\u001b[0m\n\u001b[0m",
      "\u001b[1;32m~\\anaconda3\\lib\\site-packages\\transformers\\trainer.py\u001b[0m in \u001b[0;36mtrain\u001b[1;34m(self, resume_from_checkpoint, trial, ignore_keys_for_eval, **kwargs)\u001b[0m\n\u001b[0;32m   1315\u001b[0m             \u001b[0mself\u001b[0m\u001b[1;33m.\u001b[0m\u001b[0m_inner_training_loop\u001b[0m\u001b[1;33m,\u001b[0m \u001b[0mself\u001b[0m\u001b[1;33m.\u001b[0m\u001b[0m_train_batch_size\u001b[0m\u001b[1;33m,\u001b[0m \u001b[0margs\u001b[0m\u001b[1;33m.\u001b[0m\u001b[0mauto_find_batch_size\u001b[0m\u001b[1;33m\u001b[0m\u001b[1;33m\u001b[0m\u001b[0m\n\u001b[0;32m   1316\u001b[0m         )\n\u001b[1;32m-> 1317\u001b[1;33m         return inner_training_loop(\n\u001b[0m\u001b[0;32m   1318\u001b[0m             \u001b[0margs\u001b[0m\u001b[1;33m=\u001b[0m\u001b[0margs\u001b[0m\u001b[1;33m,\u001b[0m\u001b[1;33m\u001b[0m\u001b[1;33m\u001b[0m\u001b[0m\n\u001b[0;32m   1319\u001b[0m             \u001b[0mresume_from_checkpoint\u001b[0m\u001b[1;33m=\u001b[0m\u001b[0mresume_from_checkpoint\u001b[0m\u001b[1;33m,\u001b[0m\u001b[1;33m\u001b[0m\u001b[1;33m\u001b[0m\u001b[0m\n",
      "\u001b[1;32m~\\anaconda3\\lib\\site-packages\\transformers\\trainer.py\u001b[0m in \u001b[0;36m_inner_training_loop\u001b[1;34m(self, batch_size, args, resume_from_checkpoint, trial, ignore_keys_for_eval)\u001b[0m\n\u001b[0;32m   1552\u001b[0m                         \u001b[0mtr_loss_step\u001b[0m \u001b[1;33m=\u001b[0m \u001b[0mself\u001b[0m\u001b[1;33m.\u001b[0m\u001b[0mtraining_step\u001b[0m\u001b[1;33m(\u001b[0m\u001b[0mmodel\u001b[0m\u001b[1;33m,\u001b[0m \u001b[0minputs\u001b[0m\u001b[1;33m)\u001b[0m\u001b[1;33m\u001b[0m\u001b[1;33m\u001b[0m\u001b[0m\n\u001b[0;32m   1553\u001b[0m                 \u001b[1;32melse\u001b[0m\u001b[1;33m:\u001b[0m\u001b[1;33m\u001b[0m\u001b[1;33m\u001b[0m\u001b[0m\n\u001b[1;32m-> 1554\u001b[1;33m                     \u001b[0mtr_loss_step\u001b[0m \u001b[1;33m=\u001b[0m \u001b[0mself\u001b[0m\u001b[1;33m.\u001b[0m\u001b[0mtraining_step\u001b[0m\u001b[1;33m(\u001b[0m\u001b[0mmodel\u001b[0m\u001b[1;33m,\u001b[0m \u001b[0minputs\u001b[0m\u001b[1;33m)\u001b[0m\u001b[1;33m\u001b[0m\u001b[1;33m\u001b[0m\u001b[0m\n\u001b[0m\u001b[0;32m   1555\u001b[0m \u001b[1;33m\u001b[0m\u001b[0m\n\u001b[0;32m   1556\u001b[0m                 if (\n",
      "\u001b[1;32m~\\anaconda3\\lib\\site-packages\\transformers\\trainer.py\u001b[0m in \u001b[0;36mtraining_step\u001b[1;34m(self, model, inputs)\u001b[0m\n\u001b[0;32m   2181\u001b[0m \u001b[1;33m\u001b[0m\u001b[0m\n\u001b[0;32m   2182\u001b[0m         \u001b[1;32mwith\u001b[0m \u001b[0mself\u001b[0m\u001b[1;33m.\u001b[0m\u001b[0mautocast_smart_context_manager\u001b[0m\u001b[1;33m(\u001b[0m\u001b[1;33m)\u001b[0m\u001b[1;33m:\u001b[0m\u001b[1;33m\u001b[0m\u001b[1;33m\u001b[0m\u001b[0m\n\u001b[1;32m-> 2183\u001b[1;33m             \u001b[0mloss\u001b[0m \u001b[1;33m=\u001b[0m \u001b[0mself\u001b[0m\u001b[1;33m.\u001b[0m\u001b[0mcompute_loss\u001b[0m\u001b[1;33m(\u001b[0m\u001b[0mmodel\u001b[0m\u001b[1;33m,\u001b[0m \u001b[0minputs\u001b[0m\u001b[1;33m)\u001b[0m\u001b[1;33m\u001b[0m\u001b[1;33m\u001b[0m\u001b[0m\n\u001b[0m\u001b[0;32m   2184\u001b[0m \u001b[1;33m\u001b[0m\u001b[0m\n\u001b[0;32m   2185\u001b[0m         \u001b[1;32mif\u001b[0m \u001b[0mself\u001b[0m\u001b[1;33m.\u001b[0m\u001b[0margs\u001b[0m\u001b[1;33m.\u001b[0m\u001b[0mn_gpu\u001b[0m \u001b[1;33m>\u001b[0m \u001b[1;36m1\u001b[0m\u001b[1;33m:\u001b[0m\u001b[1;33m\u001b[0m\u001b[1;33m\u001b[0m\u001b[0m\n",
      "\u001b[1;32m~\\anaconda3\\lib\\site-packages\\transformers\\trainer.py\u001b[0m in \u001b[0;36mcompute_loss\u001b[1;34m(self, model, inputs, return_outputs)\u001b[0m\n\u001b[0;32m   2223\u001b[0m         \u001b[1;32melse\u001b[0m\u001b[1;33m:\u001b[0m\u001b[1;33m\u001b[0m\u001b[1;33m\u001b[0m\u001b[0m\n\u001b[0;32m   2224\u001b[0m             \u001b[1;31m# We don't use .loss here since the model may return tuples instead of ModelOutput.\u001b[0m\u001b[1;33m\u001b[0m\u001b[1;33m\u001b[0m\u001b[0m\n\u001b[1;32m-> 2225\u001b[1;33m             \u001b[0mloss\u001b[0m \u001b[1;33m=\u001b[0m \u001b[0moutputs\u001b[0m\u001b[1;33m[\u001b[0m\u001b[1;34m\"loss\"\u001b[0m\u001b[1;33m]\u001b[0m \u001b[1;32mif\u001b[0m \u001b[0misinstance\u001b[0m\u001b[1;33m(\u001b[0m\u001b[0moutputs\u001b[0m\u001b[1;33m,\u001b[0m \u001b[0mdict\u001b[0m\u001b[1;33m)\u001b[0m \u001b[1;32melse\u001b[0m \u001b[0moutputs\u001b[0m\u001b[1;33m[\u001b[0m\u001b[1;36m0\u001b[0m\u001b[1;33m]\u001b[0m\u001b[1;33m\u001b[0m\u001b[1;33m\u001b[0m\u001b[0m\n\u001b[0m\u001b[0;32m   2226\u001b[0m \u001b[1;33m\u001b[0m\u001b[0m\n\u001b[0;32m   2227\u001b[0m         \u001b[1;32mreturn\u001b[0m \u001b[1;33m(\u001b[0m\u001b[0mloss\u001b[0m\u001b[1;33m,\u001b[0m \u001b[0moutputs\u001b[0m\u001b[1;33m)\u001b[0m \u001b[1;32mif\u001b[0m \u001b[0mreturn_outputs\u001b[0m \u001b[1;32melse\u001b[0m \u001b[0mloss\u001b[0m\u001b[1;33m\u001b[0m\u001b[1;33m\u001b[0m\u001b[0m\n",
      "\u001b[1;32m~\\anaconda3\\lib\\site-packages\\transformers\\utils\\generic.py\u001b[0m in \u001b[0;36m__getitem__\u001b[1;34m(self, k)\u001b[0m\n\u001b[0;32m    218\u001b[0m         \u001b[1;32mif\u001b[0m \u001b[0misinstance\u001b[0m\u001b[1;33m(\u001b[0m\u001b[0mk\u001b[0m\u001b[1;33m,\u001b[0m \u001b[0mstr\u001b[0m\u001b[1;33m)\u001b[0m\u001b[1;33m:\u001b[0m\u001b[1;33m\u001b[0m\u001b[1;33m\u001b[0m\u001b[0m\n\u001b[0;32m    219\u001b[0m             \u001b[0minner_dict\u001b[0m \u001b[1;33m=\u001b[0m \u001b[1;33m{\u001b[0m\u001b[0mk\u001b[0m\u001b[1;33m:\u001b[0m \u001b[0mv\u001b[0m \u001b[1;32mfor\u001b[0m \u001b[1;33m(\u001b[0m\u001b[0mk\u001b[0m\u001b[1;33m,\u001b[0m \u001b[0mv\u001b[0m\u001b[1;33m)\u001b[0m \u001b[1;32min\u001b[0m \u001b[0mself\u001b[0m\u001b[1;33m.\u001b[0m\u001b[0mitems\u001b[0m\u001b[1;33m(\u001b[0m\u001b[1;33m)\u001b[0m\u001b[1;33m}\u001b[0m\u001b[1;33m\u001b[0m\u001b[1;33m\u001b[0m\u001b[0m\n\u001b[1;32m--> 220\u001b[1;33m             \u001b[1;32mreturn\u001b[0m \u001b[0minner_dict\u001b[0m\u001b[1;33m[\u001b[0m\u001b[0mk\u001b[0m\u001b[1;33m]\u001b[0m\u001b[1;33m\u001b[0m\u001b[1;33m\u001b[0m\u001b[0m\n\u001b[0m\u001b[0;32m    221\u001b[0m         \u001b[1;32melse\u001b[0m\u001b[1;33m:\u001b[0m\u001b[1;33m\u001b[0m\u001b[1;33m\u001b[0m\u001b[0m\n\u001b[0;32m    222\u001b[0m             \u001b[1;32mreturn\u001b[0m \u001b[0mself\u001b[0m\u001b[1;33m.\u001b[0m\u001b[0mto_tuple\u001b[0m\u001b[1;33m(\u001b[0m\u001b[1;33m)\u001b[0m\u001b[1;33m[\u001b[0m\u001b[0mk\u001b[0m\u001b[1;33m]\u001b[0m\u001b[1;33m\u001b[0m\u001b[1;33m\u001b[0m\u001b[0m\n",
      "\u001b[1;31mKeyError\u001b[0m: 'loss'"
     ]
    }
   ],
   "source": [
    "trainer.train()"
   ]
  },
  {
   "cell_type": "code",
   "execution_count": null,
   "id": "98b9fcc4-15ba-4b94-bc07-66b563d90052",
   "metadata": {},
   "outputs": [],
   "source": []
  }
 ],
 "metadata": {
  "kernelspec": {
   "display_name": "Python 3 (ipykernel)",
   "language": "python",
   "name": "python3"
  },
  "language_info": {
   "codemirror_mode": {
    "name": "ipython",
    "version": 3
   },
   "file_extension": ".py",
   "mimetype": "text/x-python",
   "name": "python",
   "nbconvert_exporter": "python",
   "pygments_lexer": "ipython3",
   "version": "3.9.7"
  }
 },
 "nbformat": 4,
 "nbformat_minor": 5
}
